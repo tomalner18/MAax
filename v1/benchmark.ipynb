{
 "cells": [
  {
   "cell_type": "code",
   "execution_count": null,
   "metadata": {},
   "outputs": [],
   "source": [
    "import functools\n",
    "import time\n",
    "\n",
    "from IPython.display import HTML, Image\n",
    "import gym\n",
    "\n",
    "import brax.v1 as brax\n",
    "\n",
    "from brax.v1.physics import config_pb2\n",
    "\n",
    "\n",
    "from brax.v1 import envs\n",
    "from brax.v1.io import html\n",
    "import jax\n",
    "from jax import numpy as jnp\n",
    "from jax import random\n",
    "\n",
    "from builder import *\n",
    "from builder import distribute\n",
    "from builder.spawn import Spawner\n",
    "\n",
    "import time\n",
    "import json"
   ]
  },
  {
   "cell_type": "code",
   "execution_count": null,
   "metadata": {},
   "outputs": [],
   "source": [
    "seed = 42\n",
    "key = random.PRNGKey(42)"
   ]
  },
  {
   "cell_type": "code",
   "execution_count": null,
   "metadata": {},
   "outputs": [],
   "source": [
    "def add_agent(config, agent_mass=1.0, radius=0.5):\n",
    "    # Add the agent body\n",
    "    agent = config.bodies.add(name='agent')\n",
    "    sph = agent.colliders.add().sphere\n",
    "    sph.radius = radius\n",
    "    agent.mass = agent_mass\n",
    "    # agent.damping = 1e-2\n",
    "    # agent.friction = 0.6\n",
    "\n",
    "\n",
    "# Adds joint for rolling the agent\n",
    "def add_joint(config):\n",
    "    joint = config.joints.add(name='rolling')\n",
    "    joint.parent = 'ground'\n",
    "    joint.child = 'agent'\n",
    "    joint.angle = -1.57\n",
    "    joint.twist = 1.0\n",
    "    joint.limit.velocity = 100.0\n",
    "    joint.limit.torque = 100.0\n",
    "    joint.spring.stiffness = 1e5\n",
    "\n",
    "\n",
    "def add_objects(config, key, object_count, cube_mass=1.0, cube_halfsize=0.5):\n",
    "    key, *subkeys = random.split(key, object_count + 1)\n",
    "    for i in range(object_count):\n",
    "        cube = config.bodies.add(name=f'cube_{i}')\n",
    "        box = cube.colliders.add().box\n",
    "        box.halfsize.x = 0.5\n",
    "        box.halfsize.y = 0.5\n",
    "        box.halfsize.z = 0.5\n",
    "        cube.mass = cube_mass\n",
    "\n",
    "\n",
    "def distribute_objects(config, key, object_count):\n",
    "    default = config.defaults.add()\n",
    "    key, *subkeys = random.split(key, object_count + 1)\n",
    "    for i in range(object_count):\n",
    "        qp = default.qps.add(name=f'cube_{i}')\n",
    "        qp.pos.x = random.uniform(key=subkeys[i], minval=-10, maxval=10)\n",
    "        qp.pos.y = random.uniform(key=subkeys[i], minval=-10, maxval=10)\n",
    "        qp.pos.z = random.uniform(key=subkeys[i], minval=0, maxval=4)"
   ]
  },
  {
   "cell_type": "code",
   "execution_count": null,
   "metadata": {},
   "outputs": [],
   "source": [
    "def create_config():\n",
    "    # Define the environment config.\n",
    "    sphere_maze = brax.Config(dt=0.01, substeps=2, dynamics_mode='pbd')\n",
    "    \n",
    "\n",
    "\n",
    "    sphere_maze.gravity.x = 0.0\n",
    "    sphere_maze.gravity.y = 0.0\n",
    "    sphere_maze.gravity.z = -9.8\n",
    "\n",
    "    # Add the ground, a frozen (immovable) infinite plane\n",
    "    ground = sphere_maze.bodies.add(name='ground')\n",
    "    ground.frozen.all = True\n",
    "    plane = ground.colliders.add().plane\n",
    "    plane.SetInParent()  # for setting an empty oneof\n",
    "\n",
    "    # Add the agent body\n",
    "    add_agent(sphere_maze)\n",
    "\n",
    "    # # Add the cubes.\n",
    "    # add_objects(sphere_maze, key, object_count=object_count)\n",
    "    # distribute_objects(sphere_maze, key, object_count=object_count)\n",
    "\n",
    "    return sphere_maze"
   ]
  },
  {
   "cell_type": "code",
   "execution_count": null,
   "metadata": {},
   "outputs": [],
   "source": [
    "# Set the actions\n",
    "def set_action(env, action):\n",
    "    torque = jnp.array([0., 0., action[0]])\n",
    "    env.physics.forces['agent', 'rolling'].max_torque = jnp.abs(torque)\n",
    "    env.physics.forces['agent', 'rolling'].torque = torque\n",
    "\n",
    "def gen_vis(config):\n",
    "    # Create a visualization\n",
    "    vis_config = html.Config.from_config(config)\n",
    "    vis_config.side_length = 15\n",
    "    vis = html.Visualization(vis_config)\n",
    "    return vis"
   ]
  },
  {
   "cell_type": "code",
   "execution_count": null,
   "metadata": {},
   "outputs": [],
   "source": [
    "# Benchmarking params\n",
    "horizon = 1000\n",
    "separation = 3\n",
    "iterations = 6\n",
    "env_dims = [(5, 5), (10, 10), (15, 15), (20, 20), (25, 25), (30, 30), (40, 40), (50, 50)]"
   ]
  },
  {
   "cell_type": "code",
   "execution_count": null,
   "metadata": {},
   "outputs": [],
   "source": [
    "spawn_times = dict()\n",
    "load_times = dict()\n",
    "step_times = dict()\n",
    "rollout_times = dict()"
   ]
  },
  {
   "cell_type": "code",
   "execution_count": null,
   "metadata": {},
   "outputs": [],
   "source": [
    "for j in range(iterations):\n",
    "    print(\"Iteration: \", j)\n",
    "    for dim in env_dims:\n",
    "        print(\"Env dim: \", dim)\n",
    "        config = create_config()\n",
    "\n",
    "        st = time.time()\n",
    "        # Distribute the objects\n",
    "        spawner = Spawner(env_dim=dim)\n",
    "        spawner.spawn_objects(config, key, dim, separation=5, obj_type=\"box\", method=\"poisson\")\n",
    "        spawn_time = time.time() - st\n",
    "\n",
    "        # Loading the system\n",
    "        sys = brax.System(config=config)\n",
    "        qps = [sys.default_qp()]\n",
    "        load_time = time.time() - spawn_time - st\n",
    "\n",
    "        jit_step_fn = jax.jit(sys.step)\n",
    "        step_time = time.time() - load_time - spawn_time - st\n",
    "        for i in range(horizon):\n",
    "            act = random.uniform(key, (1, 3), minval=-1, maxval=1)\n",
    "            key, _ = random.split(key)\n",
    "            qp, _ = jit_step_fn(qps[-1], act)\n",
    "            qps.append(qp)\n",
    "        rollout_time = time.time() - step_time - load_time - spawn_time - st\n",
    "\n",
    "\n",
    "        # Add to dicts\n",
    "        if spawn_time not in spawn_times:\n",
    "            spawn_times[dim] = [spawn_time]\n",
    "        else:\n",
    "            spawn_times[dim].append(spawn_time)\n",
    "\n",
    "        if load_time not in load_times:\n",
    "            load_times[dim] = [load_time]\n",
    "        else:\n",
    "            load_times[dim].append(load_time)\n",
    "\n",
    "        if step_time not in step_times:\n",
    "            step_times[dim] = [step_time]\n",
    "        else:\n",
    "            step_times[dim].append(step_time)\n",
    "\n",
    "        if rollout_time not in rollout_times:\n",
    "            rollout_times[dim] = [rollout_time]\n",
    "        else:\n",
    "            rollout_times[dim].append(rollout_time)\n"
   ]
  },
  {
   "cell_type": "code",
   "execution_count": null,
   "metadata": {},
   "outputs": [],
   "source": [
    "# Save dicitonaries to json files\n",
    "\n",
    "with open('spawn_times.json', 'w') as fp:\n",
    "    json.dump(spawn_times, fp)\n",
    "\n",
    "with open('load_times.json', 'w') as fp:\n",
    "    json.dump(load_times, fp)\n",
    "\n",
    "with open('step_times.json', 'w') as fp:\n",
    "    json.dump(step_times, fp)\n",
    "\n",
    "with open('rollout_times.json', 'w') as fp:\n",
    "    json.dump(rollout_times, fp)"
   ]
  },
  {
   "cell_type": "code",
   "execution_count": null,
   "metadata": {},
   "outputs": [],
   "source": [
    "# HTML(html.render(sys, qps, height=800))"
   ]
  },
  {
   "cell_type": "code",
   "execution_count": null,
   "metadata": {},
   "outputs": [],
   "source": [
    "# html.save_html('v1.html', sys, qps)"
   ]
  }
 ],
 "metadata": {
  "kernelspec": {
   "display_name": "Python 3.10.7 ('maax_venv': venv)",
   "language": "python",
   "name": "python3"
  },
  "language_info": {
   "codemirror_mode": {
    "name": "ipython",
    "version": 3
   },
   "file_extension": ".py",
   "mimetype": "text/x-python",
   "name": "python",
   "nbconvert_exporter": "python",
   "pygments_lexer": "ipython3",
   "version": "3.10.7"
  },
  "orig_nbformat": 4,
  "vscode": {
   "interpreter": {
    "hash": "d286b5a782650f2d9ae8fe3e234d77a318fcb8a23bb1ca21ad01d6849611a0dc"
   }
  }
 },
 "nbformat": 4,
 "nbformat_minor": 2
}
