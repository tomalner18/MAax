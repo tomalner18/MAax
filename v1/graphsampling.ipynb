{
 "cells": [
  {
   "cell_type": "code",
   "execution_count": 1,
   "metadata": {},
   "outputs": [],
   "source": [
    "import os, sys\n",
    "sys.path.append('/rds/general/user/tla19/home/FYP/MAax')"
   ]
  },
  {
   "cell_type": "code",
   "execution_count": 2,
   "metadata": {},
   "outputs": [],
   "source": [
    "import json\n",
    "import matplotlib.pyplot as plt\n",
    "import numpy as np"
   ]
  },
  {
   "cell_type": "code",
   "execution_count": 3,
   "metadata": {},
   "outputs": [],
   "source": [
    "# Read JSON files\n",
    "with open('poisson_times.json', 'r') as f1, open('random_times.json', 'r') as f2:\n",
    "    poisson_data = json.load(f1)\n",
    "    random_data = json.load(f2)"
   ]
  },
  {
   "cell_type": "code",
   "execution_count": 4,
   "metadata": {},
   "outputs": [],
   "source": [
    "# Extract the sizes and corresponding rollout and spawn times\n",
    "dims = list(poisson_data.keys())\n",
    "poisson_values = list(poisson_data.values())\n",
    "random_values = list(random_data.values())"
   ]
  },
  {
   "cell_type": "code",
   "execution_count": 5,
   "metadata": {},
   "outputs": [],
   "source": [
    "mean_poisson = []\n",
    "mean_random = []\n",
    "std_poisson = []\n",
    "std_random = []\n",
    "\n",
    "\n",
    "for dim in dims:\n",
    "    p_time = poisson_data[dim]\n",
    "    r_time = random_data[dim]\n",
    "\n",
    "    p_mean = np.mean(p_time)\n",
    "    r_mean = np.mean(r_time)\n",
    "\n",
    "    p_std = np.std(p_time)\n",
    "    r_std = np.std(r_time)\n",
    "\n",
    "    mean_poisson.append(p_mean)\n",
    "    mean_random.append(r_mean)\n",
    "\n",
    "    std_poisson.append(p_std)\n",
    "    std_random.append(r_std)\n"
   ]
  },
  {
   "cell_type": "code",
   "execution_count": 6,
   "metadata": {},
   "outputs": [
    {
     "name": "stdout",
     "output_type": "stream",
     "text": [
      "[5, 10, 15, 20, 25, 30, 40, 60, 100]\n"
     ]
    }
   ],
   "source": [
    "dims = list(map(int, dims))\n",
    "print(dims)"
   ]
  },
  {
   "cell_type": "code",
   "execution_count": 11,
   "metadata": {},
   "outputs": [
    {
     "data": {
      "image/png": "[encoded data removed]",
      "text/plain": [
       "<Figure size 432x288 with 1 Axes>"
      ]
     },
     "metadata": {
      "needs_background": "light"
     },
     "output_type": "display_data"
    }
   ],
   "source": [
    "# Plotting\n",
    "plt.plot(dims, mean_poisson, label='Poisson Sampling', marker='o', color='green')\n",
    "plt.plot(dims, mean_random, label='Naive Random', marker='o', color='purple')\n",
    "# plt.fill_between(dims, np.array(mean_poisson) - np.array(std_poisson),\n",
    "#                  np.array(mean_poisson) + np.array(std_poisson),\n",
    "#                  alpha=0.15, color='orange')\n",
    "# plt.fill_between(dims, np.array(mean_random) - np.array(std_random),\n",
    "#                  np.array(mean_random) + np.array(std_random),\n",
    "#                  alpha=0.15, color='red')\n",
    "plt.xlabel('Environment Dimension')\n",
    "plt.ylabel('Run-time')\n",
    "plt.legend()\n",
    "plt.savefig('poissonvnaive.png')\n",
    "plt.show()"
   ]
  },
  {
   "cell_type": "code",
   "execution_count": 8,
   "metadata": {},
   "outputs": [
    {
     "ename": "NameError",
     "evalue": "name 'dims_c' is not defined",
     "output_type": "error",
     "traceback": [
      "\u001b[0;31m---------------------------------------------------------------------------\u001b[0m",
      "\u001b[0;31mNameError\u001b[0m                                 Traceback (most recent call last)",
      "\u001b[0;32m<ipython-input-8-01d8d974942e>\u001b[0m in \u001b[0;36m<module>\u001b[0;34m\u001b[0m\n\u001b[0;32m----> 1\u001b[0;31m \u001b[0mplt\u001b[0m\u001b[0;34m.\u001b[0m\u001b[0mplot\u001b[0m\u001b[0;34m(\u001b[0m\u001b[0mdims_c\u001b[0m\u001b[0;34m,\u001b[0m \u001b[0mmean_cnt\u001b[0m\u001b[0;34m,\u001b[0m \u001b[0mlabel\u001b[0m\u001b[0;34m=\u001b[0m\u001b[0;34m'r=3'\u001b[0m\u001b[0;34m,\u001b[0m \u001b[0mmarker\u001b[0m\u001b[0;34m=\u001b[0m\u001b[0;34m'o'\u001b[0m\u001b[0;34m,\u001b[0m \u001b[0mcolor\u001b[0m\u001b[0;34m=\u001b[0m\u001b[0;34m'green'\u001b[0m\u001b[0;34m)\u001b[0m\u001b[0;34m\u001b[0m\u001b[0;34m\u001b[0m\u001b[0m\n\u001b[0m\u001b[1;32m      2\u001b[0m plt.fill_between(dims_c, np.array(mean_cnt) - np.array(std_cnt),\n\u001b[1;32m      3\u001b[0m                  \u001b[0mnp\u001b[0m\u001b[0;34m.\u001b[0m\u001b[0marray\u001b[0m\u001b[0;34m(\u001b[0m\u001b[0mmean_cnt\u001b[0m\u001b[0;34m)\u001b[0m \u001b[0;34m+\u001b[0m \u001b[0mnp\u001b[0m\u001b[0;34m.\u001b[0m\u001b[0marray\u001b[0m\u001b[0;34m(\u001b[0m\u001b[0mstd_cnt\u001b[0m\u001b[0;34m)\u001b[0m\u001b[0;34m,\u001b[0m\u001b[0;34m\u001b[0m\u001b[0;34m\u001b[0m\u001b[0m\n\u001b[1;32m      4\u001b[0m                  alpha=0.15, color='green')\n\u001b[1;32m      5\u001b[0m \u001b[0mplt\u001b[0m\u001b[0;34m.\u001b[0m\u001b[0mxlabel\u001b[0m\u001b[0;34m(\u001b[0m\u001b[0;34m'Environment Dimension'\u001b[0m\u001b[0;34m)\u001b[0m\u001b[0;34m\u001b[0m\u001b[0;34m\u001b[0m\u001b[0m\n",
      "\u001b[0;31mNameError\u001b[0m: name 'dims_c' is not defined"
     ]
    }
   ],
   "source": [
    "plt.plot(dims_c, mean_cnt, label='r=3', marker='o', color='green')\n",
    "plt.fill_between(dims_c, np.array(mean_cnt) - np.array(std_cnt),\n",
    "                 np.array(mean_cnt) + np.array(std_cnt),\n",
    "                 alpha=0.15, color='green')\n",
    "plt.xlabel('Environment Dimension')\n",
    "plt.ylabel('Object Count')\n",
    "plt.legend()\n",
    "plt.savefig('dimvobj.png')\n",
    "plt.show()"
   ]
  },
  {
   "cell_type": "code",
   "execution_count": null,
   "metadata": {},
   "outputs": [],
   "source": []
  }
 ],
 "metadata": {
  "kernelspec": {
   "display_name": "Python 3",
   "language": "python",
   "name": "python3"
  },
  "language_info": {
   "codemirror_mode": {
    "name": "ipython",
    "version": 3
   },
   "file_extension": ".py",
   "mimetype": "text/x-python",
   "name": "python",
   "nbconvert_exporter": "python",
   "pygments_lexer": "ipython3",
   "version": "3.6.8"
  }
 },
 "nbformat": 4,
 "nbformat_minor": 2
}
