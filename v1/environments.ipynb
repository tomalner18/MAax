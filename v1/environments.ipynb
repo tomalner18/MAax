{
 "cells": [
  {
   "cell_type": "code",
   "execution_count": 5,
   "metadata": {},
   "outputs": [],
   "source": [
    "import functools\n",
    "import time\n",
    "\n",
    "from IPython.display import HTML, Image\n",
    "import gym\n",
    "\n",
    "import brax\n",
    "\n",
    "\n",
    "\n",
    "from brax import envs\n",
    "from brax.io import html\n",
    "import jax\n",
    "from jax import numpy as jnp\n",
    "from jax import random\n",
    "\n",
    "from builder import *\n",
    "from builder import distribute\n",
    "from builder.spawn import Spawner"
   ]
  },
  {
   "cell_type": "code",
   "execution_count": 6,
   "metadata": {},
   "outputs": [],
   "source": [
    "seed = 42\n",
    "key = random.PRNGKey(42)"
   ]
  },
  {
   "cell_type": "code",
   "execution_count": 7,
   "metadata": {},
   "outputs": [],
   "source": [
    "def add_agent(config, agent_mass=1.0, radius=0.5):\n",
    "    # Add the agent body\n",
    "    agent = config.bodies.add(name='agent')\n",
    "    sph = agent.colliders.add().sphere\n",
    "    sph.radius = radius\n",
    "    agent.mass = agent_mass\n",
    "    # agent.damping = 1e-2\n",
    "    # agent.friction = 0.6\n",
    "\n",
    "\n",
    "# Adds joint for rolling the agent\n",
    "def add_joint(config):\n",
    "    joint = config.joints.add(name='rolling')\n",
    "    joint.parent = 'ground'\n",
    "    joint.child = 'agent'\n",
    "    joint.angle = -1.57\n",
    "    joint.twist = 1.0\n",
    "    joint.limit.velocity = 100.0\n",
    "    joint.limit.torque = 100.0\n",
    "    joint.spring.stiffness = 1e5\n",
    "\n",
    "\n",
    "def add_objects(config, key, object_count, cube_mass=1.0, cube_halfsize=0.5):\n",
    "    key, *subkeys = random.split(key, object_count + 1)\n",
    "    for i in range(object_count):\n",
    "        cube = config.bodies.add(name=f'cube_{i}')\n",
    "        box = cube.colliders.add().box\n",
    "        box.halfsize.x = 0.5\n",
    "        box.halfsize.y = 0.5\n",
    "        box.halfsize.z = 0.5\n",
    "        cube.mass = cube_mass\n",
    "\n",
    "\n",
    "def distribute_objects(config, key, object_count):\n",
    "    default = config.defaults.add()\n",
    "    key, *subkeys = random.split(key, object_count + 1)\n",
    "    for i in range(object_count):\n",
    "        qp = default.qps.add(name=f'cube_{i}')\n",
    "        qp.pos.x = random.uniform(key=subkeys[i], minval=-10, maxval=10)\n",
    "        qp.pos.y = random.uniform(key=subkeys[i], minval=-10, maxval=10)\n",
    "        qp.pos.z = random.uniform(key=subkeys[i], minval=0, maxval=4)"
   ]
  },
  {
   "cell_type": "code",
   "execution_count": 8,
   "metadata": {},
   "outputs": [],
   "source": [
    "def create_config(object_count):\n",
    "    # Define the environment config.\n",
    "    sphere_maze = brax.Config(dt=0.01, substeps=2, dynamics_mode='pbd')\n",
    "    \n",
    "\n",
    "\n",
    "    sphere_maze.gravity.x = 0.0\n",
    "    sphere_maze.gravity.y = 0.0\n",
    "    sphere_maze.gravity.z = -9.8\n",
    "\n",
    "    # Add the ground, a frozen (immovable) infinite plane\n",
    "    ground = sphere_maze.bodies.add(name='ground')\n",
    "    ground.frozen.all = True\n",
    "    plane = ground.colliders.add().plane\n",
    "    plane.SetInParent()  # for setting an empty oneof\n",
    "\n",
    "    # Add the agent body\n",
    "    add_agent(sphere_maze)\n",
    "\n",
    "    # # Add the cubes.\n",
    "    # add_objects(sphere_maze, key, object_count=object_count)\n",
    "    # distribute_objects(sphere_maze, key, object_count=object_count)\n",
    "\n",
    "    return sphere_maze"
   ]
  },
  {
   "cell_type": "code",
   "execution_count": 9,
   "metadata": {},
   "outputs": [],
   "source": [
    "# Set the actions\n",
    "def set_action(env, action):\n",
    "    torque = jnp.array([0., 0., action[0]])\n",
    "    env.physics.forces['agent', 'rolling'].max_torque = jnp.abs(torque)\n",
    "    env.physics.forces['agent', 'rolling'].torque = torque\n",
    "\n",
    "def gen_vis(config):\n",
    "    # Create a visualization\n",
    "    vis_config = html.Config.from_config(config)\n",
    "    vis_config.side_length = 15\n",
    "    vis = html.Visualization(vis_config)\n",
    "    return vis"
   ]
  },
  {
   "cell_type": "code",
   "execution_count": 11,
   "metadata": {},
   "outputs": [
    {
     "ename": "AttributeError",
     "evalue": "module 'brax' has no attribute 'Config'",
     "output_type": "error",
     "traceback": [
      "\u001b[0;31m---------------------------------------------------------------------------\u001b[0m",
      "\u001b[0;31mAttributeError\u001b[0m                            Traceback (most recent call last)",
      "Cell \u001b[0;32mIn[11], line 3\u001b[0m\n\u001b[1;32m      1\u001b[0m object_count \u001b[39m=\u001b[39m \u001b[39m5\u001b[39m\n\u001b[0;32m----> 3\u001b[0m config \u001b[39m=\u001b[39m create_config(object_count)\n\u001b[1;32m      5\u001b[0m \u001b[39m# vis = gen_vis(config=config)\u001b[39;00m\n\u001b[1;32m      6\u001b[0m spawner \u001b[39m=\u001b[39m Spawner(env_dim\u001b[39m=\u001b[39m(\u001b[39m50\u001b[39m,\u001b[39m50\u001b[39m))\n",
      "Cell \u001b[0;32mIn[8], line 3\u001b[0m, in \u001b[0;36mcreate_config\u001b[0;34m(object_count)\u001b[0m\n\u001b[1;32m      1\u001b[0m \u001b[39mdef\u001b[39;00m \u001b[39mcreate_config\u001b[39m(object_count):\n\u001b[1;32m      2\u001b[0m     \u001b[39m# Define the environment config.\u001b[39;00m\n\u001b[0;32m----> 3\u001b[0m     sphere_maze \u001b[39m=\u001b[39m brax\u001b[39m.\u001b[39;49mConfig(dt\u001b[39m=\u001b[39m\u001b[39m0.01\u001b[39m, substeps\u001b[39m=\u001b[39m\u001b[39m2\u001b[39m, dynamics_mode\u001b[39m=\u001b[39m\u001b[39m'\u001b[39m\u001b[39mpbd\u001b[39m\u001b[39m'\u001b[39m)\n\u001b[1;32m      7\u001b[0m     sphere_maze\u001b[39m.\u001b[39mgravity\u001b[39m.\u001b[39mx \u001b[39m=\u001b[39m \u001b[39m0.0\u001b[39m\n\u001b[1;32m      8\u001b[0m     sphere_maze\u001b[39m.\u001b[39mgravity\u001b[39m.\u001b[39my \u001b[39m=\u001b[39m \u001b[39m0.0\u001b[39m\n",
      "\u001b[0;31mAttributeError\u001b[0m: module 'brax' has no attribute 'Config'"
     ]
    }
   ],
   "source": [
    "object_count = 5\n",
    "\n",
    "config = create_config(object_count)\n",
    "\n",
    "# vis = gen_vis(config=config)\n",
    "spawner = Spawner(env_dim=(50,50))\n",
    "spawner.spawn_objects(config, key, space_dim=(50,50), separation=7, obj_type=\"box\", method=\"poisson\")\n",
    "\n",
    "\n",
    "sys = brax.System(config)\n",
    "qps = [sys.default_qp()]\n",
    "act = jnp.array([0.0])\n",
    "\n",
    "# agent_velocity = 0.5\n",
    "# qps[-1].vel[1, 0] = agent_velocity\n",
    "\n",
    "\n",
    "# Run the environment loop\n",
    "for i in range(1):\n",
    "    print(i)\n",
    "    action = jnp.array([jnp.sin(i / 10)])\n",
    "    qp, _ = sys.step(qps[-1], act)\n",
    "    qps.append(qp)\n",
    "\n",
    "HTML(html.render(sys, qps, height=800))"
   ]
  }
 ],
 "metadata": {
  "kernelspec": {
   "display_name": "Python 3.10.7 ('maax_venv': venv)",
   "language": "python",
   "name": "python3"
  },
  "language_info": {
   "codemirror_mode": {
    "name": "ipython",
    "version": 3
   },
   "file_extension": ".py",
   "mimetype": "text/x-python",
   "name": "python",
   "nbconvert_exporter": "python",
   "pygments_lexer": "ipython3",
   "version": "3.10.7"
  },
  "orig_nbformat": 4,
  "vscode": {
   "interpreter": {
    "hash": "d286b5a782650f2d9ae8fe3e234d77a318fcb8a23bb1ca21ad01d6849611a0dc"
   }
  }
 },
 "nbformat": 4,
 "nbformat_minor": 2
}
