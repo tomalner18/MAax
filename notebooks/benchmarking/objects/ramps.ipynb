{
 "cells": [
  {
   "cell_type": "code",
   "execution_count": 1,
   "metadata": {},
   "outputs": [],
   "source": [
    "import os, sys\n",
    "sys.path.append('/rds/general/user/tla19/home/FYP/MAax')"
   ]
  },
  {
   "cell_type": "code",
   "execution_count": 2,
   "metadata": {},
   "outputs": [],
   "source": [
    "from typing import Any, Callable, Tuple\n",
    "from functools import partial\n",
    "import time\n",
    "import json\n",
    "from tqdm import tqdm"
   ]
  },
  {
   "cell_type": "code",
   "execution_count": 3,
   "metadata": {},
   "outputs": [],
   "source": [
    "from worldgen import Floor, WorldBuilder, WorldParams\n",
    "from mae_envs.modules.agents import Agents\n",
    "from mae_envs.modules.walls import RandomWalls, WallScenarios\n",
    "from mae_envs.modules.world import FloorAttributes, WorldConstants\n",
    "from mae_envs.modules.objects import Boxes, Cylinders, LidarSites, Ramps\n",
    "from mae_envs.modules.util import uniform_placement, center_placement\n",
    "from mae_envs.envs.hide_and_seek import quadrant_placement\n"
   ]
  },
  {
   "cell_type": "code",
   "execution_count": 4,
   "metadata": {},
   "outputs": [],
   "source": [
    "import brax\n",
    "import numpy as np\n",
    "from brax.io import mjcf, html\n",
    "from maax.envs.base import Base\n",
    "from mae_envs.util.types import RNGKey, PipelineState, Action\n",
    "from brax.generalized import pipeline\n",
    "\n",
    "import jax\n",
    "from jax import numpy as jp\n",
    "\n",
    "from jax import random\n",
    "\n",
    "from IPython.display import HTML, clear_output\n",
    "clear_output()\n"
   ]
  },
  {
   "cell_type": "code",
   "execution_count": 5,
   "metadata": {},
   "outputs": [],
   "source": [
    "from brax.envs.env import State"
   ]
  },
  {
   "cell_type": "code",
   "execution_count": 6,
   "metadata": {},
   "outputs": [
    {
     "name": "stderr",
     "output_type": "stream",
     "text": [
      "2023-05-26 14:57:43.225555: W external/xla/xla/service/platform_util.cc:198] unable to create StreamExecutor for CUDA:0: failed initializing StreamExecutor for CUDA device ordinal 0: INTERNAL: failed call to cuDevicePrimaryCtxRetain: CUDA_ERROR_DEVICE_UNAVAILABLE: CUDA-capable device(s) is/are busy or unavailable\n",
      "No GPU/TPU found, falling back to CPU. (Set TF_CPP_MIN_LOG_LEVEL=0 and rerun for more info.)\n"
     ]
    }
   ],
   "source": [
    "seed = 7\n",
    "random_key = jax.random.PRNGKey(seed)"
   ]
  },
  {
   "cell_type": "code",
   "execution_count": 7,
   "metadata": {},
   "outputs": [],
   "source": [
    "def make_env(n_ramps=2,n_substeps=15, horizon=80, deterministic_mode=False,\n",
    "             floor_size=6.0, grid_size=30, door_size=2,\n",
    "             n_hiders=1, n_seekers=1, max_n_agents=None,\n",
    "             n_boxes=0, n_elongated_boxes=0,\n",
    "             rand_num_elongated_boxes=False, n_min_boxes=None,\n",
    "             box_size=0.5, boxid_obs=True, boxsize_obs=True, box_only_z_rot=True,\n",
    "             pad_ramp_size=True,\n",
    "             rew_type='joint_zero_sum',\n",
    "             lock_box=True, grab_box=True, lock_ramp=True,\n",
    "             lock_type='any_lock_specific',\n",
    "             lock_grab_radius=0.25, lock_out_of_vision=True, grab_exclusive=False,\n",
    "             grab_out_of_vision=False, grab_selective=False,\n",
    "             box_floor_friction=0.2, other_friction=0.01, gravity=[0, 0, -50],\n",
    "             action_lims=(-0.9, 0.9), polar_obs=True,\n",
    "             scenario='quadrant', quadrant_game_hider_uniform_placement=False,\n",
    "             p_door_dropout=0.0,\n",
    "             n_rooms=4, random_room_number=True, prob_outside_walls=1.0,\n",
    "             n_lidar_per_agent=0, visualize_lidar=False, compress_lidar_scale=None,\n",
    "             hiders_together_radius=None, seekers_together_radius=None,\n",
    "             prep_fraction=0.4, prep_obs=False,\n",
    "             team_size_obs=False,\n",
    "             restrict_rect=None, penalize_objects_out=False,\n",
    "             ):\n",
    "    '''\n",
    "        This make_env function is not used anywhere; it exists to provide a simple, bare-bones\n",
    "        example of how to construct a multi-agent environment using the modules framework.\n",
    "    '''\n",
    "    n_agents = n_seekers + n_hiders\n",
    "    env = Base(n_agents=n_agents, n_substeps=n_substeps, horizon=horizon, grid_size=grid_size,\n",
    "               deterministic_mode=deterministic_mode, seed=seed)\n",
    "    env.add_module(WallScenarios(grid_size=grid_size, door_size=door_size,\n",
    "                                     scenario=scenario, friction=other_friction,\n",
    "                                     p_door_dropout=p_door_dropout))\n",
    "    box_placement_fn = uniform_placement\n",
    "    ramp_placement_fn = uniform_placement\n",
    "    agent_placement_fn = uniform_placement\n",
    "\n",
    "    env.add_module(Agents(n_agents,\n",
    "                          placement_fn=agent_placement_fn,\n",
    "                          color=[np.array((66., 235., 244., 255.)) / 255] * n_agents,\n",
    "                          friction=other_friction,\n",
    "                          polar_obs=polar_obs))\n",
    "\n",
    "#     if np.max(n_boxes) > 0:\n",
    "#         env.add_module(Boxes(n_boxes=n_boxes, placement_fn=box_placement_fn,\n",
    "#                              friction=box_floor_friction, polar_obs=polar_obs,\n",
    "#                              n_elongated_boxes=0,\n",
    "#                              boxid_obs=boxid_obs,\n",
    "#                              box_only_z_rot=box_only_z_rot,\n",
    "#                              boxsize_obs=boxsize_obs,\n",
    "#                              free=True))\n",
    "\n",
    "    if n_ramps > 0:\n",
    "        env.add_module(Ramps(n_ramps=n_ramps, placement_fn=ramp_placement_fn,\n",
    "                             friction=other_friction, polar_obs=polar_obs,\n",
    "                             pad_ramp_size=pad_ramp_size, free=True))\n",
    "\n",
    "\n",
    "    return env"
   ]
  },
  {
   "cell_type": "code",
   "execution_count": null,
   "metadata": {},
   "outputs": [],
   "source": []
  },
  {
   "cell_type": "code",
   "execution_count": 8,
   "metadata": {},
   "outputs": [],
   "source": [
    "def randomise_action(act, random_key):\n",
    "    random_key, _ = random.split(random_key)\n",
    "    return random.uniform(random_key, shape=act.shape, minval=-0.25, maxval=0.25), random_key"
   ]
  },
  {
   "cell_type": "code",
   "execution_count": 9,
   "metadata": {},
   "outputs": [],
   "source": [
    "obj_max = 10\n",
    "iterations = 6\n",
    "episode_length = 1000\n"
   ]
  },
  {
   "cell_type": "code",
   "execution_count": 10,
   "metadata": {},
   "outputs": [
    {
     "name": "stdout",
     "output_type": "stream",
     "text": [
      "Rollout time for obj cnt 0 : 17.778075456619263\n",
      "Rollout time for obj cnt 1 : 36.15035009384155\n",
      "Rollout time for obj cnt 2 : 52.23406720161438\n",
      "Rollout time for obj cnt 3 : 62.38980793952942\n",
      "Rollout time for obj cnt 4 : 74.2532696723938\n",
      "Rollout time for obj cnt 5 : 101.88726663589478\n",
      "Rollout time for obj cnt 6 : 107.63195037841797\n",
      "Rollout time for obj cnt 7 : 244.06971788406372\n",
      "Rollout time for obj cnt 8 : 437.6327016353607\n",
      "Rollout time for obj cnt 9 : 512.5204539299011\n",
      "Rollout time for obj cnt 0 : 5.507119178771973\n",
      "Rollout time for obj cnt 1 : 16.6627299785614\n",
      "Rollout time for obj cnt 2 : 24.59211778640747\n",
      "Rollout time for obj cnt 3 : 34.64366912841797\n",
      "Rollout time for obj cnt 4 : 46.321839570999146\n",
      "Rollout time for obj cnt 5 : 61.770976066589355\n",
      "Rollout time for obj cnt 6 : 92.86959624290466\n",
      "Rollout time for obj cnt 7 : 211.74868392944336\n",
      "Rollout time for obj cnt 9 : 478.32556343078613\n",
      "Rollout time for obj cnt 0 : 5.498378753662109\n",
      "Rollout time for obj cnt 1 : 16.959065914154053\n",
      "Rollout time for obj cnt 2 : 23.53350305557251\n",
      "Rollout time for obj cnt 3 : 34.27884268760681\n",
      "Rollout time for obj cnt 4 : 46.432738304138184\n",
      "Rollout time for obj cnt 5 : 61.12915635108948\n",
      "Rollout time for obj cnt 6 : 92.62923836708069\n",
      "Rollout time for obj cnt 7 : 214.60305094718933\n",
      "Rollout time for obj cnt 8 : 435.4067077636719\n",
      "Rollout time for obj cnt 9 : 474.40182185173035\n",
      "Rollout time for obj cnt 0 : 5.457859754562378\n",
      "Rollout time for obj cnt 1 : 16.399635314941406\n",
      "Rollout time for obj cnt 2 : 23.511146783828735\n",
      "Rollout time for obj cnt 3 : 34.27766013145447\n",
      "Rollout time for obj cnt 4 : 46.389652252197266\n",
      "Rollout time for obj cnt 5 : 61.583115577697754\n",
      "Rollout time for obj cnt 6 : 88.50657725334167\n",
      "Rollout time for obj cnt 7 : 207.1668577194214\n",
      "Rollout time for obj cnt 8 : 439.9619417190552\n",
      "Rollout time for obj cnt 9 : 514.832902431488\n",
      "Rollout time for obj cnt 0 : 5.600789308547974\n",
      "Rollout time for obj cnt 1 : 16.669605493545532\n",
      "Rollout time for obj cnt 2 : 23.72938871383667\n",
      "Rollout time for obj cnt 3 : 34.99737334251404\n",
      "Rollout time for obj cnt 4 : 45.8976845741272\n",
      "Rollout time for obj cnt 5 : 60.78706955909729\n",
      "Rollout time for obj cnt 6 : 81.99796175956726\n",
      "Rollout time for obj cnt 7 : 212.57223296165466\n",
      "Rollout time for obj cnt 8 : 409.0498492717743\n",
      "Rollout time for obj cnt 9 : 571.1599056720734\n",
      "Rollout time for obj cnt 0 : 5.6393723487854\n",
      "Rollout time for obj cnt 1 : 16.143874645233154\n",
      "Rollout time for obj cnt 2 : 24.271336793899536\n",
      "Rollout time for obj cnt 3 : 34.68006610870361\n",
      "Rollout time for obj cnt 4 : 45.828213691711426\n",
      "Rollout time for obj cnt 5 : 62.04297947883606\n",
      "Rollout time for obj cnt 6 : 84.26899981498718\n",
      "Rollout time for obj cnt 7 : 207.40350770950317\n",
      "Rollout time for obj cnt 8 : 450.98357129096985\n",
      "Rollout time for obj cnt 9 : 519.2752449512482\n"
     ]
    }
   ],
   "source": [
    "@jax.jit\n",
    "def play_step_fn(state: State, act: Action, random_key: RNGKey, index: int):\n",
    "    act, random_key = jax.lax.cond(index % 50 == 0, randomise_action, lambda x, y: (x, y), act, random_key)\n",
    "    state = jit_step_fn(state, act)\n",
    "    return state, act, random_key, index + 1, state.pipeline_state\n",
    "\n",
    "def scan_play_step_fn(\n",
    "    carry: Tuple[State, Action, RNGKey, int], unused_arg: Any\n",
    ") ->Tuple[Tuple[State, RNGKey, int], PipelineState]:\n",
    "    state, act, random_key, index, p_states = play_step_fn(*carry)\n",
    "    return (state, act, random_key, index), p_states\n",
    "\n",
    "obj_times = dict()\n",
    "jit_scan_fn = jax.jit(scan_play_step_fn)\n",
    "\n",
    "for i in range(iterations):\n",
    "    for obj_cnt in range(obj_max):\n",
    "        test_env = make_env(n_ramps=obj_cnt)\n",
    "        test_env.gen_sys(seed)\n",
    "        \n",
    "        act = jp.zeros(test_env.sys.act_size())\n",
    "        jit_step_fn = jax.jit(test_env.step)\n",
    "        state = jax.jit(test_env.reset)(random_key)\n",
    "\n",
    "        \n",
    "        st = time.time()\n",
    "        (dst_state, dst_act, key, index), rollout = jax.lax.scan(jit_scan_fn, (state, act, random_key, 0), None, length=episode_length)\n",
    "        et = time.time()\n",
    "        dt = et - st\n",
    "        print(f\"Rollout time for obj cnt {obj_cnt} : {dt}\")\n",
    "        if obj_cnt in obj_times:\n",
    "            obj_times[obj_cnt].append(dt)\n",
    "        else:\n",
    "            obj_times[obj_cnt] = [dt]"
   ]
  },
  {
   "cell_type": "code",
   "execution_count": 11,
   "metadata": {},
   "outputs": [],
   "source": [
    "with open('ramp_times_avg.json', 'w') as f: \n",
    "    json.dump(obj_times, f)"
   ]
  },
  {
   "cell_type": "code",
   "execution_count": null,
   "metadata": {},
   "outputs": [],
   "source": []
  }
 ],
 "metadata": {
  "kernelspec": {
   "display_name": "Python [conda env:maax]",
   "language": "python",
   "name": "conda-env-maax-py"
  },
  "language_info": {
   "codemirror_mode": {
    "name": "ipython",
    "version": 3
   },
   "file_extension": ".py",
   "mimetype": "text/x-python",
   "name": "python",
   "nbconvert_exporter": "python",
   "pygments_lexer": "ipython3",
   "version": "3.10.7"
  },
  "vscode": {
   "interpreter": {
    "hash": "d286b5a782650f2d9ae8fe3e234d77a318fcb8a23bb1ca21ad01d6849611a0dc"
   }
  }
 },
 "nbformat": 4,
 "nbformat_minor": 2
}
