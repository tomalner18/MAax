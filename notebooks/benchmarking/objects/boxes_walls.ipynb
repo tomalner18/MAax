{
 "cells": [
  {
   "cell_type": "code",
   "execution_count": 1,
   "metadata": {},
   "outputs": [],
   "source": [
    "import os, sys\n",
    "sys.path.append('/rds/general/user/tla19/home/FYP/MAax')\n",
    "# sys.path.append('/Users/tom/dev/imperial/FYP/MAax/')"
   ]
  },
  {
   "cell_type": "code",
   "execution_count": 2,
   "metadata": {},
   "outputs": [],
   "source": [
    "from typing import Any, Callable, Tuple\n",
    "from functools import partial\n",
    "import time\n",
    "import json"
   ]
  },
  {
   "cell_type": "code",
   "execution_count": 3,
   "metadata": {},
   "outputs": [],
   "source": [
    "from worldgen import Floor, WorldBuilder, WorldParams\n",
    "from maax.modules.agents import Agents\n",
    "from maax.modules.walls import RandomWalls, WallScenarios\n",
    "from maax.modules.world import FloorAttributes, WorldConstants\n",
    "from maax.modules.objects import Boxes, Ramps\n",
    "from maax.modules.util import uniform_placement, centre_placement\n",
    "from maax.envs.hide_and_seek import quad_placement\n"
   ]
  },
  {
   "cell_type": "code",
   "execution_count": 4,
   "metadata": {},
   "outputs": [],
   "source": [
    "import brax\n",
    "import numpy as np\n",
    "from brax.io import mjcf, html\n",
    "from maax.envs.base import Base\n",
    "from maax.util.types import RNGKey, PipelineState, Action\n",
    "from brax.generalized import pipeline\n",
    "\n",
    "import jax\n",
    "from jax import numpy as jp\n",
    "\n",
    "from jax import random\n",
    "\n",
    "from IPython.display import HTML, clear_output\n",
    "clear_output()\n"
   ]
  },
  {
   "cell_type": "code",
   "execution_count": 5,
   "metadata": {},
   "outputs": [],
   "source": [
    "from brax.envs.env import State"
   ]
  },
  {
   "cell_type": "code",
   "execution_count": 6,
   "metadata": {},
   "outputs": [],
   "source": [
    "seed = 7\n",
    "random_key = jax.random.PRNGKey(seed)"
   ]
  },
  {
   "cell_type": "code",
   "execution_count": 7,
   "metadata": {},
   "outputs": [],
   "source": [
    "def make_env(n_boxes=2,n_frames=1, horizon=1000, deterministic_mode=False,\n",
    "             floor_size=6.0, grid_size=30, door_size=2,\n",
    "             n_hiders=2, n_seekers=2, max_n_agents=None,\n",
    "             n_ramps=0, n_elongated_boxes=0,\n",
    "             rand_num_elongated_boxes=False, n_min_boxes=None,\n",
    "             box_size=0.5, boxid_obs=True, boxsize_obs=True, box_only_z_rot=True,\n",
    "             pad_ramp_size=True,\n",
    "             rew_type='joint_zero_sum',\n",
    "             lock_box=True, grab_box=True, lock_ramp=True,\n",
    "             lock_type='any_lock_specific',\n",
    "             lock_grab_radius=0.25, lock_out_of_vision=True, grab_exclusive=False,\n",
    "             grab_out_of_vision=False, grab_selective=False,\n",
    "             box_floor_friction=0.2, other_friction=0.01, gravity=[0, 0, -50],\n",
    "             action_lims=(-0.9, 0.9), polar_obs=False,\n",
    "             scenario='quad', quad_game_hider_uniform_placement=False,\n",
    "             p_door_dropout=0.0,\n",
    "             n_rooms=4, random_room_count=True, prob_outside_walls=1.0,\n",
    "             n_lidar_per_agent=0, visualize_lidar=False, compress_lidar_scale=None,\n",
    "             hiders_together_radius=None, seekers_together_radius=None,\n",
    "             prep_fraction=0.4, prep_rem=False,\n",
    "             team_size_obs=False,\n",
    "             restrict_rect=None, penalize_objects_out=False,\n",
    "             ):\n",
    "    '''\n",
    "        This make_env function is not used anywhere; it exists to provide a simple, bare-bones\n",
    "        example of how to construct a multi-agent environment using the modules framework.\n",
    "    '''\n",
    "    n_agents = n_seekers + n_hiders\n",
    "    env = Base(n_agents=n_agents, n_frames=n_frames, horizon=horizon, grid_size=grid_size,\n",
    "               deterministic_mode=deterministic_mode, seed=seed)\n",
    "    env.add_module(WallScenarios(grid_size=grid_size, door_size=door_size,\n",
    "                                     scenario=scenario, friction=other_friction,\n",
    "                                     p_door_dropout=p_door_dropout))\n",
    "    box_placement_fn = uniform_placement\n",
    "    ramp_placement_fn = uniform_placement\n",
    "    agent_placement_fn = uniform_placement\n",
    "\n",
    "    env.add_module(Agents(n_agents,\n",
    "                          placement_fn=agent_placement_fn,\n",
    "                          color=[np.array((66., 235., 244., 255.)) / 255] * n_agents,\n",
    "                          friction=other_friction,\n",
    "                          polar_obs=polar_obs))\n",
    "\n",
    "    if np.max(n_boxes) > 0:\n",
    "        env.add_module(Boxes(n_boxes=n_boxes, placement_fn=box_placement_fn,\n",
    "                             friction=box_floor_friction, polar_obs=polar_obs,\n",
    "                             n_elongated_boxes=0,\n",
    "                             boxid_obs=boxid_obs,\n",
    "                             box_only_z_rot=box_only_z_rot,\n",
    "                             boxsize_obs=boxsize_obs,\n",
    "                             free=False))\n",
    "\n",
    "    # if n_ramps > 0:\n",
    "    #     env.add_module(Ramps(n_ramps=n_ramps, placement_fn=ramp_placement_fn,\n",
    "    #                          friction=other_friction, polar_obs=polar_obs,\n",
    "    #                          pad_ramp_size=pad_ramp_size, free=True))\n",
    "\n",
    "\n",
    "    return env"
   ]
  },
  {
   "cell_type": "code",
   "execution_count": null,
   "metadata": {},
   "outputs": [],
   "source": []
  },
  {
   "cell_type": "code",
   "execution_count": 8,
   "metadata": {},
   "outputs": [],
   "source": [
    "def randomise_action(act, random_key):\n",
    "    random_key, _ = random.split(random_key)\n",
    "    return random.uniform(random_key, shape=act.shape, minval=-0.25, maxval=0.25), random_key"
   ]
  },
  {
   "cell_type": "code",
   "execution_count": 9,
   "metadata": {},
   "outputs": [],
   "source": [
    "obj_max = 8\n",
    "iterations = 6\n",
    "episode_length = 1000\n"
   ]
  },
  {
   "cell_type": "code",
   "execution_count": null,
   "metadata": {},
   "outputs": [
    {
     "name": "stdout",
     "output_type": "stream",
     "text": [
      "Rollout time for obj cnt 0 : 29.20072317123413\n",
      "Rollout time for obj cnt 1 : 28.70902109146118\n",
      "Rollout time for obj cnt 2 : 28.617831468582153\n",
      "Rollout time for obj cnt 3 : 31.96717596054077\n",
      "Rollout time for obj cnt 4 : 33.50722813606262\n",
      "Rollout time for obj cnt 5 : 35.68454098701477\n",
      "Rollout time for obj cnt 6 : 38.85980224609375\n",
      "Rollout time for obj cnt 7 : 41.79776668548584\n",
      "Rollout time for obj cnt 0 : 15.583244562149048\n",
      "Rollout time for obj cnt 1 : 17.54869794845581\n",
      "Rollout time for obj cnt 2 : 17.678433656692505\n",
      "Rollout time for obj cnt 3 : 20.227100610733032\n",
      "Rollout time for obj cnt 4 : 22.87821650505066\n",
      "Rollout time for obj cnt 5 : 24.966827392578125\n",
      "Rollout time for obj cnt 6 : 27.853902101516724\n",
      "Rollout time for obj cnt 7 : 30.8510103225708\n",
      "Rollout time for obj cnt 0 : 15.326227188110352\n",
      "Rollout time for obj cnt 1 : 17.576462984085083\n",
      "Rollout time for obj cnt 2 : 17.24446964263916\n",
      "Rollout time for obj cnt 3 : 19.85469651222229\n",
      "Rollout time for obj cnt 4 : 22.78784418106079\n",
      "Rollout time for obj cnt 5 : 24.85496497154236\n"
     ]
    }
   ],
   "source": [
    "@jax.jit\n",
    "def play_step_fn(state: State, act: Action, random_key: RNGKey, index: int):\n",
    "    act, random_key = jax.lax.cond(index % 50 == 0, randomise_action, lambda x, y: (x, y), act, random_key)\n",
    "    state = jit_step_fn(state, act)\n",
    "    return state, act, random_key, index + 1, state.pipeline_state\n",
    "\n",
    "def scan_play_step_fn(\n",
    "    carry: Tuple[State, Action, RNGKey, int], unused_arg: Any\n",
    ") ->Tuple[Tuple[State, RNGKey, int], PipelineState]:\n",
    "    state, act, random_key, index, p_states = play_step_fn(*carry)\n",
    "    return (state, act, random_key, index), p_states\n",
    "\n",
    "obj_times = dict()\n",
    "jit_scan_fn = jax.jit(scan_play_step_fn)\n",
    "\n",
    "for i in range(iterations):\n",
    "    for obj_cnt in range(obj_max):\n",
    "        test_env = make_env(n_boxes=obj_cnt)\n",
    "        test_env.gen_sys(seed)\n",
    "        \n",
    "        act = jp.zeros(test_env.sys.act_size())\n",
    "        jit_step_fn = jax.jit(test_env.step)\n",
    "        state = jax.jit(test_env.reset)(random_key)\n",
    "\n",
    "        \n",
    "        st = time.time()\n",
    "        (dst_state, dst_act, key, index), rollout = jax.lax.scan(jit_scan_fn, (state, act, random_key, 0), None, length=episode_length)\n",
    "        et = time.time()\n",
    "        dt = et - st\n",
    "        print(f\"Rollout time for obj cnt {obj_cnt} : {dt}\")\n",
    "        if obj_cnt in obj_times:\n",
    "            obj_times[obj_cnt].append(dt)\n",
    "        else:\n",
    "            obj_times[obj_cnt] = [dt]"
   ]
  },
  {
   "cell_type": "code",
   "execution_count": null,
   "metadata": {},
   "outputs": [],
   "source": [
    "with open('boxes_times_slide_avg.json', 'w') as f: \n",
    "    json.dump(obj_times, f)"
   ]
  },
  {
   "cell_type": "code",
   "execution_count": null,
   "metadata": {},
   "outputs": [],
   "source": []
  }
 ],
 "metadata": {
  "kernelspec": {
   "display_name": "Python [conda env:maax]",
   "language": "python",
   "name": "conda-env-maax-py"
  },
  "language_info": {
   "codemirror_mode": {
    "name": "ipython",
    "version": 3
   },
   "file_extension": ".py",
   "mimetype": "text/x-python",
   "name": "python",
   "nbconvert_exporter": "python",
   "pygments_lexer": "ipython3",
   "version": "3.10.7"
  },
  "vscode": {
   "interpreter": {
    "hash": "d286b5a782650f2d9ae8fe3e234d77a318fcb8a23bb1ca21ad01d6849611a0dc"
   }
  }
 },
 "nbformat": 4,
 "nbformat_minor": 2
}
