{
 "cells": [
  {
   "cell_type": "code",
   "execution_count": 1,
   "metadata": {},
   "outputs": [],
   "source": [
    "import os, sys\n",
    "sys.path.append('/rds/general/user/tla19/home/FYP/MAax')"
   ]
  },
  {
   "cell_type": "code",
   "execution_count": 2,
   "metadata": {},
   "outputs": [],
   "source": [
    "import json\n",
    "import matplotlib.pyplot as plt\n",
    "import numpy as np"
   ]
  },
  {
   "cell_type": "code",
   "execution_count": 3,
   "metadata": {},
   "outputs": [],
   "source": [
    "# Read JSON files\n",
    "with open('batch_times_avg_100.json', 'r') as f1:\n",
    "    data1 = json.load(f1)"
   ]
  },
  {
   "cell_type": "code",
   "execution_count": 4,
   "metadata": {},
   "outputs": [],
   "source": [
    "# Process data\n",
    "x_values = sorted(map(int, set(data1.keys())))\n",
    "mean1_values = []\n",
    "std1_values = []\n",
    "\n",
    "unjit_times = dict()\n",
    "\n",
    "for x in x_values:\n",
    "    times1 = data1[str(x)][1:]  # Discard the first entry\n",
    "    unjit_times[x] = data1[str(x)][1]\n",
    "    mean1 = np.mean(times1)\n",
    "    std1 = np.std(times1)\n",
    "    mean1_values.append(mean1)\n",
    "    std1_values.append(std1)\n",
    "    "
   ]
  },
  {
   "cell_type": "code",
   "execution_count": 5,
   "metadata": {},
   "outputs": [
    {
     "name": "stdout",
     "output_type": "stream",
     "text": [
      "Eval mean:  [148.63744350942173, 217.24040642374734, 247.68068042663475, 266.11327923715913, 277.08153009764925, 282.7440822538037, 285.6479376210106]\n"
     ]
    }
   ],
   "source": [
    "# Process evals per sec\n",
    "eval_mean_values = []\n",
    "eval_std_values = []\n",
    "\n",
    "eval_batch_sizes = x_values[:-1]\n",
    "\n",
    "for x in eval_batch_sizes:\n",
    "    times = np.asarray(data1[str(x)][1:])  # Discard the first entry\n",
    "    evals_per_sec = (100 * x) / times\n",
    "    mean = np.mean(evals_per_sec)\n",
    "    std = np.std(evals_per_sec)\n",
    "    eval_mean_values.append(mean)\n",
    "    eval_std_values.append(std)\n",
    "\n",
    "print(\"Eval mean: \", eval_mean_values)"
   ]
  },
  {
   "cell_type": "code",
   "execution_count": 6,
   "metadata": {},
   "outputs": [
    {
     "data": {
      "image/png": "[encoded data removed]",
      "text/plain": [
       "<Figure size 640x480 with 1 Axes>"
      ]
     },
     "metadata": {},
     "output_type": "display_data"
    }
   ],
   "source": [
    "# Plotting\n",
    "plt.plot(eval_batch_sizes, eval_mean_values, marker='o', color='red')\n",
    "plt.fill_between(eval_batch_sizes, np.array(eval_mean_values) - np.array(eval_std_values),\n",
    "                 np.array(eval_mean_values) + np.array(eval_std_values),\n",
    "                 alpha=0.3, color='red')\n",
    "plt.xlabel('Batch Size')\n",
    "plt.ylabel('Evals/s')\n",
    "# plt.title('Influence of Object Count and Type on Rollout Execution Time')\n",
    "plt.savefig('batch_evals.png')\n",
    "plt.show()"
   ]
  },
  {
   "cell_type": "code",
   "execution_count": 7,
   "metadata": {},
   "outputs": [],
   "source": [
    "# # Plotting\n",
    "# plt.plot(x_values, mean1_values, marker='o', color='blue')\n",
    "# plt.fill_between(x_values, np.array(mean1_values) - np.array(std1_values),\n",
    "#                  np.array(mean1_values) + np.array(std1_values),\n",
    "#                  alpha=0.3, color='blue')\n",
    "# plt.xlabel('Batch Size')\n",
    "# plt.ylabel('Rollout Time')\n",
    "# # plt.title('Influence of Object Count and Type on Rollout Execution Time')\n",
    "# plt.savefig('batchvs.png')\n",
    "# plt.show()"
   ]
  },
  {
   "cell_type": "code",
   "execution_count": null,
   "metadata": {},
   "outputs": [],
   "source": []
  },
  {
   "cell_type": "code",
   "execution_count": null,
   "metadata": {},
   "outputs": [],
   "source": []
  }
 ],
 "metadata": {
  "kernelspec": {
   "display_name": "Python [conda env:maax]",
   "language": "python",
   "name": "conda-env-maax-py"
  },
  "language_info": {
   "codemirror_mode": {
    "name": "ipython",
    "version": 3
   },
   "file_extension": ".py",
   "mimetype": "text/x-python",
   "name": "python",
   "nbconvert_exporter": "python",
   "pygments_lexer": "ipython3",
   "version": "3.10.7"
  }
 },
 "nbformat": 4,
 "nbformat_minor": 2
}
