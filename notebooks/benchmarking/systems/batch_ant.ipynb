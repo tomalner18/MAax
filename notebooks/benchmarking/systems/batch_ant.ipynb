{
 "cells": [
  {
   "cell_type": "code",
   "execution_count": 1,
   "metadata": {},
   "outputs": [],
   "source": [
    "import os, sys\n",
    "sys.path.append('/rds/general/user/tla19/home/FYP/MAax')"
   ]
  },
  {
   "cell_type": "code",
   "execution_count": 2,
   "metadata": {},
   "outputs": [],
   "source": [
    "from typing import Any, Callable, Tuple\n",
    "from functools import partial\n",
    "import time\n",
    "import json\n",
    "\n",
    "import flax\n",
    "from brax import envs\n",
    "from brax.io import model\n",
    "from brax.io import html\n",
    "from brax.training.agents.ppo import train as ppo\n",
    "from brax.training.agents.sac import train as sac"
   ]
  },
  {
   "cell_type": "code",
   "execution_count": 3,
   "metadata": {},
   "outputs": [],
   "source": [
    "import brax\n",
    "import numpy as np\n",
    "from brax.io import mjcf, html\n",
    "from maax.envs.base import Base\n",
    "from maax.util.types import RNGKey, PipelineState, Action\n",
    "from brax.generalized import pipeline\n",
    "\n",
    "import jax\n",
    "from jax import numpy as jp\n",
    "from jax import random\n",
    "\n",
    "from IPython.display import HTML, clear_output\n",
    "clear_output()\n"
   ]
  },
  {
   "cell_type": "code",
   "execution_count": 4,
   "metadata": {},
   "outputs": [],
   "source": [
    "seed = 10\n",
    "batch_sizes = [2, 4, 8, 16, 32, 64, 128, 256, 512]\n",
    "episode_length = 1000\n",
    "random_key = jax.random.PRNGKey(seed)"
   ]
  },
  {
   "cell_type": "code",
   "execution_count": 5,
   "metadata": {},
   "outputs": [],
   "source": [
    "env_name = 'ant'  # @param ['ant', 'halfcheetah', 'hopper', 'humanoid', 'humanoidstandup', 'inverted_pendulum', 'inverted_double_pendulum', 'pusher', 'reacher', 'walker2d']\n",
    "backend = 'generalized'  # @param ['generalized', 'positional', 'spring']\n",
    "\n",
    "env = envs.get_environment(env_name=env_name,\n",
    "                           backend=backend)\n",
    "state = jax.jit(env.reset)(rng=jax.random.PRNGKey(seed=0))"
   ]
  },
  {
   "cell_type": "code",
   "execution_count": null,
   "metadata": {},
   "outputs": [],
   "source": []
  },
  {
   "cell_type": "code",
   "execution_count": 6,
   "metadata": {},
   "outputs": [],
   "source": [
    "@jax.jit\n",
    "def randomise_action(act, random_key):\n",
    "    random_key, _ = random.split(random_key)\n",
    "    return random.uniform(random_key, shape=act.shape, minval=-0.25, maxval=0.25), random_key"
   ]
  },
  {
   "cell_type": "code",
   "execution_count": 7,
   "metadata": {},
   "outputs": [],
   "source": [
    "# Create the inital environment states\n",
    "\n",
    "jit_step_fn = jax.jit(env.step)\n",
    "act_size = env.sys.act_size()\n",
    "act = jp.zeros(shape=act_size)\n",
    "jit_batch_reset_fn = jax.jit(jax.vmap(env.reset))"
   ]
  },
  {
   "cell_type": "code",
   "execution_count": 8,
   "metadata": {},
   "outputs": [],
   "source": [
    "@jax.jit\n",
    "def play_step_fn(state, act, random_key):\n",
    "    act, random_key = randomise_action(act, random_key)\n",
    "    state = jit_step_fn(state, act)\n",
    "    return state, act, random_key, state.pipeline_state\n",
    "\n",
    "@partial(jax.jit, static_argnames=(\"play_step_fn\", \"episode_length\"))\n",
    "def generate_unroll(\n",
    "    init_state,\n",
    "    act,\n",
    "    random_key,\n",
    "    episode_length,\n",
    "    play_step_fn):\n",
    "    \"\"\"Generates an episode according to random action, returns the final state of\n",
    "    the episode and the transitions of the episode.\n",
    "\n",
    "    Args:\n",
    "        init_state: first state of the rollout.\n",
    "        act: The initial action\n",
    "        random_key: random key for stochasiticity handling.\n",
    "        episode_length: length of the rollout.\n",
    "        index: index of the rollout.\n",
    "        play_step_fn: function describing how a step need to be taken.\n",
    "\n",
    "    Returns:\n",
    "        A new state, the experienced transition.\n",
    "    \"\"\"\n",
    "    @jax.jit\n",
    "    def scan_play_step_fn(\n",
    "        carry, unused_arg):\n",
    "        state, act, random_key, p_states = play_step_fn(*carry)\n",
    "        return (state, act, random_key), p_states\n",
    "\n",
    "\n",
    "    (dst_state, dst_act, key), rollout = jax.lax.scan(\n",
    "        scan_play_step_fn, (init_state, act, random_key), None, length=episode_length)\n",
    "\n",
    "    return dst_state, rollout\n",
    "\n",
    "unroll_fn = partial(\n",
    "    generate_unroll,\n",
    "    episode_length=episode_length,\n",
    "    play_step_fn=play_step_fn,\n",
    ")"
   ]
  },
  {
   "cell_type": "code",
   "execution_count": 9,
   "metadata": {},
   "outputs": [
    {
     "name": "stdout",
     "output_type": "stream",
     "text": [
      "Rollout time for batch size 2 : 16.944783210754395\n",
      "Rollout time for batch size 4 : 15.438798189163208\n",
      "Rollout time for batch size 8 : 15.39379072189331\n",
      "Rollout time for batch size 16 : 15.923971176147461\n",
      "Rollout time for batch size 32 : 17.367851734161377\n",
      "Rollout time for batch size 64 : 19.5241641998291\n",
      "Rollout time for batch size 128 : 22.770678758621216\n",
      "Rollout time for batch size 256 : 31.373990297317505\n",
      "Rollout time for batch size 512 : 57.236847162246704\n",
      "Rollout time for batch size 2 : 9.158714056015015\n",
      "Rollout time for batch size 4 : 9.362637042999268\n",
      "Rollout time for batch size 8 : 9.544764280319214\n",
      "Rollout time for batch size 16 : 10.09183955192566\n",
      "Rollout time for batch size 32 : 11.41162657737732\n",
      "Rollout time for batch size 64 : 12.919147729873657\n",
      "Rollout time for batch size 128 : 16.521596431732178\n",
      "Rollout time for batch size 256 : 25.45203185081482\n",
      "Rollout time for batch size 512 : 51.08055019378662\n",
      "Rollout time for batch size 2 : 9.215003252029419\n",
      "Rollout time for batch size 4 : 9.362468242645264\n",
      "Rollout time for batch size 8 : 9.557579278945923\n",
      "Rollout time for batch size 16 : 10.095723867416382\n",
      "Rollout time for batch size 32 : 11.393843173980713\n",
      "Rollout time for batch size 64 : 12.222738027572632\n",
      "Rollout time for batch size 128 : 16.513054847717285\n",
      "Rollout time for batch size 256 : 25.38171911239624\n",
      "Rollout time for batch size 512 : 51.09021329879761\n",
      "Rollout time for batch size 2 : 9.207507610321045\n",
      "Rollout time for batch size 4 : 9.36985468864441\n",
      "Rollout time for batch size 8 : 9.525074243545532\n",
      "Rollout time for batch size 16 : 10.08945369720459\n",
      "Rollout time for batch size 32 : 11.404791355133057\n",
      "Rollout time for batch size 64 : 12.461154699325562\n",
      "Rollout time for batch size 128 : 16.523265600204468\n",
      "Rollout time for batch size 256 : 25.12055993080139\n",
      "Rollout time for batch size 512 : 51.07723546028137\n",
      "Rollout time for batch size 2 : 9.215813398361206\n",
      "Rollout time for batch size 4 : 9.37544560432434\n",
      "Rollout time for batch size 8 : 9.524205923080444\n",
      "Rollout time for batch size 16 : 10.085030555725098\n",
      "Rollout time for batch size 32 : 11.412814140319824\n",
      "Rollout time for batch size 64 : 12.275455713272095\n",
      "Rollout time for batch size 128 : 16.557531118392944\n",
      "Rollout time for batch size 256 : 25.23375654220581\n",
      "Rollout time for batch size 512 : 51.060184717178345\n",
      "Rollout time for batch size 2 : 9.219951152801514\n",
      "Rollout time for batch size 4 : 9.364901065826416\n",
      "Rollout time for batch size 8 : 9.520984649658203\n",
      "Rollout time for batch size 16 : 10.091079235076904\n",
      "Rollout time for batch size 32 : 11.490486860275269\n",
      "Rollout time for batch size 64 : 12.18227243423462\n",
      "Rollout time for batch size 128 : 16.67088007926941\n",
      "Rollout time for batch size 256 : 25.355533361434937\n",
      "Rollout time for batch size 512 : 51.096444845199585\n"
     ]
    }
   ],
   "source": [
    "# # Run rollouts and time them\n",
    "batch_rollout_fn = jax.jit(jax.vmap(unroll_fn))\n",
    "batch_time = dict()\n",
    "iterations = 6\n",
    "\n",
    "# Perform rollout for each batch size\n",
    "for i in range(iterations):\n",
    "    for batch_size in batch_sizes:\n",
    "        random_key, subkey = jax.random.split(random_key)\n",
    "        keys = jax.random.split(subkey, num=batch_size)\n",
    "        # Define initial batches states and actions\n",
    "        init_states = jit_batch_reset_fn(keys)\n",
    "        acts = jp.zeros(shape=(batch_size, env.sys.act_size()), dtype=jp.float32)\n",
    "        start_time = time.time()\n",
    "        dst_states, rollouts = batch_rollout_fn(init_states, acts, keys)\n",
    "        et = time.time()\n",
    "        dt = et - start_time\n",
    "        print(f\"Rollout time for batch size {batch_size} : {dt}\")\n",
    "        if batch_size in batch_time:\n",
    "            batch_time[batch_size].append(dt)\n",
    "        else:\n",
    "            batch_time[batch_size] = [dt]\n",
    "\n"
   ]
  },
  {
   "cell_type": "code",
   "execution_count": 10,
   "metadata": {},
   "outputs": [],
   "source": [
    "# batch_size = 128\n",
    "# random_key, subkey = jax.random.split(random_key)\n",
    "# keys = jax.random.split(subkey, num=batch_size)\n",
    "# # Define initial batches states and actions\n",
    "# init_states = jit_batch_reset_fn(keys)\n",
    "# acts = jp.zeros(shape=(batch_size, env.sys.act_size()), dtype=jp.float32)\n",
    "# start_time = time.time()\n",
    "# dst_states, rollouts = batch_rollout_fn(init_states, acts, keys)\n",
    "# et = time.time()\n",
    "# dt = et - start_time\n",
    "# print(f\"Rollout time for batch size {batch_size} : {dt}\")\n",
    "# batch_time[batch_size] = dt"
   ]
  },
  {
   "cell_type": "code",
   "execution_count": 12,
   "metadata": {},
   "outputs": [],
   "source": [
    "# Save batch times\n",
    "with open('ant_batch_times{}.json'.format(episode_length), 'w') as f: \n",
    "    json.dump(batch_time, f)"
   ]
  },
  {
   "cell_type": "code",
   "execution_count": null,
   "metadata": {},
   "outputs": [],
   "source": []
  }
 ],
 "metadata": {
  "kernelspec": {
   "display_name": "Python [conda env:maax]",
   "language": "python",
   "name": "conda-env-maax-py"
  },
  "language_info": {
   "codemirror_mode": {
    "name": "ipython",
    "version": 3
   },
   "file_extension": ".py",
   "mimetype": "text/x-python",
   "name": "python",
   "nbconvert_exporter": "python",
   "pygments_lexer": "ipython3",
   "version": "3.10.7"
  },
  "vscode": {
   "interpreter": {
    "hash": "d286b5a782650f2d9ae8fe3e234d77a318fcb8a23bb1ca21ad01d6849611a0dc"
   }
  }
 },
 "nbformat": 4,
 "nbformat_minor": 2
}
