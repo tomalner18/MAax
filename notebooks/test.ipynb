{
 "cells": [
  {
   "cell_type": "code",
   "execution_count": 1,
   "metadata": {},
   "outputs": [],
   "source": [
    "import jax.numpy as jp\n",
    "from jax import vmap\n",
    "from jax import ops\n",
    "\n",
    "def circulant(c):\n",
    "    '''\n",
    "    Calculate the circulant permutation for input vecotr c\n",
    "    '''\n",
    "    n = len(c)\n",
    "    idx = jp.arange(n)\n",
    "    idx = idx[:, None] - idx[None, :]\n",
    "    idx = idx % n\n",
    "    idx = idx + jp.arange(n)\n",
    "    idx = idx % n\n",
    "    return idx"
   ]
  },
  {
   "cell_type": "code",
   "execution_count": 2,
   "metadata": {},
   "outputs": [
    {
     "name": "stdout",
     "output_type": "stream",
     "text": [
      "JAX Circulant Matrix:\n",
      "[[0 3 2 1]\n",
      " [1 0 3 2]\n",
      " [2 1 0 3]\n",
      " [3 2 1 0]]\n",
      "\n",
      "SciPy Circulant Matrix:\n",
      "[[1 4 3 2]\n",
      " [2 1 4 3]\n",
      " [3 2 1 4]\n",
      " [4 3 2 1]]\n",
      "\n"
     ]
    },
    {
     "ename": "NameError",
     "evalue": "name 'np' is not defined",
     "output_type": "error",
     "traceback": [
      "\u001b[0;31m---------------------------------------------------------------------------\u001b[0m",
      "\u001b[0;31mNameError\u001b[0m                                 Traceback (most recent call last)",
      "Cell \u001b[0;32mIn[2], line 16\u001b[0m\n\u001b[1;32m     13\u001b[0m \u001b[39mprint\u001b[39m(\u001b[39m\"\u001b[39m\u001b[39m\"\u001b[39m)\n\u001b[1;32m     15\u001b[0m \u001b[39m# Check if the outputs are equivalent\u001b[39;00m\n\u001b[0;32m---> 16\u001b[0m \u001b[39mprint\u001b[39m(\u001b[39m\"\u001b[39m\u001b[39mAre the matrices equal?\u001b[39m\u001b[39m\"\u001b[39m, np\u001b[39m.\u001b[39mallclose(jax_circulant, sp_circulant))\n",
      "\u001b[0;31mNameError\u001b[0m: name 'np' is not defined"
     ]
    }
   ],
   "source": [
    "import scipy.linalg as sp_linalg\n",
    "\n",
    "c = jp.asarray([1, 2, 3, 4])\n",
    "jax_circulant = circulant(c)\n",
    "sp_circulant = sp_linalg.circulant(c)\n",
    "\n",
    "print(\"JAX Circulant Matrix:\")\n",
    "print(jax_circulant)\n",
    "print(\"\")\n",
    "\n",
    "print(\"SciPy Circulant Matrix:\")\n",
    "print(sp_circulant)\n",
    "print(\"\")\n",
    "\n",
    "# Check if the outputs are equivalent\n",
    "print(\"Are the matrices equal?\", np.allclose(jax_circulant, sp_circulant))"
   ]
  }
 ],
 "metadata": {
  "kernelspec": {
   "display_name": "Python 3.10.7 ('maax_venv': venv)",
   "language": "python",
   "name": "python3"
  },
  "language_info": {
   "codemirror_mode": {
    "name": "ipython",
    "version": 3
   },
   "file_extension": ".py",
   "mimetype": "text/x-python",
   "name": "python",
   "nbconvert_exporter": "python",
   "pygments_lexer": "ipython3",
   "version": "3.10.7"
  },
  "orig_nbformat": 4,
  "vscode": {
   "interpreter": {
    "hash": "d286b5a782650f2d9ae8fe3e234d77a318fcb8a23bb1ca21ad01d6849611a0dc"
   }
  }
 },
 "nbformat": 4,
 "nbformat_minor": 2
}
