{
 "cells": [
  {
   "cell_type": "code",
   "execution_count": 1,
   "metadata": {},
   "outputs": [],
   "source": [
    "import os, sys\n",
    "sys.path.append('/Users/tom/dev/imperial/FYP/MAax/')"
   ]
  },
  {
   "cell_type": "code",
   "execution_count": 2,
   "metadata": {},
   "outputs": [],
   "source": [
    "from typing import Any, Callable, Tuple"
   ]
  },
  {
   "cell_type": "code",
   "execution_count": 3,
   "metadata": {},
   "outputs": [],
   "source": [
    "from worldgen import Floor, WorldBuilder\n",
    "from mae_envs.modules.agents import Agents\n",
    "from mae_envs.modules.walls import RandomWalls, WallScenarios\n",
    "from mae_envs.modules.world import FloorAttributes, WorldConstants\n",
    "from mae_envs.modules.objects import Boxes, Cylinders, LidarSites, Ramps\n",
    "from mae_envs.modules.util import uniform_placement, center_placement\n",
    "from mae_envs.envs.hide_and_seek import quad_placement\n"
   ]
  },
  {
   "cell_type": "code",
   "execution_count": 4,
   "metadata": {},
   "outputs": [],
   "source": [
    "import brax\n",
    "import numpy as np\n",
    "from brax.io import mjcf, html\n",
    "from maax.envs.base import Base\n",
    "from mae_envs.util.types import RNGKey, PipelineState, Action\n",
    "from brax.generalized import pipeline\n",
    "\n",
    "import jax\n",
    "from jax import numpy as jp\n",
    "\n",
    "from jax import random\n",
    "\n",
    "from IPython.display import HTML, clear_output\n",
    "clear_output()\n"
   ]
  },
  {
   "cell_type": "code",
   "execution_count": 5,
   "metadata": {},
   "outputs": [],
   "source": [
    "from brax.envs.env import State"
   ]
  },
  {
   "cell_type": "code",
   "execution_count": 6,
   "metadata": {},
   "outputs": [],
   "source": [
    "seed = 80\n",
    "episode_length = 1\n",
    "random_key = jax.random.PRNGKey(seed)"
   ]
  },
  {
   "cell_type": "code",
   "execution_count": 7,
   "metadata": {},
   "outputs": [],
   "source": [
    "def make_env(n_frames=1, horizon=80, deterministic_mode=False,\n",
    "             floor_size=6.0, grid_size=30, door_size=2,\n",
    "             n_agents=2, fixed_agent_spawn=False,\n",
    "             lock_box=True, grab_box=True, grab_selective=False,\n",
    "             lock_type='any_lock_specific',\n",
    "             lock_grab_radius=0.25, grab_exclusive=False, grab_out_of_vision=False,\n",
    "             lock_out_of_vision=True,\n",
    "             box_floor_friction=0.2, other_friction=0.01, gravity=[0, 0, -50],\n",
    "             action_lims=(-0.9, 0.9), polar_obs=True,\n",
    "             scenario='var_quad', p_door_dropout=0.0,\n",
    "             n_rooms=4, random_room_number=True,\n",
    "             n_lidar_per_agent=1, visualize_lidar=True, compress_lidar_scale=None,\n",
    "             n_boxes=2, box_size=0.5, box_only_z_rot=False,\n",
    "             boxid_obs=True, boxsize_obs=True, pad_ramp_size=True, additional_obs={},\n",
    "             # lock-box task\n",
    "             task_type='all', lock_reward=5.0, unlock_penalty=7.0, shaped_reward_scale=0.25,\n",
    "             return_threshold=0.1,\n",
    "             # ramps\n",
    "             n_ramps=1):\n",
    "    '''\n",
    "        This make_env function is not used anywhere; it exists to provide a simple, bare-bones\n",
    "        example of how to construct a multi-agent environment using the modules framework.\n",
    "    '''\n",
    "    env = Base(n_agents=n_agents, n_frames=n_frames, horizon=horizon, grid_size=grid_size,\n",
    "               deterministic_mode=deterministic_mode, seed=seed)\n",
    "    env.add_module(WallScenarios(grid_size=grid_size, door_size=door_size,\n",
    "                                     scenario=scenario, friction=other_friction,\n",
    "                                     p_door_dropout=p_door_dropout))\n",
    "    box_placement_fn = uniform_placement\n",
    "    ramp_placement_fn = uniform_placement\n",
    "    agent_placement_fn = uniform_placement\n",
    "\n",
    "    env.add_module(Agents(n_agents,\n",
    "                          placement_fn=agent_placement_fn,\n",
    "                          color=[np.array((66., 235., 244., 255.)) / 255] * n_agents,\n",
    "                          friction=other_friction,\n",
    "                          polar_obs=polar_obs))\n",
    "\n",
    "    if np.max(n_boxes) > 0:\n",
    "        env.add_module(Boxes(n_boxes=n_boxes, placement_fn=box_placement_fn,\n",
    "                             friction=box_floor_friction, polar_obs=polar_obs,\n",
    "                             n_elongated_boxes=0,\n",
    "                             boxid_obs=boxid_obs,\n",
    "                             box_only_z_rot=box_only_z_rot,\n",
    "                             boxsize_obs=boxsize_obs,\n",
    "                             free=True))\n",
    "\n",
    "    if n_ramps > 0:\n",
    "        env.add_module(Ramps(n_ramps=n_ramps, placement_fn=ramp_placement_fn,\n",
    "                             friction=other_friction, polar_obs=polar_obs,\n",
    "                             pad_ramp_size=pad_ramp_size, free=True))\n",
    "\n",
    "    # if n_lidar_per_agent > 0 and visualize_lidar:\n",
    "    #     env.add_module(LidarSites(n_agents=n_agents, n_lidar_per_agent=n_lidar_per_agent))\n",
    "\n",
    "    # env.add_module(WorldConstants(gravity=gravity))\n",
    "\n",
    "    return env"
   ]
  },
  {
   "cell_type": "code",
   "execution_count": 8,
   "metadata": {},
   "outputs": [],
   "source": [
    "test_env = make_env()\n",
    "\n",
    "test_env.gen_sys(seed)\n",
    "\n",
    "state = jax.jit(test_env.reset)(random_key)"
   ]
  },
  {
   "cell_type": "code",
   "execution_count": 9,
   "metadata": {},
   "outputs": [],
   "source": [
    "def randomise_action(act, random_key):\n",
    "    random_key, _ = random.split(random_key)\n",
    "    return random.uniform(random_key, shape=act.shape, minval=-0.25, maxval=0.25), random_key"
   ]
  },
  {
   "cell_type": "code",
   "execution_count": 10,
   "metadata": {},
   "outputs": [],
   "source": [
    "# rollout = []\n",
    "\n",
    "# for i in range(500):\n",
    "#     print(i)\n",
    "    # act, rng = jax.lax.cond(i % 50 == 0, randomise_action, maintain_action, act, act_size, rng)\n",
    "#     rollout.append(state.pipeline_state)\n",
    "#     state = jit_step_fn(state, act)\n",
    "\n",
    "# html.save('agents.html', test_env.sys, rollout)"
   ]
  },
  {
   "cell_type": "code",
   "execution_count": 11,
   "metadata": {},
   "outputs": [],
   "source": [
    "\n",
    "jit_step_fn = jax.jit(test_env.step)\n",
    "act_size = test_env.sys.act_size()\n",
    "\n",
    "\n",
    "act = jp.zeros(shape=act_size)\n",
    "\n",
    "@jax.jit\n",
    "def play_step_fn(state: State, act: Action, random_key: RNGKey, index: int):\n",
    "    act, random_key = jax.lax.cond(index % 50 == 0, randomise_action, lambda x, y: (x, y), act, random_key)\n",
    "    state = jit_step_fn(state, act)\n",
    "    return state, act, random_key, index + 1, state.pipeline_state\n",
    "\n",
    "def scan_play_step_fn(\n",
    "    carry: Tuple[State, Action, RNGKey, int], unused_arg: Any\n",
    ") ->Tuple[Tuple[State, RNGKey, int], PipelineState]:\n",
    "    state, act, random_key, index, p_states = play_step_fn(*carry)\n",
    "    return (state, act, random_key, index), p_states\n",
    "    \n",
    "\n",
    "(dst_state, dst_act, key, index), rollout = jax.lax.scan(scan_play_step_fn, (state, act, random_key, 0), None, length=episode_length)"
   ]
  },
  {
   "cell_type": "code",
   "execution_count": 12,
   "metadata": {},
   "outputs": [
    {
     "name": "stdout",
     "output_type": "stream",
     "text": [
      "1\n"
     ]
    }
   ],
   "source": [
    "states_list = []\n",
    "\n",
    "for i in range(episode_length):\n",
    "    s = jax.tree_util.tree_map(lambda x: x[i], rollout)\n",
    "    states_list.append(s)\n",
    "\n",
    "\n",
    "print(len(states_list))\n",
    "html.save('uniform.html', test_env.sys, states_list)"
   ]
  }
 ],
 "metadata": {
  "kernelspec": {
   "display_name": "Python 3.10.7 ('maax_venv': venv)",
   "language": "python",
   "name": "python3"
  },
  "language_info": {
   "codemirror_mode": {
    "name": "ipython",
    "version": 3
   },
   "file_extension": ".py",
   "mimetype": "text/x-python",
   "name": "python",
   "nbconvert_exporter": "python",
   "pygments_lexer": "ipython3",
   "version": "3.10.7"
  },
  "orig_nbformat": 4,
  "vscode": {
   "interpreter": {
    "hash": "d286b5a782650f2d9ae8fe3e234d77a318fcb8a23bb1ca21ad01d6849611a0dc"
   }
  }
 },
 "nbformat": 4,
 "nbformat_minor": 2
}
