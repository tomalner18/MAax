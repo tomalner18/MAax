{
 "cells": [
  {
   "cell_type": "code",
   "execution_count": 1,
   "metadata": {},
   "outputs": [],
   "source": [
    "import jax\n",
    "from jax import numpy as jp\n",
    "from matplotlib.lines import Line2D\n",
    "from matplotlib.patches import Circle\n",
    "import matplotlib.pyplot as plt\n",
    "\n",
    "import brax"
   ]
  },
  {
   "cell_type": "code",
   "execution_count": 2,
   "metadata": {},
   "outputs": [
    {
     "name": "stdout",
     "output_type": "stream",
     "text": [
      "0.9.0\n",
      "8.13.2\n"
     ]
    }
   ],
   "source": [
    "print(brax.__version__)\n",
    "import IPython\n",
    "from IPython.display import HTML, clear_output\n",
    "print(IPython.__version__)\n",
    "from brax.io import model\n",
    "from brax.io import json\n",
    "from brax.io import html"
   ]
  },
  {
   "cell_type": "code",
   "execution_count": 3,
   "metadata": {},
   "outputs": [],
   "source": [
    "from brax.io import mjcf\n",
    "\n",
    "# ball = mjcf.loads(\n",
    "#     \"\"\"<mujoco>\n",
    "#          <option timestep=\"0.005\"/>\n",
    "#          <worldbody>\n",
    "#            <body pos=\"0 0 3\">\n",
    "#              <joint type=\"free\"/>\n",
    "#              <geom size=\"0.5 1 1\" type=\"sphere\"/>\n",
    "#            </body>\n",
    "#            <geom size=\"40 40 40\" type=\"plane\"/>\n",
    "#            <geom size=\"0.5 0.5 0.5\" pos=\"3 0 0.5\" type=\"box\" mass=\"1.0\"/>\n",
    "#          </worldbody>\n",
    "#        </mujoco>\n",
    "#   \"\"\")"
   ]
  },
  {
   "cell_type": "code",
   "execution_count": 4,
   "metadata": {},
   "outputs": [],
   "source": [
    "ball = mjcf.loads(\"\"\"\n",
    "<mujoco>\n",
    "\t<option timestep=\"0.005\"/>\n",
    "\t<worldbody>\n",
    "\t\t<geom name=\"floor0\" pos=\"3 3 0\" size=\"3 3 1\" type=\"plane\" condim=\"3\"></geom>\n",
    "\t\t<body name=\"floor0\" pos=\"3 3 0\"></body>\n",
    "\t\t<body pos=\"0.15 0.15 0.15\">\n",
    "\t\t\t<joint axis=\"1 0 0\" damping=\"0.1\" name=\"slide0\" pos=\"0 0 0\" type=\"slide\"></joint>\n",
    "\t\t\t<joint axis=\"0 1 0\" damping=\"0.1\" name=\"slide1\" pos=\"0 0 0\" type=\"slide\"></joint>\n",
    "\t\t\t<joint axis=\"0 0 1\" damping=\"0.1\" name=\"hinge0\" pos=\"0 0 0\" type=\"hinge\"></joint>\n",
    "\t\t\t<geom name=\"agent\" mass=\"1\" pos=\"0 0 0\" rgba=\"1 0 0 1\" size=\"0.15\" type=\"sphere\" euler=\"1.57 0 0\"></geom>\n",
    "\t\t</body>\n",
    "\t\t<body name=\"annotation:outer_bound\" pos=\"0.15 0.15 0.15\">\n",
    "\t\t\t<geom conaffinity=\"0\" contype=\"0\" mass=\"0\" pos=\"0 0 0\" rgba=\"0.417 0.7203 0.0001 0.0\" size=\"0.0001 0.0001 0.0001\" type=\"box\"></geom>\n",
    "\t\t</body>\n",
    "\t\t<body name=\"moveable-box0\" pos=\"0.25 0.25 0.25\">\n",
    "\t\t\t<joint type=\"free\" name=\"moveable-box0_free\" damping=\"0.01\" pos=\"0 0 0\"></joint>\n",
    "\t\t\t<geom size=\"0.25 0.25 0.25\" type=\"box\" condim=\"3\" name=\"moveable-box0\" rgba=\"1 0.5 0.8 1\" mass=\"1\" friction=\"0.2\"></geom>\n",
    "\t\t</body>\n",
    "\t\t<body name=\"moveable-box1\" pos=\"0.25 0.25 0.25\">\n",
    "\t\t\t<joint type=\"free\" name=\"moveable-box1_free\" damping=\"0.01\" pos=\"0 0 0\"></joint>\n",
    "\t\t\t<geom size=\"0.25 0.25 0.25\" type=\"box\" condim=\"3\" name=\"moveable-box1\" rgba=\"1 0.5 0.8 1\" mass=\"1\" friction=\"0.2\"></geom>\n",
    "\t\t</body>\n",
    "\t</worldbody>\n",
    "\t<actuator>\n",
    "\t\t<motor gear=\"100\" joint=\"slide0\"></motor>\n",
    "\t\t<motor gear=\"100\" joint=\"slide1\"></motor>\n",
    "\t</actuator>\n",
    "</mujoco>\"\"\")"
   ]
  },
  {
   "cell_type": "code",
   "execution_count": 5,
   "metadata": {},
   "outputs": [
    {
     "name": "stdout",
     "output_type": "stream",
     "text": [
      "[0.   0.   0.   0.25 0.25 0.25 1.   0.   0.   0.   0.25 0.25 0.25 1.\n",
      " 0.   0.   0.  ]\n"
     ]
    }
   ],
   "source": [
    "print(ball.init_q)"
   ]
  },
  {
   "cell_type": "code",
   "execution_count": 6,
   "metadata": {},
   "outputs": [
    {
     "ename": "IndexError",
     "evalue": "list index out of range",
     "output_type": "error",
     "traceback": [
      "\u001b[0;31m---------------------------------------------------------------------------\u001b[0m",
      "\u001b[0;31mIndexError\u001b[0m                                Traceback (most recent call last)",
      "Cell \u001b[0;32mIn[6], line 15\u001b[0m\n\u001b[1;32m     12\u001b[0m qd \u001b[39m=\u001b[39m jp\u001b[39m.\u001b[39mzeros(ball\u001b[39m.\u001b[39mqd_size())\n\u001b[1;32m     13\u001b[0m state \u001b[39m=\u001b[39m jax\u001b[39m.\u001b[39mjit(pipeline\u001b[39m.\u001b[39minit)(ball, ball\u001b[39m.\u001b[39minit_q, qd)\n\u001b[0;32m---> 15\u001b[0m html\u001b[39m.\u001b[39;49msave(\u001b[39m'\u001b[39;49m\u001b[39mball.html\u001b[39;49m\u001b[39m'\u001b[39;49m, ball, [state])\n",
      "File \u001b[0;32m~/dev/imperial/FYP/MAax/maax_venv/lib/python3.10/site-packages/brax/io/html.py:32\u001b[0m, in \u001b[0;36msave\u001b[0;34m(path, sys, states)\u001b[0m\n\u001b[1;32m     30\u001b[0m \u001b[39mif\u001b[39;00m \u001b[39mnot\u001b[39;00m path\u001b[39m.\u001b[39mparent\u001b[39m.\u001b[39mexists():\n\u001b[1;32m     31\u001b[0m   path\u001b[39m.\u001b[39mparent\u001b[39m.\u001b[39mmkdir(parents\u001b[39m=\u001b[39m\u001b[39mTrue\u001b[39;00m)\n\u001b[0;32m---> 32\u001b[0m path\u001b[39m.\u001b[39mwrite_text(render(sys, states))\n",
      "File \u001b[0;32m~/dev/imperial/FYP/MAax/maax_venv/lib/python3.10/site-packages/brax/io/html.py:73\u001b[0m, in \u001b[0;36mrender\u001b[0;34m(sys, states, height, colab, base_url)\u001b[0m\n\u001b[1;32m     53\u001b[0m \u001b[39mdef\u001b[39;00m \u001b[39mrender\u001b[39m(\n\u001b[1;32m     54\u001b[0m     sys: System,\n\u001b[1;32m     55\u001b[0m     states: List[State],\n\u001b[0;32m   (...)\u001b[0m\n\u001b[1;32m     58\u001b[0m     base_url: Optional[\u001b[39mstr\u001b[39m] \u001b[39m=\u001b[39m \u001b[39mNone\u001b[39;00m,\n\u001b[1;32m     59\u001b[0m ) \u001b[39m-\u001b[39m\u001b[39m>\u001b[39m \u001b[39mstr\u001b[39m:\n\u001b[1;32m     60\u001b[0m \u001b[39m  \u001b[39m\u001b[39m\"\"\"Returns an HTML string for the brax system and trajectory.\u001b[39;00m\n\u001b[1;32m     61\u001b[0m \n\u001b[1;32m     62\u001b[0m \u001b[39m  Args:\u001b[39;00m\n\u001b[0;32m   (...)\u001b[0m\n\u001b[1;32m     71\u001b[0m \u001b[39m    string containing HTML for the brax visualizer\u001b[39;00m\n\u001b[1;32m     72\u001b[0m \u001b[39m  \"\"\"\u001b[39;00m\n\u001b[0;32m---> 73\u001b[0m   \u001b[39mreturn\u001b[39;00m render_from_json(json\u001b[39m.\u001b[39;49mdumps(sys, states), height, colab, base_url)\n",
      "File \u001b[0;32m~/dev/imperial/FYP/MAax/maax_venv/lib/python3.10/site-packages/brax/io/json.py:116\u001b[0m, in \u001b[0;36mdumps\u001b[0;34m(sys, states)\u001b[0m\n\u001b[1;32m    114\u001b[0m   \u001b[39mfor\u001b[39;00m i \u001b[39min\u001b[39;00m \u001b[39mrange\u001b[39m(num_geoms):\n\u001b[1;32m    115\u001b[0m     link_idx \u001b[39m=\u001b[39m \u001b[39m-\u001b[39m\u001b[39m1\u001b[39m \u001b[39mif\u001b[39;00m batch[\u001b[39m'\u001b[39m\u001b[39mlink_idx\u001b[39m\u001b[39m'\u001b[39m] \u001b[39mis\u001b[39;00m \u001b[39mNone\u001b[39;00m \u001b[39melse\u001b[39;00m batch[\u001b[39m'\u001b[39m\u001b[39mlink_idx\u001b[39m\u001b[39m'\u001b[39m][i]\n\u001b[0;32m--> 116\u001b[0m     link_geoms\u001b[39m.\u001b[39msetdefault(link_names[link_idx], [])\u001b[39m.\u001b[39mappend(_take_i(batch, i))\n\u001b[1;32m    117\u001b[0m d[\u001b[39m'\u001b[39m\u001b[39mgeoms\u001b[39m\u001b[39m'\u001b[39m] \u001b[39m=\u001b[39m link_geoms\n\u001b[1;32m    119\u001b[0m \u001b[39m# stack states for the viewer\u001b[39;00m\n",
      "File \u001b[0;32m~/dev/imperial/FYP/MAax/maax_venv/lib/python3.10/site-packages/brax/io/json.py:86\u001b[0m, in \u001b[0;36m_take_i\u001b[0;34m(d, i)\u001b[0m\n\u001b[1;32m     84\u001b[0m   new_d[k] \u001b[39m=\u001b[39m _take_i(v, i)\n\u001b[1;32m     85\u001b[0m \u001b[39melif\u001b[39;00m \u001b[39misinstance\u001b[39m(v, \u001b[39mlist\u001b[39m):\n\u001b[0;32m---> 86\u001b[0m   new_d[k] \u001b[39m=\u001b[39m v[i]\n\u001b[1;32m     87\u001b[0m \u001b[39melse\u001b[39;00m:\n\u001b[1;32m     88\u001b[0m   new_d[k] \u001b[39m=\u001b[39m v\n",
      "\u001b[0;31mIndexError\u001b[0m: list index out of range"
     ]
    }
   ],
   "source": [
    "#@title { run: \"auto\"}\n",
    "from brax.positional import pipeline\n",
    "\n",
    "elasticity = 0.85 #@param { type:\"slider\", min: 0.5, max: 1.0, step:0.05 }\n",
    "ball_velocity = 1 #@param { type:\"slider\", min:-5, max:5, step: 0.5 }\n",
    "\n",
    "# change the material elasticity of the ball and the plane\n",
    "geoms = [g.replace(elasticity=jp.array([elasticity])) for g in ball.geoms]\n",
    "ball = ball.replace(geoms=geoms)\n",
    "\n",
    "# provide an initial velocity to the ball\n",
    "qd = jp.zeros(ball.qd_size())\n",
    "state = jax.jit(pipeline.init)(ball, ball.init_q, qd)\n",
    "\n",
    "html.save('ball.html', ball, [state])"
   ]
  }
 ],
 "metadata": {
  "kernelspec": {
   "display_name": "Python 3.10.7 ('maax_venv': venv)",
   "language": "python",
   "name": "python3"
  },
  "language_info": {
   "codemirror_mode": {
    "name": "ipython",
    "version": 3
   },
   "file_extension": ".py",
   "mimetype": "text/x-python",
   "name": "python",
   "nbconvert_exporter": "python",
   "pygments_lexer": "ipython3",
   "version": "3.10.7"
  },
  "orig_nbformat": 4,
  "vscode": {
   "interpreter": {
    "hash": "d286b5a782650f2d9ae8fe3e234d77a318fcb8a23bb1ca21ad01d6849611a0dc"
   }
  }
 },
 "nbformat": 4,
 "nbformat_minor": 2
}
