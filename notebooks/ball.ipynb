{
 "cells": [
  {
   "cell_type": "code",
   "execution_count": 1,
   "metadata": {},
   "outputs": [],
   "source": [
    "import jax\n",
    "from jax import numpy as jp\n",
    "from matplotlib.lines import Line2D\n",
    "from matplotlib.patches import Circle\n",
    "import matplotlib.pyplot as plt\n",
    "\n",
    "import brax"
   ]
  },
  {
   "cell_type": "code",
   "execution_count": 2,
   "metadata": {},
   "outputs": [
    {
     "name": "stdout",
     "output_type": "stream",
     "text": [
      "0.9.0\n",
      "8.13.2\n"
     ]
    }
   ],
   "source": [
    "print(brax.__version__)\n",
    "import IPython\n",
    "from IPython.display import HTML, clear_output\n",
    "print(IPython.__version__)\n",
    "from brax.io import model\n",
    "from brax.io import json\n",
    "from brax.io import html"
   ]
  },
  {
   "cell_type": "code",
   "execution_count": 3,
   "metadata": {},
   "outputs": [],
   "source": [
    "from brax.io import mjcf\n",
    "\n",
    "ball = mjcf.loads(\n",
    "    \"\"\"<mujoco>\n",
    "         <option timestep=\"0.005\"/>\n",
    "         <worldbody>\n",
    "           <body pos=\"0 0 3\">\n",
    "             <joint type=\"free\"/>\n",
    "             <geom size=\"0.5 1 1\" type=\"sphere\"/>\n",
    "           </body>\n",
    "           <geom size=\"40 40 40\" type=\"plane\"/>\n",
    "         </worldbody>\n",
    "       </mujoco>\n",
    "  \"\"\")"
   ]
  },
  {
   "cell_type": "code",
   "execution_count": 7,
   "metadata": {},
   "outputs": [
    {
     "name": "stdout",
     "output_type": "stream",
     "text": [
      "[0. 0. 3. 1. 0. 0. 0.]\n"
     ]
    }
   ],
   "source": [
    "print(ball.init_q)"
   ]
  },
  {
   "cell_type": "code",
   "execution_count": 23,
   "metadata": {},
   "outputs": [],
   "source": [
    "#@title { run: \"auto\"}\n",
    "from brax.positional import pipeline\n",
    "\n",
    "elasticity = 0.85 #@param { type:\"slider\", min: 0.5, max: 1.0, step:0.05 }\n",
    "ball_velocity = 1 #@param { type:\"slider\", min:-5, max:5, step: 0.5 }\n",
    "\n",
    "# change the material elasticity of the ball and the plane\n",
    "geoms = [g.replace(elasticity=jp.array([elasticity])) for g in ball.geoms]\n",
    "ball = ball.replace(geoms=geoms)\n",
    "\n",
    "# provide an initial velocity to the ball\n",
    "qd = jp.zeros(ball.qd_size())\n",
    "state = jax.jit(pipeline.init)(ball, ball.init_q, qd)\n",
    "\n",
    "html.save('ball.html', ball, [state])"
   ]
  }
 ],
 "metadata": {
  "kernelspec": {
   "display_name": "Python 3.10.7 ('maax_venv': venv)",
   "language": "python",
   "name": "python3"
  },
  "language_info": {
   "codemirror_mode": {
    "name": "ipython",
    "version": 3
   },
   "file_extension": ".py",
   "mimetype": "text/x-python",
   "name": "python",
   "nbconvert_exporter": "python",
   "pygments_lexer": "ipython3",
   "version": "3.10.7"
  },
  "orig_nbformat": 4,
  "vscode": {
   "interpreter": {
    "hash": "d286b5a782650f2d9ae8fe3e234d77a318fcb8a23bb1ca21ad01d6849611a0dc"
   }
  }
 },
 "nbformat": 4,
 "nbformat_minor": 2
}
