{
 "cells": [
  {
   "cell_type": "code",
   "execution_count": 1,
   "metadata": {},
   "outputs": [],
   "source": [
    "import os, sys\n",
    "sys.path.append('/Users/tom/dev/imperial/FYP/MAax/')"
   ]
  },
  {
   "cell_type": "code",
   "execution_count": 2,
   "metadata": {},
   "outputs": [],
   "source": [
    "from typing import Any, Callable, Tuple\n",
    "from functools import partial"
   ]
  },
  {
   "cell_type": "code",
   "execution_count": 3,
   "metadata": {},
   "outputs": [
    {
     "ename": "ImportError",
     "evalue": "cannot import name 'quadrant_placement' from 'mae_envs.envs.hide_and_seek' (/Users/tom/dev/imperial/FYP/MAax/mae_envs/envs/hide_and_seek.py)",
     "output_type": "error",
     "traceback": [
      "\u001b[0;31m---------------------------------------------------------------------------\u001b[0m",
      "\u001b[0;31mImportError\u001b[0m                               Traceback (most recent call last)",
      "Cell \u001b[0;32mIn[3], line 7\u001b[0m\n\u001b[1;32m      5\u001b[0m \u001b[39mfrom\u001b[39;00m \u001b[39mmae_envs\u001b[39;00m\u001b[39m.\u001b[39;00m\u001b[39mmodules\u001b[39;00m\u001b[39m.\u001b[39;00m\u001b[39mobjects\u001b[39;00m \u001b[39mimport\u001b[39;00m Boxes, Cylinders, LidarSites, Ramps\n\u001b[1;32m      6\u001b[0m \u001b[39mfrom\u001b[39;00m \u001b[39mmae_envs\u001b[39;00m\u001b[39m.\u001b[39;00m\u001b[39mmodules\u001b[39;00m\u001b[39m.\u001b[39;00m\u001b[39mutil\u001b[39;00m \u001b[39mimport\u001b[39;00m uniform_placement, center_placement\n\u001b[0;32m----> 7\u001b[0m \u001b[39mfrom\u001b[39;00m \u001b[39mmae_envs\u001b[39;00m\u001b[39m.\u001b[39;00m\u001b[39menvs\u001b[39;00m\u001b[39m.\u001b[39;00m\u001b[39mhide_and_seek\u001b[39;00m \u001b[39mimport\u001b[39;00m quadrant_placement\n",
      "\u001b[0;31mImportError\u001b[0m: cannot import name 'quadrant_placement' from 'mae_envs.envs.hide_and_seek' (/Users/tom/dev/imperial/FYP/MAax/mae_envs/envs/hide_and_seek.py)"
     ]
    }
   ],
   "source": [
    "from worldgen import Floor, WorldBuilder\n",
    "from mae_envs.modules.agents import Agents\n",
    "from mae_envs.modules.walls import RandomWalls, WallScenarios\n",
    "from mae_envs.modules.world import FloorAttributes, WorldConstants\n",
    "from mae_envs.modules.objects import Boxes, Cylinders, LidarSites, Ramps\n",
    "from mae_envs.modules.util import uniform_placement, center_placement\n",
    "from mae_envs.envs.hide_and_seek import quadrant_placement\n"
   ]
  },
  {
   "cell_type": "code",
   "execution_count": null,
   "metadata": {},
   "outputs": [],
   "source": [
    "import brax\n",
    "import numpy as np\n",
    "from brax.io import mjcf, html\n",
    "from brax.training.agents.ppo import train as ppo\n",
    "from maax.envs.base import Base\n",
    "from mae_envs.util.types import RNGKey, PipelineState, Action\n",
    "from brax.generalized import pipeline\n",
    "\n",
    "import jax\n",
    "from jax import numpy as jp\n",
    "\n",
    "from jax import random\n",
    "\n",
    "import time\n",
    "import matplotlib.pyplot as plt\n",
    "\n",
    "from IPython.display import HTML, clear_output\n",
    "clear_output()\n"
   ]
  },
  {
   "cell_type": "code",
   "execution_count": null,
   "metadata": {},
   "outputs": [],
   "source": [
    "from brax.envs.env import State"
   ]
  },
  {
   "cell_type": "code",
   "execution_count": null,
   "metadata": {},
   "outputs": [],
   "source": [
    "seed = 7\n",
    "batch_size = 16\n",
    "horizon = 100\n",
    "random_key = jax.random.PRNGKey(seed)"
   ]
  },
  {
   "cell_type": "code",
   "execution_count": null,
   "metadata": {},
   "outputs": [],
   "source": [
    "def make_env(n_frames=1, horizon=1000, deterministic_mode=False,\n",
    "             floor_size=6.0, grid_size=30, door_size=2,\n",
    "             n_hiders=1, n_seekers=1, max_n_agents=None,\n",
    "             n_boxes=1, n_ramps=1, n_elongated_boxes=0,\n",
    "             rand_num_elongated_boxes=False, n_min_boxes=None,\n",
    "             box_size=0.5, boxid_obs=True, boxsize_obs=True, box_only_z_rot=True,\n",
    "             pad_ramp_size=True,\n",
    "             rew_type='joint_zero_sum',\n",
    "             lock_box=True, grab_box=True, lock_ramp=True,\n",
    "             lock_type='any_lock_specific',\n",
    "             lock_grab_radius=0.25, lock_out_of_vision=True, grab_exclusive=False,\n",
    "             grab_out_of_vision=False, grab_selective=False,\n",
    "             box_floor_friction=0.2, other_friction=0.01, gravity=[0, 0, -50],\n",
    "             action_lims=(-0.9, 0.9), polar_obs=True,\n",
    "             scenario='quadrant', quadrant_game_hider_uniform_placement=False,\n",
    "             p_door_dropout=0.0,\n",
    "             n_rooms=4, random_room_number=True, prob_outside_walls=1.0,\n",
    "             n_lidar_per_agent=0, visualize_lidar=False, compress_lidar_scale=None,\n",
    "             hiders_together_radius=None, seekers_together_radius=None,\n",
    "             prep_fraction=0.4, prep_rem=False,\n",
    "             team_size_obs=False,\n",
    "             restrict_rect=None, penalize_objects_out=False,\n",
    "             ):\n",
    "    '''\n",
    "        This make_env function is not used anywhere; it exists to provide a simple, bare-bones\n",
    "        example of how to construct a multi-agent environment using the modules framework.\n",
    "    '''\n",
    "    n_agents = n_seekers + n_hiders\n",
    "    env = Base(n_agents=n_agents, n_frames=n_frames, horizon=horizon, grid_size=grid_size,\n",
    "               deterministic_mode=deterministic_mode, seed=seed)\n",
    "    env.add_module(WallScenarios(grid_size=grid_size, door_size=door_size,\n",
    "                                     scenario=scenario, friction=other_friction,\n",
    "                                     p_door_dropout=p_door_dropout))\n",
    "    box_placement_fn = uniform_placement\n",
    "    ramp_placement_fn = uniform_placement\n",
    "    agent_placement_fn = uniform_placement\n",
    "\n",
    "    env.add_module(Agents(n_agents,\n",
    "                          placement_fn=agent_placement_fn,\n",
    "                          color=[np.array((66., 235., 244., 255.)) / 255] * n_agents,\n",
    "                          friction=other_friction,\n",
    "                          polar_obs=polar_obs))\n",
    "\n",
    "    if np.max(n_boxes) > 0:\n",
    "        env.add_module(Boxes(n_boxes=n_boxes, placement_fn=box_placement_fn,\n",
    "                             friction=box_floor_friction, polar_obs=polar_obs,\n",
    "                             n_elongated_boxes=0,\n",
    "                             boxid_obs=boxid_obs,\n",
    "                             box_only_z_rot=box_only_z_rot,\n",
    "                             boxsize_obs=boxsize_obs,\n",
    "                             free=True))\n",
    "\n",
    "    if n_ramps > 0:\n",
    "        env.add_module(Ramps(n_ramps=n_ramps, placement_fn=ramp_placement_fn,\n",
    "                             friction=other_friction, polar_obs=polar_obs,\n",
    "                             pad_ramp_size=pad_ramp_size, free=True))\n",
    "\n",
    "    # if n_lidar_per_agent > 0 and visualize_lidar:\n",
    "    #     env.add_module(LidarSites(n_agents=n_agents, n_lidar_per_agent=n_lidar_per_agent))\n",
    "\n",
    "    # env.add_module(WorldConstants(gravity=gravity))\n",
    "\n",
    "    return env"
   ]
  },
  {
   "cell_type": "code",
   "execution_count": null,
   "metadata": {},
   "outputs": [],
   "source": [
    "env = make_env()\n",
    "\n",
    "env.gen_sys(seed)"
   ]
  },
  {
   "cell_type": "code",
   "execution_count": null,
   "metadata": {},
   "outputs": [],
   "source": [
    "@jax.jit\n",
    "def randomise_action(act, random_key):\n",
    "    random_key, _ = random.split(random_key)\n",
    "    return random.uniform(random_key, shape=act.shape, minval=-0.25, maxval=0.25), random_key"
   ]
  },
  {
   "cell_type": "code",
   "execution_count": null,
   "metadata": {},
   "outputs": [
    {
     "name": "stdout",
     "output_type": "stream",
     "text": [
      "Traced<ShapedArray(float32[79])>with<DynamicJaxprTrace(level=1/0)>\n"
     ]
    }
   ],
   "source": [
    "# Create the inital environment states\n",
    "act_size = env.sys.act_size()\n",
    "\n",
    "jit_step_fn = jax.jit(env.step)\n",
    "jit_batch_reset_fn = jax.jit(jax.vmap(env.reset))\n",
    "\n",
    "random_key, subkey = jax.random.split(random_key)\n",
    "keys = jax.random.split(subkey, num=batch_size)\n",
    "\n",
    "# Define initial batches states and actions\n",
    "init_states = jit_batch_reset_fn(keys)\n",
    "acts = jp.zeros(shape=(batch_size, act_size), dtype=jp.float32)"
   ]
  },
  {
   "cell_type": "code",
   "execution_count": null,
   "metadata": {},
   "outputs": [],
   "source": [
    "@jax.jit\n",
    "def play_step_fn(state: State, act: Action, random_key: RNGKey):\n",
    "    act, random_key = randomise_action(act, random_key)\n",
    "    state = jit_step_fn(state, act)\n",
    "    return state, act, random_key, state.pipeline_state\n",
    "\n",
    "@partial(jax.jit, static_argnames=(\"play_step_fn\", \"episode_length\"))\n",
    "def generate_unroll(\n",
    "    init_state: State,\n",
    "    act: Action,\n",
    "    random_key: RNGKey,\n",
    "    episode_length: int,\n",
    "    play_step_fn) -> Tuple[State, Action, RNGKey]:\n",
    "    \"\"\"Generates an episode according to random action, returns the final state of\n",
    "    the episode and the transitions of the episode.\n",
    "\n",
    "    Args:\n",
    "        init_state: first state of the rollout.\n",
    "        act: The initial action\n",
    "        random_key: random key for stochasiticity handling.\n",
    "        episode_length: length of the rollout.\n",
    "        index: index of the rollout.\n",
    "        play_step_fn: function describing how a step need to be taken.\n",
    "\n",
    "    Returns:\n",
    "        A new state, the experienced transition.\n",
    "    \"\"\"\n",
    "    def scan_play_step_fn(\n",
    "        carry: Tuple[State, Action, RNGKey], unused_arg: Any) ->Tuple[Tuple[State, Action, RNGKey], PipelineState]:\n",
    "        state, act, random_key, p_states = play_step_fn(*carry)\n",
    "        return (state, act, random_key), p_states\n",
    "\n",
    "\n",
    "    (dst_state, dst_act, key), rollout = jax.lax.scan(\n",
    "        scan_play_step_fn, (init_state, act, random_key), None, length=episode_length)\n",
    "\n",
    "    return dst_state, rollout, key"
   ]
  },
  {
   "cell_type": "code",
   "execution_count": null,
   "metadata": {},
   "outputs": [],
   "source": [
    "train_fn = partial(ppo.train, num_timesteps=2_000_000, num_evals=20, episode_length=1000, \n",
    "normalize_observations=True, action_repeat=1, batch_size=batch_size, seed=seed)"
   ]
  },
  {
   "cell_type": "code",
   "execution_count": null,
   "metadata": {},
   "outputs": [],
   "source": [
    "max_y = 1000\n",
    "min_y = -1000\n",
    "\n",
    "xdata, ydata = [], []\n",
    "times = [time.time()]\n",
    "\n",
    "def progress(num_steps, metrics):\n",
    "  times.append(time.time())\n",
    "  xdata.append(num_steps)\n",
    "  ydata.append(metrics['eval/episode_reward'])\n",
    "  clear_output(wait=True)\n",
    "  plt.xlim([0, train_fn.keywords['num_timesteps']])\n",
    "  plt.ylim([min_y, max_y])\n",
    "  plt.xlabel('# environment steps')\n",
    "  plt.ylabel('reward per episode')\n",
    "  plt.plot(xdata, ydata)\n",
    "  plt.show()"
   ]
  },
  {
   "cell_type": "code",
   "execution_count": null,
   "metadata": {},
   "outputs": [
    {
     "name": "stdout",
     "output_type": "stream",
     "text": [
      "Traced<ShapedArray(float32[79])>with<DynamicJaxprTrace(level=1/0)>\n",
      "Traced<ShapedArray(float32[79])>with<DynamicJaxprTrace(level=1/0)>\n"
     ]
    },
    {
     "ename": "ValueError",
     "evalue": "Incompatible shapes for broadcasting: shapes=[(128, 2), (128,), (128, 2)]",
     "output_type": "error",
     "traceback": [
      "\u001b[0;31m---------------------------------------------------------------------------\u001b[0m",
      "\u001b[0;31mValueError\u001b[0m                                Traceback (most recent call last)",
      "    \u001b[0;31m[... skipping hidden 1 frame]\u001b[0m\n",
      "File \u001b[0;32m~/dev/imperial/FYP/MAax/maax_venv/lib/python3.10/site-packages/jax/_src/util.py:253\u001b[0m, in \u001b[0;36mcache.<locals>.wrap.<locals>.wrapper\u001b[0;34m(*args, **kwargs)\u001b[0m\n\u001b[1;32m    252\u001b[0m \u001b[39melse\u001b[39;00m:\n\u001b[0;32m--> 253\u001b[0m   \u001b[39mreturn\u001b[39;00m cached(config\u001b[39m.\u001b[39;49m_trace_context(), \u001b[39m*\u001b[39;49margs, \u001b[39m*\u001b[39;49m\u001b[39m*\u001b[39;49mkwargs)\n",
      "File \u001b[0;32m~/dev/imperial/FYP/MAax/maax_venv/lib/python3.10/site-packages/jax/_src/util.py:246\u001b[0m, in \u001b[0;36mcache.<locals>.wrap.<locals>.cached\u001b[0;34m(_, *args, **kwargs)\u001b[0m\n\u001b[1;32m    244\u001b[0m \u001b[39m@functools\u001b[39m\u001b[39m.\u001b[39mlru_cache(max_size)\n\u001b[1;32m    245\u001b[0m \u001b[39mdef\u001b[39;00m \u001b[39mcached\u001b[39m(_, \u001b[39m*\u001b[39margs, \u001b[39m*\u001b[39m\u001b[39m*\u001b[39mkwargs):\n\u001b[0;32m--> 246\u001b[0m   \u001b[39mreturn\u001b[39;00m f(\u001b[39m*\u001b[39;49margs, \u001b[39m*\u001b[39;49m\u001b[39m*\u001b[39;49mkwargs)\n",
      "File \u001b[0;32m~/dev/imperial/FYP/MAax/maax_venv/lib/python3.10/site-packages/jax/_src/lax/lax.py:143\u001b[0m, in \u001b[0;36m_broadcast_shapes_cached\u001b[0;34m(*shapes)\u001b[0m\n\u001b[1;32m    141\u001b[0m \u001b[39m@cache\u001b[39m()\n\u001b[1;32m    142\u001b[0m \u001b[39mdef\u001b[39;00m \u001b[39m_broadcast_shapes_cached\u001b[39m(\u001b[39m*\u001b[39mshapes: Tuple[\u001b[39mint\u001b[39m, \u001b[39m.\u001b[39m\u001b[39m.\u001b[39m\u001b[39m.\u001b[39m]) \u001b[39m-\u001b[39m\u001b[39m>\u001b[39m Tuple[\u001b[39mint\u001b[39m, \u001b[39m.\u001b[39m\u001b[39m.\u001b[39m\u001b[39m.\u001b[39m]:\n\u001b[0;32m--> 143\u001b[0m   \u001b[39mreturn\u001b[39;00m _broadcast_shapes_uncached(\u001b[39m*\u001b[39;49mshapes)\n",
      "File \u001b[0;32m~/dev/imperial/FYP/MAax/maax_venv/lib/python3.10/site-packages/jax/_src/lax/lax.py:159\u001b[0m, in \u001b[0;36m_broadcast_shapes_uncached\u001b[0;34m(*shapes)\u001b[0m\n\u001b[1;32m    158\u001b[0m \u001b[39mif\u001b[39;00m result_shape \u001b[39mis\u001b[39;00m \u001b[39mNone\u001b[39;00m:\n\u001b[0;32m--> 159\u001b[0m   \u001b[39mraise\u001b[39;00m \u001b[39mValueError\u001b[39;00m(\u001b[39mf\u001b[39m\u001b[39m\"\u001b[39m\u001b[39mIncompatible shapes for broadcasting: shapes=\u001b[39m\u001b[39m{\u001b[39;00m\u001b[39mlist\u001b[39m(shapes)\u001b[39m}\u001b[39;00m\u001b[39m\"\u001b[39m)\n\u001b[1;32m    160\u001b[0m \u001b[39mreturn\u001b[39;00m result_shape\n",
      "\u001b[0;31mValueError\u001b[0m: Incompatible shapes for broadcasting: shapes=[(128, 2), (128,), (128, 2)]",
      "\nDuring handling of the above exception, another exception occurred:\n",
      "\u001b[0;31mValueError\u001b[0m                                Traceback (most recent call last)",
      "Cell \u001b[0;32mIn[14], line 1\u001b[0m\n\u001b[0;32m----> 1\u001b[0m make_inference_fn, params, _ \u001b[39m=\u001b[39m train_fn(environment\u001b[39m=\u001b[39;49menv, progress_fn\u001b[39m=\u001b[39;49mprogress)\n",
      "File \u001b[0;32m~/dev/imperial/FYP/MAax/maax_venv/lib/python3.10/site-packages/brax/training/agents/ppo/train.py:316\u001b[0m, in \u001b[0;36mtrain\u001b[0;34m(environment, num_timesteps, episode_length, action_repeat, num_envs, max_devices_per_host, num_eval_envs, learning_rate, entropy_cost, discounting, seed, unroll_length, batch_size, num_minibatches, num_updates_per_batch, num_evals, normalize_observations, reward_scaling, clipping_epsilon, gae_lambda, deterministic_eval, network_factory, progress_fn, normalize_advantage, eval_env, policy_params_fn)\u001b[0m\n\u001b[1;32m    314\u001b[0m \u001b[39m# Run initial eval\u001b[39;00m\n\u001b[1;32m    315\u001b[0m \u001b[39mif\u001b[39;00m process_id \u001b[39m==\u001b[39m \u001b[39m0\u001b[39m \u001b[39mand\u001b[39;00m num_evals \u001b[39m>\u001b[39m \u001b[39m1\u001b[39m:\n\u001b[0;32m--> 316\u001b[0m   metrics \u001b[39m=\u001b[39m evaluator\u001b[39m.\u001b[39;49mrun_evaluation(\n\u001b[1;32m    317\u001b[0m       _unpmap(\n\u001b[1;32m    318\u001b[0m           (training_state\u001b[39m.\u001b[39;49mnormalizer_params, training_state\u001b[39m.\u001b[39;49mparams\u001b[39m.\u001b[39;49mpolicy)),\n\u001b[1;32m    319\u001b[0m       training_metrics\u001b[39m=\u001b[39;49m{})\n\u001b[1;32m    320\u001b[0m   logging\u001b[39m.\u001b[39minfo(metrics)\n\u001b[1;32m    321\u001b[0m   progress_fn(\u001b[39m0\u001b[39m, metrics)\n",
      "File \u001b[0;32m~/dev/imperial/FYP/MAax/maax_venv/lib/python3.10/site-packages/brax/training/acting.py:122\u001b[0m, in \u001b[0;36mEvaluator.run_evaluation\u001b[0;34m(self, policy_params, training_metrics, aggregate_episodes)\u001b[0m\n\u001b[1;32m    119\u001b[0m \u001b[39mself\u001b[39m\u001b[39m.\u001b[39m_key, unroll_key \u001b[39m=\u001b[39m jax\u001b[39m.\u001b[39mrandom\u001b[39m.\u001b[39msplit(\u001b[39mself\u001b[39m\u001b[39m.\u001b[39m_key)\n\u001b[1;32m    121\u001b[0m t \u001b[39m=\u001b[39m time\u001b[39m.\u001b[39mtime()\n\u001b[0;32m--> 122\u001b[0m eval_state \u001b[39m=\u001b[39m \u001b[39mself\u001b[39;49m\u001b[39m.\u001b[39;49m_generate_eval_unroll(policy_params, unroll_key)\n\u001b[1;32m    123\u001b[0m eval_metrics \u001b[39m=\u001b[39m eval_state\u001b[39m.\u001b[39minfo[\u001b[39m'\u001b[39m\u001b[39meval_metrics\u001b[39m\u001b[39m'\u001b[39m]\n\u001b[1;32m    124\u001b[0m eval_metrics\u001b[39m.\u001b[39mactive_episodes\u001b[39m.\u001b[39mblock_until_ready()\n",
      "    \u001b[0;31m[... skipping hidden 12 frame]\u001b[0m\n",
      "File \u001b[0;32m~/dev/imperial/FYP/MAax/maax_venv/lib/python3.10/site-packages/brax/training/acting.py:104\u001b[0m, in \u001b[0;36mEvaluator.__init__.<locals>.generate_eval_unroll\u001b[0;34m(policy_params, key)\u001b[0m\n\u001b[1;32m    102\u001b[0m reset_keys \u001b[39m=\u001b[39m jax\u001b[39m.\u001b[39mrandom\u001b[39m.\u001b[39msplit(key, num_eval_envs)\n\u001b[1;32m    103\u001b[0m eval_first_state \u001b[39m=\u001b[39m eval_env\u001b[39m.\u001b[39mreset(reset_keys)\n\u001b[0;32m--> 104\u001b[0m \u001b[39mreturn\u001b[39;00m generate_unroll(\n\u001b[1;32m    105\u001b[0m     eval_env,\n\u001b[1;32m    106\u001b[0m     eval_first_state,\n\u001b[1;32m    107\u001b[0m     eval_policy_fn(policy_params),\n\u001b[1;32m    108\u001b[0m     key,\n\u001b[1;32m    109\u001b[0m     unroll_length\u001b[39m=\u001b[39;49mepisode_length \u001b[39m/\u001b[39;49m\u001b[39m/\u001b[39;49m action_repeat)[\u001b[39m0\u001b[39m]\n",
      "File \u001b[0;32m~/dev/imperial/FYP/MAax/maax_venv/lib/python3.10/site-packages/brax/training/acting.py:72\u001b[0m, in \u001b[0;36mgenerate_unroll\u001b[0;34m(env, env_state, policy, key, unroll_length, extra_fields)\u001b[0m\n\u001b[1;32m     68\u001b[0m   nstate, transition \u001b[39m=\u001b[39m actor_step(\n\u001b[1;32m     69\u001b[0m       env, state, policy, current_key, extra_fields\u001b[39m=\u001b[39mextra_fields)\n\u001b[1;32m     70\u001b[0m   \u001b[39mreturn\u001b[39;00m (nstate, next_key), transition\n\u001b[0;32m---> 72\u001b[0m (final_state, _), data \u001b[39m=\u001b[39m jax\u001b[39m.\u001b[39;49mlax\u001b[39m.\u001b[39;49mscan(\n\u001b[1;32m     73\u001b[0m     f, (env_state, key), (), length\u001b[39m=\u001b[39;49munroll_length)\n\u001b[1;32m     74\u001b[0m \u001b[39mreturn\u001b[39;00m final_state, data\n",
      "    \u001b[0;31m[... skipping hidden 21 frame]\u001b[0m\n",
      "File \u001b[0;32m~/dev/imperial/FYP/MAax/maax_venv/lib/python3.10/site-packages/brax/training/acting.py:68\u001b[0m, in \u001b[0;36mgenerate_unroll.<locals>.f\u001b[0;34m(carry, unused_t)\u001b[0m\n\u001b[1;32m     66\u001b[0m state, current_key \u001b[39m=\u001b[39m carry\n\u001b[1;32m     67\u001b[0m current_key, next_key \u001b[39m=\u001b[39m jax\u001b[39m.\u001b[39mrandom\u001b[39m.\u001b[39msplit(current_key)\n\u001b[0;32m---> 68\u001b[0m nstate, transition \u001b[39m=\u001b[39m actor_step(\n\u001b[1;32m     69\u001b[0m     env, state, policy, current_key, extra_fields\u001b[39m=\u001b[39;49mextra_fields)\n\u001b[1;32m     70\u001b[0m \u001b[39mreturn\u001b[39;00m (nstate, next_key), transition\n",
      "File \u001b[0;32m~/dev/imperial/FYP/MAax/maax_venv/lib/python3.10/site-packages/brax/training/acting.py:40\u001b[0m, in \u001b[0;36mactor_step\u001b[0;34m(env, env_state, policy, key, extra_fields)\u001b[0m\n\u001b[1;32m     38\u001b[0m \u001b[39m\u001b[39m\u001b[39m\"\"\"Collect data.\"\"\"\u001b[39;00m\n\u001b[1;32m     39\u001b[0m actions, policy_extras \u001b[39m=\u001b[39m policy(env_state\u001b[39m.\u001b[39mobs, key)\n\u001b[0;32m---> 40\u001b[0m nstate \u001b[39m=\u001b[39m env\u001b[39m.\u001b[39;49mstep(env_state, actions)\n\u001b[1;32m     41\u001b[0m state_extras \u001b[39m=\u001b[39m {x: nstate\u001b[39m.\u001b[39minfo[x] \u001b[39mfor\u001b[39;00m x \u001b[39min\u001b[39;00m extra_fields}\n\u001b[1;32m     42\u001b[0m \u001b[39mreturn\u001b[39;00m nstate, Transition(  \u001b[39m# pytype: disable=wrong-arg-types  # jax-ndarray\u001b[39;00m\n\u001b[1;32m     43\u001b[0m     observation\u001b[39m=\u001b[39menv_state\u001b[39m.\u001b[39mobs,\n\u001b[1;32m     44\u001b[0m     action\u001b[39m=\u001b[39mactions,\n\u001b[0;32m   (...)\u001b[0m\n\u001b[1;32m     50\u001b[0m         \u001b[39m'\u001b[39m\u001b[39mstate_extras\u001b[39m\u001b[39m'\u001b[39m: state_extras\n\u001b[1;32m     51\u001b[0m     })\n",
      "File \u001b[0;32m~/dev/imperial/FYP/MAax/maax_venv/lib/python3.10/site-packages/brax/v1/envs/wrappers.py:190\u001b[0m, in \u001b[0;36mEvalWrapper.step\u001b[0;34m(self, state, action)\u001b[0m\n\u001b[1;32m    188\u001b[0m nstate \u001b[39m=\u001b[39m \u001b[39mself\u001b[39m\u001b[39m.\u001b[39menv\u001b[39m.\u001b[39mstep(state, action)\n\u001b[1;32m    189\u001b[0m nstate\u001b[39m.\u001b[39mmetrics[\u001b[39m'\u001b[39m\u001b[39mreward\u001b[39m\u001b[39m'\u001b[39m] \u001b[39m=\u001b[39m nstate\u001b[39m.\u001b[39mreward\n\u001b[0;32m--> 190\u001b[0m episode_steps \u001b[39m=\u001b[39m jp\u001b[39m.\u001b[39;49mwhere(state_metrics\u001b[39m.\u001b[39;49mactive_episodes,\n\u001b[1;32m    191\u001b[0m                          nstate\u001b[39m.\u001b[39;49minfo[\u001b[39m'\u001b[39;49m\u001b[39msteps\u001b[39;49m\u001b[39m'\u001b[39;49m], state_metrics\u001b[39m.\u001b[39;49mepisode_steps)\n\u001b[1;32m    192\u001b[0m episode_metrics \u001b[39m=\u001b[39m jax\u001b[39m.\u001b[39mtree_util\u001b[39m.\u001b[39mtree_map(\n\u001b[1;32m    193\u001b[0m     \u001b[39mlambda\u001b[39;00m a, b: a \u001b[39m+\u001b[39m b \u001b[39m*\u001b[39m state_metrics\u001b[39m.\u001b[39mactive_episodes,\n\u001b[1;32m    194\u001b[0m     state_metrics\u001b[39m.\u001b[39mepisode_metrics, nstate\u001b[39m.\u001b[39mmetrics)\n\u001b[1;32m    195\u001b[0m active_episodes \u001b[39m=\u001b[39m state_metrics\u001b[39m.\u001b[39mactive_episodes \u001b[39m*\u001b[39m (\u001b[39m1\u001b[39m \u001b[39m-\u001b[39m nstate\u001b[39m.\u001b[39mdone)\n",
      "File \u001b[0;32m~/dev/imperial/FYP/MAax/maax_venv/lib/python3.10/site-packages/brax/v1/jumpy.py:515\u001b[0m, in \u001b[0;36mwhere\u001b[0;34m(condition, x, y)\u001b[0m\n\u001b[1;32m    512\u001b[0m \u001b[39mdef\u001b[39;00m \u001b[39mwhere\u001b[39m(condition: jax\u001b[39m.\u001b[39mtyping\u001b[39m.\u001b[39mArrayLike, x: jax\u001b[39m.\u001b[39mtyping\u001b[39m.\u001b[39mArrayLike,\n\u001b[1;32m    513\u001b[0m           y: jax\u001b[39m.\u001b[39mtyping\u001b[39m.\u001b[39mArrayLike) \u001b[39m-\u001b[39m\u001b[39m>\u001b[39m ndarray:\n\u001b[1;32m    514\u001b[0m \u001b[39m  \u001b[39m\u001b[39m\"\"\"Return elements chosen from `x` or `y` depending on `condition`.\"\"\"\u001b[39;00m\n\u001b[0;32m--> 515\u001b[0m   \u001b[39mreturn\u001b[39;00m _which_np(condition, x, y)\u001b[39m.\u001b[39;49mwhere(condition, x, y)\n",
      "File \u001b[0;32m~/dev/imperial/FYP/MAax/maax_venv/lib/python3.10/site-packages/jax/_src/numpy/lax_numpy.py:1041\u001b[0m, in \u001b[0;36mwhere\u001b[0;34m(condition, x, y, size, fill_value)\u001b[0m\n\u001b[1;32m   1039\u001b[0m \u001b[39mif\u001b[39;00m size \u001b[39mis\u001b[39;00m \u001b[39mnot\u001b[39;00m \u001b[39mNone\u001b[39;00m \u001b[39mor\u001b[39;00m fill_value \u001b[39mis\u001b[39;00m \u001b[39mnot\u001b[39;00m \u001b[39mNone\u001b[39;00m:\n\u001b[1;32m   1040\u001b[0m   \u001b[39mraise\u001b[39;00m \u001b[39mValueError\u001b[39;00m(\u001b[39m\"\u001b[39m\u001b[39msize and fill_value arguments cannot be used in three-term where function.\u001b[39m\u001b[39m\"\u001b[39m)\n\u001b[0;32m-> 1041\u001b[0m \u001b[39mreturn\u001b[39;00m util\u001b[39m.\u001b[39;49m_where(condition, x, y)\n",
      "    \u001b[0;31m[... skipping hidden 12 frame]\u001b[0m\n",
      "File \u001b[0;32m~/dev/imperial/FYP/MAax/maax_venv/lib/python3.10/site-packages/jax/_src/numpy/util.py:438\u001b[0m, in \u001b[0;36m_where\u001b[0;34m(condition, x, y)\u001b[0m\n\u001b[1;32m    436\u001b[0m   condition \u001b[39m=\u001b[39m lax\u001b[39m.\u001b[39mne(condition, lax\u001b[39m.\u001b[39m_zero(condition))\n\u001b[1;32m    437\u001b[0m x, y \u001b[39m=\u001b[39m promote_dtypes(x, y)\n\u001b[0;32m--> 438\u001b[0m condition_arr, x_arr, y_arr \u001b[39m=\u001b[39m _broadcast_arrays(condition, x, y)\n\u001b[1;32m    439\u001b[0m \u001b[39mtry\u001b[39;00m:\n\u001b[1;32m    440\u001b[0m   is_always_empty \u001b[39m=\u001b[39m core\u001b[39m.\u001b[39mis_empty_shape(x_arr\u001b[39m.\u001b[39mshape)\n",
      "    \u001b[0;31m[... skipping hidden 12 frame]\u001b[0m\n",
      "File \u001b[0;32m~/dev/imperial/FYP/MAax/maax_venv/lib/python3.10/site-packages/jax/_src/numpy/util.py:396\u001b[0m, in \u001b[0;36m_broadcast_arrays\u001b[0;34m(*args)\u001b[0m\n\u001b[1;32m    394\u001b[0m \u001b[39mif\u001b[39;00m \u001b[39mnot\u001b[39;00m shapes \u001b[39mor\u001b[39;00m \u001b[39mall\u001b[39m(core\u001b[39m.\u001b[39msymbolic_equal_shape(shapes[\u001b[39m0\u001b[39m], s) \u001b[39mfor\u001b[39;00m s \u001b[39min\u001b[39;00m shapes):\n\u001b[1;32m    395\u001b[0m   \u001b[39mreturn\u001b[39;00m [_asarray(arg) \u001b[39mfor\u001b[39;00m arg \u001b[39min\u001b[39;00m args]\n\u001b[0;32m--> 396\u001b[0m result_shape \u001b[39m=\u001b[39m lax\u001b[39m.\u001b[39;49mbroadcast_shapes(\u001b[39m*\u001b[39;49mshapes)\n\u001b[1;32m    397\u001b[0m \u001b[39mreturn\u001b[39;00m [_broadcast_to(arg, result_shape) \u001b[39mfor\u001b[39;00m arg \u001b[39min\u001b[39;00m args]\n",
      "    \u001b[0;31m[... skipping hidden 1 frame]\u001b[0m\n",
      "File \u001b[0;32m~/dev/imperial/FYP/MAax/maax_venv/lib/python3.10/site-packages/jax/_src/lax/lax.py:159\u001b[0m, in \u001b[0;36m_broadcast_shapes_uncached\u001b[0;34m(*shapes)\u001b[0m\n\u001b[1;32m    157\u001b[0m result_shape \u001b[39m=\u001b[39m _try_broadcast_shapes(shape_list)\n\u001b[1;32m    158\u001b[0m \u001b[39mif\u001b[39;00m result_shape \u001b[39mis\u001b[39;00m \u001b[39mNone\u001b[39;00m:\n\u001b[0;32m--> 159\u001b[0m   \u001b[39mraise\u001b[39;00m \u001b[39mValueError\u001b[39;00m(\u001b[39mf\u001b[39m\u001b[39m\"\u001b[39m\u001b[39mIncompatible shapes for broadcasting: shapes=\u001b[39m\u001b[39m{\u001b[39;00m\u001b[39mlist\u001b[39m(shapes)\u001b[39m}\u001b[39;00m\u001b[39m\"\u001b[39m)\n\u001b[1;32m    160\u001b[0m \u001b[39mreturn\u001b[39;00m result_shape\n",
      "\u001b[0;31mValueError\u001b[0m: Incompatible shapes for broadcasting: shapes=[(128, 2), (128,), (128, 2)]"
     ]
    }
   ],
   "source": [
    "make_inference_fn, params, _ = train_fn(environment=env, progress_fn=progress)"
   ]
  },
  {
   "cell_type": "code",
   "execution_count": null,
   "metadata": {},
   "outputs": [],
   "source": [
    "print(f'time to jit: {times[1] - times[0]}')\n",
    "print(f'time to train: {times[-1] - times[1]}')"
   ]
  },
  {
   "cell_type": "code",
   "execution_count": null,
   "metadata": {},
   "outputs": [],
   "source": [
    "unroll_fn = partial(\n",
    "    generate_unroll,\n",
    "    episode_length=horizon,\n",
    "    play_step_fn=play_step_fn,\n",
    ")\n",
    "\n",
    "dst_states, rollouts, random_key = jax.vmap(unroll_fn)(init_states, acts, keys)\n",
    "\n",
    "\n",
    "# (dst_state, dst_act, key, index), rollout = jax.lax.scan(scan_play_step_fn, (state, act, random_key, 0), None, length=episode_length)"
   ]
  },
  {
   "cell_type": "code",
   "execution_count": null,
   "metadata": {},
   "outputs": [],
   "source": [
    "states_list = []\n",
    "# for j in range(batch_size):\n",
    "#     for i in range(episode_length):\n",
    "#         s = jax.tree_util.tree_map(lambda x: x[j][i], rollouts)\n",
    "#         states_list.append(s)\n",
    "\n",
    "\n",
    "# print(len(states_list))\n",
    "# html.save('parallel.html', test_env.sys, states_list[:episode_length])"
   ]
  }
 ],
 "metadata": {
  "kernelspec": {
   "display_name": "Python 3.10.7 ('maax_venv': venv)",
   "language": "python",
   "name": "python3"
  },
  "language_info": {
   "codemirror_mode": {
    "name": "ipython",
    "version": 3
   },
   "file_extension": ".py",
   "mimetype": "text/x-python",
   "name": "python",
   "nbconvert_exporter": "python",
   "pygments_lexer": "ipython3",
   "version": "3.10.7"
  },
  "orig_nbformat": 4,
  "vscode": {
   "interpreter": {
    "hash": "d286b5a782650f2d9ae8fe3e234d77a318fcb8a23bb1ca21ad01d6849611a0dc"
   }
  }
 },
 "nbformat": 4,
 "nbformat_minor": 2
}
