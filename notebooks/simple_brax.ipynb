{
 "cells": [
  {
   "cell_type": "code",
   "execution_count": 1,
   "metadata": {},
   "outputs": [],
   "source": [
    "import os, sys\n",
    "sys.path.append('/Users/tom/dev/imperial/FYP/MAax/')"
   ]
  },
  {
   "cell_type": "code",
   "execution_count": 2,
   "metadata": {},
   "outputs": [],
   "source": [
    "from mujoco_worldgen import Floor, WorldBuilder, WorldParams, Env\n",
    "from mae_envs.modules.agents import Agents\n",
    "from mae_envs.modules.walls import RandomWalls, WallScenarios\n",
    "from mae_envs.modules.world import FloorAttributes, WorldConstants\n",
    "from mae_envs.modules.objects import Boxes, Cylinders, LidarSites, Ramps\n",
    "from mae_envs.modules.util import uniform_placement, center_placement\n",
    "from mae_envs.envs.hide_and_seek import quadrant_placement\n"
   ]
  },
  {
   "cell_type": "code",
   "execution_count": 3,
   "metadata": {},
   "outputs": [],
   "source": [
    "import brax\n",
    "import numpy as np\n",
    "from brax.io import mjcf, html\n",
    "from maax.envs.base import Base\n",
    "from brax.generalized import pipeline\n",
    "\n",
    "import jax\n",
    "from jax import numpy as jp\n",
    "\n",
    "from jax import random\n",
    "\n",
    "from IPython.display import HTML, clear_output\n",
    "clear_output()\n"
   ]
  },
  {
   "cell_type": "code",
   "execution_count": 4,
   "metadata": {},
   "outputs": [],
   "source": [
    "seed = 10\n",
    "key = jax.random.PRNGKey(seed)"
   ]
  },
  {
   "cell_type": "code",
   "execution_count": 5,
   "metadata": {},
   "outputs": [],
   "source": [
    "def make_env(n_substeps=15, horizon=80, deterministic_mode=False,\n",
    "             floor_size=6.0, grid_size=30, door_size=2,\n",
    "             n_agents=2, fixed_agent_spawn=False,\n",
    "             lock_box=True, grab_box=True, grab_selective=False,\n",
    "             lock_type='any_lock_specific',\n",
    "             lock_grab_radius=0.25, grab_exclusive=False, grab_out_of_vision=False,\n",
    "             lock_out_of_vision=True,\n",
    "             box_floor_friction=0.2, other_friction=0.01, gravity=[0, 0, -50],\n",
    "             action_lims=(-0.9, 0.9), polar_obs=True,\n",
    "             scenario='quadrant', p_door_dropout=0.0,\n",
    "             n_rooms=4, random_room_number=True,\n",
    "             n_lidar_per_agent=1, visualize_lidar=True, compress_lidar_scale=None,\n",
    "             n_boxes=3, box_size=0.5, box_only_z_rot=False,\n",
    "             boxid_obs=True, boxsize_obs=True, pad_ramp_size=True, additional_obs={},\n",
    "             # lock-box task\n",
    "             task_type='all', lock_reward=5.0, unlock_penalty=7.0, shaped_reward_scale=0.25,\n",
    "             return_threshold=0.1,\n",
    "             # ramps\n",
    "             n_ramps=3):\n",
    "    '''\n",
    "        This make_env function is not used anywhere; it exists to provide a simple, bare-bones\n",
    "        example of how to construct a multi-agent environment using the modules framework.\n",
    "    '''\n",
    "    env = Base(n_agents=n_agents, n_substeps=n_substeps, horizon=horizon, grid_size=grid_size,\n",
    "               deterministic_mode=deterministic_mode, seed=seed)\n",
    "    env.add_module(WallScenarios(grid_size=grid_size, door_size=door_size,\n",
    "                                     scenario=scenario, friction=other_friction,\n",
    "                                     p_door_dropout=p_door_dropout))\n",
    "    box_placement_fn = uniform_placement\n",
    "    ramp_placement_fn = uniform_placement\n",
    "    agent_placement_fn = uniform_placement\n",
    "\n",
    "    env.add_module(Agents(n_agents,\n",
    "                          placement_fn=agent_placement_fn,\n",
    "                          color=[np.array((66., 235., 244., 255.)) / 255] * n_agents,\n",
    "                          friction=other_friction,\n",
    "                          polar_obs=polar_obs))\n",
    "\n",
    "    if np.max(n_boxes) > 0:\n",
    "        env.add_module(Boxes(n_boxes=n_boxes, placement_fn=box_placement_fn,\n",
    "                             friction=box_floor_friction, polar_obs=polar_obs,\n",
    "                             n_elongated_boxes=0,\n",
    "                             boxid_obs=boxid_obs,\n",
    "                             box_only_z_rot=box_only_z_rot,\n",
    "                             boxsize_obs=boxsize_obs,\n",
    "                             free=True))\n",
    "\n",
    "    if n_ramps > 0:\n",
    "        env.add_module(Ramps(n_ramps=n_ramps, placement_fn=ramp_placement_fn,\n",
    "                             friction=other_friction, polar_obs=polar_obs,\n",
    "                             pad_ramp_size=pad_ramp_size, free=True))\n",
    "\n",
    "    if n_lidar_per_agent > 0 and visualize_lidar:\n",
    "        env.add_module(LidarSites(n_agents=n_agents, n_lidar_per_agent=n_lidar_per_agent))\n",
    "\n",
    "    # env.add_module(WorldConstants(gravity=gravity))\n",
    "\n",
    "    return env"
   ]
  },
  {
   "cell_type": "code",
   "execution_count": 6,
   "metadata": {},
   "outputs": [
    {
     "ename": "TypeError",
     "evalue": "PipelineEnv.__init__() got an unexpected keyword argument 'gdeterministic_mode'",
     "output_type": "error",
     "traceback": [
      "\u001b[0;31m---------------------------------------------------------------------------\u001b[0m",
      "\u001b[0;31mTypeError\u001b[0m                                 Traceback (most recent call last)",
      "Cell \u001b[0;32mIn[6], line 1\u001b[0m\n\u001b[0;32m----> 1\u001b[0m test_env \u001b[39m=\u001b[39m make_env()\n\u001b[1;32m      3\u001b[0m xml, init_dict, callbacks \u001b[39m=\u001b[39m test_env\u001b[39m.\u001b[39m_get_xml(seed)\n\u001b[1;32m      5\u001b[0m \u001b[39m# print(xml)\u001b[39;00m\n\u001b[1;32m      6\u001b[0m \u001b[39m# print(sys)\u001b[39;00m\n",
      "Cell \u001b[0;32mIn[5], line 24\u001b[0m, in \u001b[0;36mmake_env\u001b[0;34m(n_substeps, horizon, deterministic_mode, floor_size, grid_size, door_size, n_agents, fixed_agent_spawn, lock_box, grab_box, grab_selective, lock_type, lock_grab_radius, grab_exclusive, grab_out_of_vision, lock_out_of_vision, box_floor_friction, other_friction, gravity, action_lims, polar_obs, scenario, p_door_dropout, n_rooms, random_room_number, n_lidar_per_agent, visualize_lidar, compress_lidar_scale, n_boxes, box_size, box_only_z_rot, boxid_obs, boxsize_obs, pad_ramp_size, additional_obs, task_type, lock_reward, unlock_penalty, shaped_reward_scale, return_threshold, n_ramps)\u001b[0m\n\u001b[1;32m      1\u001b[0m \u001b[39mdef\u001b[39;00m \u001b[39mmake_env\u001b[39m(n_substeps\u001b[39m=\u001b[39m\u001b[39m15\u001b[39m, horizon\u001b[39m=\u001b[39m\u001b[39m80\u001b[39m, deterministic_mode\u001b[39m=\u001b[39m\u001b[39mFalse\u001b[39;00m,\n\u001b[1;32m      2\u001b[0m              floor_size\u001b[39m=\u001b[39m\u001b[39m6.0\u001b[39m, grid_size\u001b[39m=\u001b[39m\u001b[39m30\u001b[39m, door_size\u001b[39m=\u001b[39m\u001b[39m2\u001b[39m,\n\u001b[1;32m      3\u001b[0m              n_agents\u001b[39m=\u001b[39m\u001b[39m2\u001b[39m, fixed_agent_spawn\u001b[39m=\u001b[39m\u001b[39mFalse\u001b[39;00m,\n\u001b[0;32m   (...)\u001b[0m\n\u001b[1;32m     18\u001b[0m              \u001b[39m# ramps\u001b[39;00m\n\u001b[1;32m     19\u001b[0m              n_ramps\u001b[39m=\u001b[39m\u001b[39m3\u001b[39m):\n\u001b[1;32m     20\u001b[0m \u001b[39m    \u001b[39m\u001b[39m'''\u001b[39;00m\n\u001b[1;32m     21\u001b[0m \u001b[39m        This make_env function is not used anywhere; it exists to provide a simple, bare-bones\u001b[39;00m\n\u001b[1;32m     22\u001b[0m \u001b[39m        example of how to construct a multi-agent environment using the modules framework.\u001b[39;00m\n\u001b[1;32m     23\u001b[0m \u001b[39m    '''\u001b[39;00m\n\u001b[0;32m---> 24\u001b[0m     env \u001b[39m=\u001b[39m Base(n_agents\u001b[39m=\u001b[39;49mn_agents, n_substeps\u001b[39m=\u001b[39;49mn_substeps, horizon\u001b[39m=\u001b[39;49mhorizon, grid_size\u001b[39m=\u001b[39;49mgrid_size,\n\u001b[1;32m     25\u001b[0m                gdeterministic_mode\u001b[39m=\u001b[39;49mdeterministic_mode, seed\u001b[39m=\u001b[39;49mseed)\n\u001b[1;32m     26\u001b[0m     env\u001b[39m.\u001b[39madd_module(WallScenarios(grid_size\u001b[39m=\u001b[39mgrid_size, door_size\u001b[39m=\u001b[39mdoor_size,\n\u001b[1;32m     27\u001b[0m                                      scenario\u001b[39m=\u001b[39mscenario, friction\u001b[39m=\u001b[39mother_friction,\n\u001b[1;32m     28\u001b[0m                                      p_door_dropout\u001b[39m=\u001b[39mp_door_dropout))\n\u001b[1;32m     29\u001b[0m     box_placement_fn \u001b[39m=\u001b[39m uniform_placement\n",
      "File \u001b[0;32m~/dev/imperial/FYP/MAax/maax/envs/base.py:49\u001b[0m, in \u001b[0;36mBase.__init__\u001b[0;34m(self, horizon, n_substeps, n_agents, floor_size, grid_size, action_lims, deterministic_mode, seed, backend, **kwargs)\u001b[0m\n\u001b[1;32m     34\u001b[0m \u001b[39mdef\u001b[39;00m \u001b[39m__init__\u001b[39m(\n\u001b[1;32m     35\u001b[0m     \u001b[39mself\u001b[39m, \n\u001b[1;32m     36\u001b[0m     horizon\u001b[39m=\u001b[39m\u001b[39m250\u001b[39m, \n\u001b[0;32m   (...)\u001b[0m\n\u001b[1;32m     44\u001b[0m     backend\u001b[39m=\u001b[39m\u001b[39m'\u001b[39m\u001b[39mgeneralized\u001b[39m\u001b[39m'\u001b[39m,\n\u001b[1;32m     45\u001b[0m     \u001b[39m*\u001b[39m\u001b[39m*\u001b[39mkwargs):\n\u001b[1;32m     47\u001b[0m     sys \u001b[39m=\u001b[39m \u001b[39mNone\u001b[39;00m\n\u001b[0;32m---> 49\u001b[0m     \u001b[39msuper\u001b[39;49m()\u001b[39m.\u001b[39;49m\u001b[39m__init__\u001b[39;49m(sys\u001b[39m=\u001b[39;49msys, backend\u001b[39m=\u001b[39;49mbackend, \u001b[39m*\u001b[39;49m\u001b[39m*\u001b[39;49mkwargs)\n\u001b[1;32m     50\u001b[0m     \u001b[39mself\u001b[39m\u001b[39m.\u001b[39mn_agents \u001b[39m=\u001b[39m n_agents\n\u001b[1;32m     51\u001b[0m     \u001b[39mself\u001b[39m\u001b[39m.\u001b[39mmetadata \u001b[39m=\u001b[39m {}\n",
      "\u001b[0;31mTypeError\u001b[0m: PipelineEnv.__init__() got an unexpected keyword argument 'gdeterministic_mode'"
     ]
    }
   ],
   "source": [
    "test_env = make_env()\n",
    "\n",
    "xml, init_dict, callbacks = test_env._get_xml(seed)\n",
    "\n",
    "# print(xml)\n",
    "# print(sys)\n",
    "\n",
    "with open(\"simple.xml\", \"w\") as f:\n",
    "    f.write(xml)\n",
    "\n",
    "simple_sys = mjcf.loads(xml)\n",
    "# print('Sys Init from Xml: ', sys.init_q)\n",
    "\n",
    "# print(init_dict)\n",
    "for (k, v) in init_dict.items():\n",
    "    print(k, v)\n",
    "\n",
    "# init_q = jp.asarray(list(init_dict.values()))\n",
    "init_q = jp.hstack(list(init_dict.values()))\n",
    "\n",
    "# print('Init from joint positions: ', init_q)\n",
    "init_qd = jp.zeros(simple_sys.qd_size())\n",
    "\n",
    "\n",
    "\n",
    "# print(sys.q_size())\n",
    "# print(len(init_q))\n",
    "\n",
    "state = pipeline.init(simple_sys, init_q, init_qd)\n",
    "\n",
    "# print(\"State Q Length:\", len(state.q))\n",
    "\n",
    "# print(\"QD:\", state.qd)\n",
    "# print(\"State QD Length:\", len(state.qd))\n",
    "rollout = []\n",
    "\n",
    "for i in range(1):\n",
    "    # print(\"Q:\", state.q)\n",
    "    if i % 50 == 0:\n",
    "        act = random.uniform(key, (simple_sys.act_size(),), dtype=jp.float64, minval=-0.25, maxval=0.25)\n",
    "        key, _ = random.split(key)\n",
    "    rollout.append(state)\n",
    "    state = jax.jit(pipeline.step)(simple_sys, state, act)\n",
    "\n",
    "# HTML(html.render(sys, rollout))\n",
    "\n",
    "html.save('agents.html', simple_sys, rollout)"
   ]
  }
 ],
 "metadata": {
  "kernelspec": {
   "display_name": "Python 3.10.7 ('maax_venv': venv)",
   "language": "python",
   "name": "python3"
  },
  "language_info": {
   "codemirror_mode": {
    "name": "ipython",
    "version": 3
   },
   "file_extension": ".py",
   "mimetype": "text/x-python",
   "name": "python",
   "nbconvert_exporter": "python",
   "pygments_lexer": "ipython3",
   "version": "3.10.7"
  },
  "orig_nbformat": 4,
  "vscode": {
   "interpreter": {
    "hash": "d286b5a782650f2d9ae8fe3e234d77a318fcb8a23bb1ca21ad01d6849611a0dc"
   }
  }
 },
 "nbformat": 4,
 "nbformat_minor": 2
}
