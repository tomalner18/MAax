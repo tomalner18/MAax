{
 "cells": [
  {
   "cell_type": "code",
   "execution_count": 1,
   "metadata": {},
   "outputs": [],
   "source": [
    "import os, sys\n",
    "sys.path.append('/Users/tom/dev/imperial/FYP/MAax/')"
   ]
  },
  {
   "cell_type": "code",
   "execution_count": 2,
   "metadata": {},
   "outputs": [],
   "source": [
    "from mujoco_worldgen import Floor, WorldBuilder, WorldParams, Env\n",
    "from mae_envs.modules.agents import Agents\n",
    "from mae_envs.modules.walls import RandomWalls, WallScenarios\n",
    "from mae_envs.modules.world import FloorAttributes, WorldConstants\n",
    "from mae_envs.modules.objects import Boxes, Ramps\n",
    "from mae_envs.modules.util import uniform_placement, center_placement\n",
    "from mae_envs.envs.hide_and_seek import quadrant_placement\n"
   ]
  },
  {
   "cell_type": "code",
   "execution_count": 3,
   "metadata": {},
   "outputs": [],
   "source": [
    "import brax\n",
    "import numpy as np\n",
    "from brax.io import mjcf, html\n",
    "from maax.envs.base import Base\n",
    "from brax.generalized import pipeline\n",
    "\n",
    "import jax\n",
    "from jax import numpy as jp\n",
    "\n",
    "from jax import random\n",
    "\n",
    "from IPython.display import HTML, clear_output\n",
    "clear_output()\n"
   ]
  },
  {
   "cell_type": "code",
   "execution_count": 4,
   "metadata": {},
   "outputs": [],
   "source": [
    "seed = 50\n",
    "key = jax.random.PRNGKey(seed)"
   ]
  },
  {
   "cell_type": "code",
   "execution_count": 5,
   "metadata": {},
   "outputs": [],
   "source": [
    "def make_env(n_substeps=15, horizon=80, deterministic_mode=False,\n",
    "             floor_size=6.0, grid_size=30, door_size=2,\n",
    "             n_agents=2, fixed_agent_spawn=False,\n",
    "             lock_box=True, grab_box=True, grab_selective=False,\n",
    "             lock_type='any_lock_specific',\n",
    "             lock_grab_radius=0.25, grab_exclusive=False, grab_out_of_vision=False,\n",
    "             lock_out_of_vision=True,\n",
    "             box_floor_friction=0.2, other_friction=0.01, gravity=[0, 0, -50],\n",
    "             action_lims=(-0.9, 0.9), polar_obs=True,\n",
    "             scenario='quadrant', p_door_dropout=0.0,\n",
    "             n_rooms=4, random_room_number=True,\n",
    "             n_lidar_per_agent=0, visualize_lidar=False, compress_lidar_scale=None,\n",
    "             n_boxes=2, box_size=0.5, box_only_z_rot=False,\n",
    "             boxid_obs=True, boxsize_obs=True, pad_ramp_size=True, additional_obs={},\n",
    "             # lock-box task\n",
    "             task_type='all', lock_reward=5.0, unlock_penalty=7.0, shaped_reward_scale=0.25,\n",
    "             return_threshold=0.1,\n",
    "             # ramps\n",
    "             n_ramps=2):\n",
    "    '''\n",
    "        This make_env function is not used anywhere; it exists to provide a simple, bare-bones\n",
    "        example of how to construct a multi-agent environment using the modules framework.\n",
    "    '''\n",
    "    env = Base(n_agents=n_agents, n_substeps=n_substeps, horizon=horizon, grid_size=grid_size,\n",
    "               gdeterministic_mode=deterministic_mode, seed=seed)\n",
    "    env.add_module(WallScenarios(grid_size=grid_size, door_size=door_size,\n",
    "                                     scenario=scenario, friction=other_friction,\n",
    "                                     p_door_dropout=p_door_dropout))\n",
    "    box_placement_fn = uniform_placement\n",
    "    ramp_placement_fn = uniform_placement\n",
    "    agent_placement_fn = quadrant_placement\n",
    "\n",
    "    env.add_module(Agents(n_agents,\n",
    "                          placement_fn=agent_placement_fn,\n",
    "                          color=[np.array((66., 235., 244., 255.)) / 255] * n_agents,\n",
    "                          friction=other_friction,\n",
    "                          polar_obs=polar_obs))\n",
    "\n",
    "    # Boxes Key Error 6\n",
    "    # if n_boxes > 0:\n",
    "    #     env.add_module(Boxes(n_boxes=n_boxes))\n",
    "    # Ramps Key Error 4\n",
    "    # if n_ramps > 0:\n",
    "    #     env.add_module(Ramps(n_ramps=n_ramps))\n",
    "    # if np.max(n_boxes) > 0:\n",
    "    #     env.add_module(Boxes(n_boxes=n_boxes, placement_fn=box_placement_fn,\n",
    "    #                          friction=box_floor_friction, polar_obs=polar_obs,\n",
    "    #                          n_elongated_boxes=0,\n",
    "    #                          boxid_obs=boxid_obs,\n",
    "    #                          box_only_z_rot=box_only_z_rot,\n",
    "    #                          boxsize_obs=boxsize_obs))\n",
    "\n",
    "    if n_ramps > 0:\n",
    "        env.add_module(Ramps(n_ramps=n_ramps, placement_fn=ramp_placement_fn,\n",
    "                             friction=other_friction, polar_obs=polar_obs,\n",
    "                             pad_ramp_size=pad_ramp_size))\n",
    "\n",
    "    # env.add_module(WorldConstants(gravity=gravity))\n",
    "\n",
    "    return env"
   ]
  },
  {
   "cell_type": "code",
   "execution_count": 6,
   "metadata": {},
   "outputs": [],
   "source": [
    "test_env = make_env()\n",
    "\n",
    "xml, init_dict, callbacks = test_env._get_xml(seed)\n",
    "\n",
    "# print(xml)\n",
    "# print(sys)\n",
    "\n",
    "with open(\"simple.xml\", \"w\") as f:\n",
    "    f.write(xml)\n",
    "\n",
    "simple_sys = mjcf.loads(xml)\n",
    "# print('Sys Init from Xml: ', sys.init_q)\n",
    "\n",
    "init_q = jp.asarray(list(init_dict.values()))\n",
    "\n",
    "# print('Init from joint positions: ', init_q)\n",
    "\n",
    "init_qd = jp.zeros(simple_sys.qd_size())\n",
    "\n",
    "# print(sys.q_size())\n",
    "# print(len(init_q))\n",
    "\n",
    "state = pipeline.init(simple_sys, init_q, init_qd)\n",
    "\n",
    "# print(\"State Q Length:\", len(state.q))\n",
    "\n",
    "# print(\"QD:\", state.qd)\n",
    "# print(\"State QD Length:\", len(state.qd))\n",
    "rollout = []\n",
    "\n",
    "for i in range(1000):\n",
    "    # print(\"Q:\", state.q)\n",
    "    if i % 50 == 0:\n",
    "        act = random.uniform(key, (simple_sys.act_size(),), dtype=jp.float64, minval=-0.25, maxval=0.25)\n",
    "        key, _ = random.split(key)\n",
    "    rollout.append(state)\n",
    "    state = jax.jit(pipeline.step)(simple_sys, state, act)\n",
    "\n",
    "# HTML(html.render(sys, rollout))\n",
    "\n",
    "html.save('agents.html', simple_sys, rollout)"
   ]
  }
 ],
 "metadata": {
  "kernelspec": {
   "display_name": "Python 3.10.7 ('maax_venv': venv)",
   "language": "python",
   "name": "python3"
  },
  "language_info": {
   "codemirror_mode": {
    "name": "ipython",
    "version": 3
   },
   "file_extension": ".py",
   "mimetype": "text/x-python",
   "name": "python",
   "nbconvert_exporter": "python",
   "pygments_lexer": "ipython3",
   "version": "3.10.7"
  },
  "orig_nbformat": 4,
  "vscode": {
   "interpreter": {
    "hash": "d286b5a782650f2d9ae8fe3e234d77a318fcb8a23bb1ca21ad01d6849611a0dc"
   }
  }
 },
 "nbformat": 4,
 "nbformat_minor": 2
}
