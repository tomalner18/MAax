{
 "cells": [
  {
   "cell_type": "code",
   "execution_count": 4,
   "metadata": {},
   "outputs": [],
   "source": [
    "import os, sys\n",
    "sys.path.append('/Users/tom/dev/imperial/FYP/MAax/')"
   ]
  },
  {
   "cell_type": "code",
   "execution_count": 5,
   "metadata": {},
   "outputs": [],
   "source": [
    "from typing import Any, Callable, Tuple\n",
    "import cProfile"
   ]
  },
  {
   "cell_type": "code",
   "execution_count": 6,
   "metadata": {},
   "outputs": [],
   "source": [
    "from worldgen import Floor, WorldBuilder, WorldParams\n",
    "from maax.modules.agents import Agents\n",
    "from maax.modules.walls import RandomWalls, WallScenarios\n",
    "from maax.modules.world import FloorAttributes, WorldConstants\n",
    "from maax.modules.objects import Boxes, Ramps\n",
    "from maax.modules.util import uniform_placement, centre_placement, proximity_placement\n",
    "from maax.envs.hide_and_seek import quad_placement, outside_quad_placement, HideAndSeekRewardWrapper, TrackStatWrapper\n",
    "from maax.envs.base import Base\n",
    "from maax.wrappers.multi_agent import (SplitMultiAgentActions,\n",
    "                                           SplitObservations, SelectObsWrapper)\n",
    "from maax.wrappers.util import (ConcatenateObsWrapper,\n",
    "                                    MaskActionWrapper, SpoofEntityWrapper,\n",
    "                                    AddConstantObservationsWrapper, MWrapper)\n",
    "from maax.wrappers.manipulation import (LockObjWrapper, LockAllWrapper)\n",
    "from maax.wrappers.lidar import Lidar\n",
    "from maax.wrappers.line_of_sight import (AgentAgentObsMask2D, AgentAgentContactMask2D,\n",
    "                                            AgentGeomObsMask2D, AgentSiteObsMask2D)\n",
    "from maax.wrappers.prep_phase import (PreparationPhase, NoActionsInPrepPhase,\n",
    "                                          MaskPrepPhaseAction)\n",
    "from maax.wrappers.limit_mvmnt import RestrictAgentsRect\n",
    "from maax.wrappers.team import TeamMembership\n",
    "from maax.wrappers.food import FoodHealthWrapper, AlwaysEatWrapper\n"
   ]
  },
  {
   "cell_type": "code",
   "execution_count": 7,
   "metadata": {},
   "outputs": [],
   "source": [
    "import brax\n",
    "import numpy as np\n",
    "from brax.io import mjcf, html\n",
    "from maax.envs.base import Base\n",
    "from maax.util.types import RNGKey, PipelineState, Action\n",
    "from brax.generalized import pipeline\n",
    "\n",
    "import jax\n",
    "from jax import numpy as jp\n",
    "\n",
    "from jax import random\n",
    "\n",
    "from IPython.display import HTML, clear_output\n",
    "clear_output()\n"
   ]
  },
  {
   "cell_type": "code",
   "execution_count": 8,
   "metadata": {},
   "outputs": [],
   "source": [
    "from maax.envs.base import State"
   ]
  },
  {
   "cell_type": "code",
   "execution_count": 9,
   "metadata": {},
   "outputs": [],
   "source": [
    "seed = 3\n",
    "horizon = 1\n",
    "n_frames = 1\n",
    "random_key = jax.random.PRNGKey(seed)"
   ]
  },
  {
   "cell_type": "code",
   "execution_count": 10,
   "metadata": {},
   "outputs": [],
   "source": [
    "def make_env(deterministic_mode=False,\n",
    "             floor_size=6.0, grid_size=30, door_size=2,\n",
    "             n_hiders=2, n_seekers=2, max_n_agents=None,\n",
    "             n_boxes=2, n_ramps=1, n_elongated_boxes=0,\n",
    "             rand_num_elongated_boxes=False, n_min_boxes=None,\n",
    "             box_size=0.5, boxid_obs=False, box_only_z_rot=True,\n",
    "             rew_type='joint_zero_sum',\n",
    "             lock_box=True, grab_box=True, lock_ramp=True,\n",
    "             lock_type='any_lock_specific',\n",
    "             lock_grab_radius=0.25, lock_out_of_vision=True,\n",
    "             box_floor_friction=0.2, other_friction=0.01, gravity=[0, 0, -50],\n",
    "             action_lims=(-0.9, 0.9), polar_obs=True,\n",
    "             scenario='randomwalls', quad_game_hider_uniform_placement=False,\n",
    "             p_door_dropout=0.0,\n",
    "             n_rooms=4, random_room_count=True, prob_outside_walls=0.0,\n",
    "             hiders_together_radius=None, seekers_together_radius=None,\n",
    "             prep_fraction=0.4, prep_obs=False,\n",
    "             team_size_obs=False,\n",
    "             restrict_rect=None, penalize_objects_out=False,\n",
    "             ):\n",
    "\n",
    "    grab_radius_multiplier = lock_grab_radius / box_size\n",
    "    lock_radius_multiplier = lock_grab_radius / box_size\n",
    "\n",
    "    env = Base(n_agents=n_hiders + n_seekers, n_frames=n_frames, horizon=horizon,\n",
    "               floor_size=floor_size, grid_size=grid_size,\n",
    "               action_lims=action_lims,\n",
    "               deterministic_mode=deterministic_mode, seed=seed)\n",
    "\n",
    "    if scenario == 'randomwalls':\n",
    "        env.add_module(RandomWalls(\n",
    "            grid_size=grid_size, num_rooms=n_rooms,\n",
    "            random_room_count=random_room_count, min_room_size=6,\n",
    "            door_size=door_size,\n",
    "            prob_outside_walls=prob_outside_walls, gen_door_obs=False))\n",
    "        box_placement_fn = uniform_placement\n",
    "        ramp_placement_fn = uniform_placement\n",
    "        cell_size = floor_size / grid_size\n",
    "\n",
    "        first_hider_placement = uniform_placement\n",
    "        if hiders_together_radius is not None:\n",
    "            htr_in_cells = np.ceil(hiders_together_radius / cell_size).astype(int)\n",
    "\n",
    "            env.metadata['hiders_together_radius'] = htr_in_cells\n",
    "\n",
    "            close_to_first_hider_placement = proximity_placement(\n",
    "                                                \"agent\", 0, \"hiders_together_radius\")\n",
    "\n",
    "            agent_placement_fn = [first_hider_placement] + \\\n",
    "                                 [close_to_first_hider_placement] * (n_hiders - 1)\n",
    "        else:\n",
    "            agent_placement_fn = [first_hider_placement] * n_hiders\n",
    "\n",
    "        first_seeker_placement = uniform_placement\n",
    "\n",
    "        if seekers_together_radius is not None:\n",
    "            str_in_cells = np.ceil(seekers_together_radius / cell_size).astype(int)\n",
    "\n",
    "            env.metadata['seekers_together_radius'] = str_in_cells\n",
    "\n",
    "            close_to_first_seeker_placement = proximity_placement(\n",
    "                                                \"agent\", n_hiders, \"seekers_together_radius\")\n",
    "\n",
    "            agent_placement_fn += [first_seeker_placement] + \\\n",
    "                                  [close_to_first_seeker_placement] * (n_seekers - 1)\n",
    "        else:\n",
    "            agent_placement_fn += [first_seeker_placement] * (n_seekers)\n",
    "\n",
    "    elif scenario == 'quad':\n",
    "        env.add_module(WallScenarios(grid_size=grid_size, door_size=door_size,\n",
    "                                     scenario=scenario, friction=other_friction,\n",
    "                                     p_door_dropout=p_door_dropout))\n",
    "        box_placement_fn = uniform_placement\n",
    "        ramp_placement_fn = uniform_placement\n",
    "        hider_placement = uniform_placement if quad_game_hider_uniform_placement else quad_placement\n",
    "        agent_placement_fn = [hider_placement] * n_hiders + [outside_quad_placement] * n_seekers\n",
    "    else:\n",
    "        raise ValueError(f\"Scenario {scenario} not supported.\")\n",
    "\n",
    "\n",
    "\n",
    "\n",
    "    env.add_module(Agents(n_hiders + n_seekers,\n",
    "                          placement_fn=agent_placement_fn,\n",
    "                          color=[np.array((66., 235., 244., 255.)) / 255] * n_hiders + [np.array((240., 20., 50., 255.)) / 255] * n_seekers,\n",
    "                          friction=other_friction,\n",
    "                          polar_obs=polar_obs))\n",
    "    if np.max(n_boxes) > 0:\n",
    "        env.add_module(Boxes(n_boxes=n_boxes, placement_fn=box_placement_fn,\n",
    "                             friction=box_floor_friction, polar_obs=polar_obs,\n",
    "                             n_elongated_boxes=n_elongated_boxes,\n",
    "                             boxid_obs=boxid_obs, box_only_z_rot=box_only_z_rot))\n",
    "    if n_ramps > 0:\n",
    "        env.add_module(Ramps(n_ramps=n_ramps, placement_fn=ramp_placement_fn, friction=other_friction, polar_obs=polar_obs,\n",
    "                             pad_ramp_size=(np.max(n_elongated_boxes) > 0)))\n",
    "\n",
    "    # if box_floor_friction is not None:\n",
    "    #     env.add_module(FloorAttributes(friction=box_floor_friction))\n",
    "\n",
    "    keys_self = ['agent_q_qd', 'hider', 'prep_obs']\n",
    "    keys_mask_self = ['mask_aa_con']\n",
    "    keys_external = ['agent_q_qd']\n",
    "    keys_copy = ['you_lock', 'team_lock', 'ramp_you_lock', 'ramp_team_lock', 'door_obs']\n",
    "    keys_mask_external = []\n",
    "    # env = SplitMultiAgentActions(env)\n",
    "    if team_size_obs:\n",
    "        keys_self += ['team_size']\n",
    "    env = TeamMembership(env, np.append(np.zeros((n_hiders,)), np.ones((n_seekers,))))\n",
    "    # env = AgentAgentObsMask2D(env)\n",
    "    # env = AgentAgentContactMask2D(env)\n",
    "    # hider_obs = np.array([[1]] * n_hiders + [[0]] * n_seekers)\n",
    "    # env = AddConstantObservationsWrapper(env, new_obs={'hider': hider_obs})\n",
    "    # env = HideAndSeekRewardWrapper(env, n_hiders=n_hiders, n_seekers=n_seekers,\n",
    "    #                                rew_type=rew_type)\n",
    "\n",
    "    # env = PreparationPhase(env, prep_fraction=prep_fraction)\n",
    "\n",
    "    # if np.max(n_boxes) > 0:\n",
    "    #     # env = AgentGeomObsMask2D(env, pos_obs_key='box_pos', mask_obs_key='mask_ab_obs',\n",
    "    #     #                          geom_idxs_obs_key='box_geom_idxs')\n",
    "    #     keys_external += ['box_obs']\n",
    "\n",
    "    # # if lock_box and np.max(n_boxes) > 0:\n",
    "    # #     env = LockObjWrapper(env, body_names=[f'moveable_box{i}' for i in range(np.max(n_boxes))],\n",
    "    # #                          agent_idx_allowed_to_lock=np.arange(n_hiders+n_seekers),\n",
    "    # #                          lock_type=lock_type, radius_multiplier=lock_radius_multiplier,\n",
    "    # #                          obj_in_game_metadata_keys=[\"curr_n_boxes\"],\n",
    "    # #                          agent_allowed_to_lock_keys=None if lock_out_of_vision else [\"mask_ab_obs\"])\n",
    "\n",
    "    # if n_ramps > 0:\n",
    "    #     # if lock_ramp:\n",
    "    #     #     env = LockObjWrapper(env, body_names=[f'ramp{i}:ramp' for i in range(n_ramps)],\n",
    "    #     #                          agent_idx_allowed_to_lock=np.arange(n_hiders+n_seekers),\n",
    "    #     #                          lock_type=lock_type, ac_obs_prefix='ramp_',\n",
    "    #     #                          radius_multiplier=lock_radius_multiplier,\n",
    "    #     #                          obj_in_game_metadata_keys=['curr_n_ramps'],\n",
    "    #     #                          agent_allowed_to_lock_keys=None if lock_out_of_vision else [\"mask_ar_obs\"])\n",
    "    #     keys_external += ['ramp_obs']\n",
    "\n",
    "\n",
    "    # if prep_obs:\n",
    "    #     env = TrackStatWrapper(env, np.max(n_boxes), n_ramps)\n",
    "    # env = SplitObservations(env, keys_self + keys_mask_self, keys_copy=keys_copy, keys_self_matrices=keys_mask_self)\n",
    "    # # env = SpoofEntityWrapper(env, np.max(n_boxes), ['box_obs', 'you_lock', 'team_lock', 'obj_lock'], ['mask_ab_obs'])\n",
    "\n",
    "    # # if max_n_agents is not None:\n",
    "    # #     env = SpoofEntityWrapper(env, max_n_agents, ['agent_q_qd', 'hider', 'prep_obs'], ['mask_aa_obs'])\n",
    "    # # env = LockAllWrapper(env, remove_object_specific_lock=True)\n",
    "    # env = NoActionsInPrepPhase(env, np.arange(n_hiders, n_hiders + n_seekers))\n",
    "    # # env = ConcatenateObsWrapper(env, {'agent_q_qd': ['agent_q_qd'],\n",
    "    # #                                   'box_obs': ['box_obs'],\n",
    "    # #                                   'ramp_obs': ['ramp_obs']})\n",
    "    # env = SelectObsWrapper(env, keys_self=keys_self,\n",
    "    #                         keys_other=keys_external + keys_mask_self + keys_mask_external)\n",
    "    return env"
   ]
  },
  {
   "cell_type": "code",
   "execution_count": 11,
   "metadata": {},
   "outputs": [
    {
     "ename": "TypeError",
     "evalue": "RandomWalls.__init__() got an unexpected keyword argument 'random_room_count'",
     "output_type": "error",
     "traceback": [
      "\u001b[0;31m---------------------------------------------------------------------------\u001b[0m",
      "\u001b[0;31mTypeError\u001b[0m                                 Traceback (most recent call last)",
      "Cell \u001b[0;32mIn[11], line 1\u001b[0m\n\u001b[0;32m----> 1\u001b[0m test_env \u001b[39m=\u001b[39m make_env(random_key)\n\u001b[1;32m      3\u001b[0m test_env\u001b[39m.\u001b[39mgen_sys(seed)\n\u001b[1;32m      5\u001b[0m state \u001b[39m=\u001b[39m jax\u001b[39m.\u001b[39mjit(test_env\u001b[39m.\u001b[39mreset)(random_key)\n",
      "Cell \u001b[0;32mIn[10], line 31\u001b[0m, in \u001b[0;36mmake_env\u001b[0;34m(deterministic_mode, floor_size, grid_size, door_size, n_hiders, n_seekers, max_n_agents, n_boxes, n_ramps, n_elongated_boxes, rand_num_elongated_boxes, n_min_boxes, box_size, boxid_obs, box_only_z_rot, rew_type, lock_box, grab_box, lock_ramp, lock_type, lock_grab_radius, lock_out_of_vision, box_floor_friction, other_friction, gravity, action_lims, polar_obs, scenario, quad_game_hider_uniform_placement, p_door_dropout, n_rooms, random_room_count, prob_outside_walls, hiders_together_radius, seekers_together_radius, prep_fraction, prep_obs, team_size_obs, restrict_rect, penalize_objects_out)\u001b[0m\n\u001b[1;32m     25\u001b[0m env \u001b[39m=\u001b[39m Base(n_agents\u001b[39m=\u001b[39mn_hiders \u001b[39m+\u001b[39m n_seekers, n_frames\u001b[39m=\u001b[39mn_frames, horizon\u001b[39m=\u001b[39mhorizon,\n\u001b[1;32m     26\u001b[0m            floor_size\u001b[39m=\u001b[39mfloor_size, grid_size\u001b[39m=\u001b[39mgrid_size,\n\u001b[1;32m     27\u001b[0m            action_lims\u001b[39m=\u001b[39maction_lims,\n\u001b[1;32m     28\u001b[0m            deterministic_mode\u001b[39m=\u001b[39mdeterministic_mode, seed\u001b[39m=\u001b[39mseed)\n\u001b[1;32m     30\u001b[0m \u001b[39mif\u001b[39;00m scenario \u001b[39m==\u001b[39m \u001b[39m'\u001b[39m\u001b[39mrandomwalls\u001b[39m\u001b[39m'\u001b[39m:\n\u001b[0;32m---> 31\u001b[0m     env\u001b[39m.\u001b[39madd_module(RandomWalls(\n\u001b[1;32m     32\u001b[0m         grid_size\u001b[39m=\u001b[39;49mgrid_size, num_rooms\u001b[39m=\u001b[39;49mn_rooms,\n\u001b[1;32m     33\u001b[0m         random_room_count\u001b[39m=\u001b[39;49mrandom_room_count, min_room_size\u001b[39m=\u001b[39;49m\u001b[39m6\u001b[39;49m,\n\u001b[1;32m     34\u001b[0m         door_size\u001b[39m=\u001b[39;49mdoor_size,\n\u001b[1;32m     35\u001b[0m         prob_outside_walls\u001b[39m=\u001b[39;49mprob_outside_walls, gen_door_obs\u001b[39m=\u001b[39;49m\u001b[39mFalse\u001b[39;49;00m))\n\u001b[1;32m     36\u001b[0m     box_placement_fn \u001b[39m=\u001b[39m uniform_placement\n\u001b[1;32m     37\u001b[0m     ramp_placement_fn \u001b[39m=\u001b[39m uniform_placement\n",
      "File \u001b[0;32m~/dev/imperial/FYP/MAax/worldgen/util/types.py:87\u001b[0m, in \u001b[0;36mstore_args.<locals>.wrapper\u001b[0;34m(*positional_args, **keyword_args)\u001b[0m\n\u001b[1;32m     85\u001b[0m \u001b[39m# Store values in instance as attributes\u001b[39;00m\n\u001b[1;32m     86\u001b[0m \u001b[39mself\u001b[39m\u001b[39m.\u001b[39m\u001b[39m__dict__\u001b[39m\u001b[39m.\u001b[39mupdate(args)\n\u001b[0;32m---> 87\u001b[0m \u001b[39mreturn\u001b[39;00m method(\u001b[39m*\u001b[39;49mpositional_args, \u001b[39m*\u001b[39;49m\u001b[39m*\u001b[39;49mkeyword_args)\n",
      "\u001b[0;31mTypeError\u001b[0m: RandomWalls.__init__() got an unexpected keyword argument 'random_room_count'"
     ]
    }
   ],
   "source": [
    "test_env = make_env(random_key)\n",
    "\n",
    "test_env.gen_sys(seed)\n",
    "\n",
    "state = jax.jit(test_env.reset)(random_key)\n",
    "# state = test_env.reset(random_key)"
   ]
  },
  {
   "cell_type": "code",
   "execution_count": null,
   "metadata": {},
   "outputs": [],
   "source": [
    "def randomise_action(act, random_key):\n",
    "    random_key, sub_key = random.split(random_key)\n",
    "    return random.uniform(random_key, shape=act.shape, minval=-0.25, maxval=0.25), random_key"
   ]
  },
  {
   "cell_type": "code",
   "execution_count": null,
   "metadata": {},
   "outputs": [],
   "source": [
    "jit_step_fn = jax.jit(test_env.step)\n",
    "act_size = test_env.sys.act_size()\n",
    "\n",
    "act = jp.zeros(shape=(test_env.n_agents, act_size // test_env.n_agents))"
   ]
  },
  {
   "cell_type": "code",
   "execution_count": null,
   "metadata": {},
   "outputs": [
    {
     "name": "stdout",
     "output_type": "stream",
     "text": [
      "d_obs:  {'agent_q_qd': Traced<ShapedArray(float32[4,6])>with<DynamicJaxprTrace(level=1/0)>, 'agent_pos': Traced<ShapedArray(float32[4,3])>with<DynamicJaxprTrace(level=1/0)>, 'box_obs': Traced<ShapedArray(float32[2,15])>with<DynamicJaxprTrace(level=1/0)>, 'box_angle': Traced<ShapedArray(float32[2,3])>with<DynamicJaxprTrace(level=1/0)>, 'box_pos': Traced<ShapedArray(float32[2,3])>with<DynamicJaxprTrace(level=1/0)>, 'ramp_obs': Traced<ShapedArray(float32[1,15])>with<DynamicJaxprTrace(level=1/0)>, 'ramp_angle': Traced<ShapedArray(float32[1,3])>with<DynamicJaxprTrace(level=1/0)>, 'ramp_q': Traced<ShapedArray(float32[1,9])>with<DynamicJaxprTrace(level=1/0)>}\n"
     ]
    }
   ],
   "source": [
    "rollout = []\n",
    "\n",
    "for i in range(horizon):\n",
    "    act, random_key = jax.lax.cond(i % 50 == 0, randomise_action, lambda x, y: (x, y), act, random_key)\n",
    "    rollout.append(state.pipeline_state)\n",
    "    # state = test_env.step(state, act)\n",
    "    state = jit_step_fn(state, act)\n",
    "\n",
    "html.save('no_outer.html', test_env.sys, rollout)"
   ]
  },
  {
   "cell_type": "code",
   "execution_count": null,
   "metadata": {},
   "outputs": [],
   "source": [
    "# @jax.jit\n",
    "# def play_step_fn(state: State, act: Action, random_key: RNGKey, index: int):\n",
    "#     act, random_key = jax.lax.cond(index % 50 == 0, randomise_action, lambda x, y: (x, y), act, random_key)\n",
    "#     state = jit_step_fn(state, act)\n",
    "#     return state, act, random_key, index + 1, state.pipeline_state\n",
    "\n",
    "# def scan_play_step_fn(\n",
    "#     carry: Tuple[State, Action, RNGKey, int], unused_arg: Any\n",
    "# ) ->Tuple[Tuple[State, RNGKey, int], PipelineState]:\n",
    "#     state, act, random_key, index, p_states = play_step_fn(*carry)\n",
    "#     return (state, act, random_key, index), p_states\n",
    "    \n",
    "\n",
    "# (dst_state, dst_act, key, index), rollout = jax.lax.scan(scan_play_step_fn, (state, act, random_key, 0), None, length=horizon)"
   ]
  },
  {
   "cell_type": "code",
   "execution_count": null,
   "metadata": {},
   "outputs": [],
   "source": [
    "# states_list = []\n",
    "# print(dst_state.info)\n",
    "# print(dst_state.reward)\n",
    "\n",
    "# for i in range(horizon):\n",
    "#     s = jax.tree_util.tree_map(lambda x: x[i], rollout)\n",
    "#     states_list.append(s)\n",
    "\n",
    "\n",
    "# html.save('agents.html', test_env.sys, states_list)"
   ]
  }
 ],
 "metadata": {
  "kernelspec": {
   "display_name": "Python 3.10.7 ('maax_venv': venv)",
   "language": "python",
   "name": "python3"
  },
  "language_info": {
   "codemirror_mode": {
    "name": "ipython",
    "version": 3
   },
   "file_extension": ".py",
   "mimetype": "text/x-python",
   "name": "python",
   "nbconvert_exporter": "python",
   "pygments_lexer": "ipython3",
   "version": "3.10.7"
  },
  "orig_nbformat": 4,
  "vscode": {
   "interpreter": {
    "hash": "d286b5a782650f2d9ae8fe3e234d77a318fcb8a23bb1ca21ad01d6849611a0dc"
   }
  }
 },
 "nbformat": 4,
 "nbformat_minor": 2
}
