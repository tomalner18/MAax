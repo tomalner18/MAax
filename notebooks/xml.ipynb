{
 "cells": [
  {
   "cell_type": "code",
   "execution_count": 1,
   "metadata": {},
   "outputs": [],
   "source": [
    "import jax\n",
    "from jax import numpy as jp\n",
    "from matplotlib.lines import Line2D\n",
    "from matplotlib.patches import Circle\n",
    "import matplotlib.pyplot as plt\n",
    "\n",
    "from jax import random\n",
    "\n",
    "try:\n",
    "  import brax\n",
    "except ImportError:\n",
    "  from IPython.display import clear_output \n",
    "  !pip install git+https://github.com/google/brax.git@main\n",
    "  clear_output()\n",
    "  import brax\n",
    "\n",
    "from typing import Any, Callable, Tuple\n",
    "\n",
    "import time"
   ]
  },
  {
   "cell_type": "code",
   "execution_count": 2,
   "metadata": {},
   "outputs": [],
   "source": [
    "seed = 1 \n",
    "rng = random.PRNGKey(seed)\n",
    "horizon = 1000"
   ]
  },
  {
   "cell_type": "code",
   "execution_count": 3,
   "metadata": {},
   "outputs": [],
   "source": [
    "\n",
    "from brax.io import mjcf\n",
    "\n",
    "sys = mjcf.loads(\n",
    "    \"\"\"\n",
    "    <mujoco>\n",
    "\t<compiler angle=\"radian\" coordinate=\"local\" meshdir=\"/Users/tom/dev/imperial/FYP/MAax/assets/stls\" texturedir=\"/Users/tom/dev/imperial/FYP/MAax/assets/textures\" autolimits=\"true\"></compiler>\n",
    "\t<option timestep=\"0.01\">\n",
    "\t\t<flag warmstart=\"enable\"></flag>\n",
    "\t</option>\n",
    "\t<worldbody>\n",
    "\t\t<geom name=\"floor0\" pos=\"3 3 0\" size=\"3 3 1\" type=\"plane\" condim=\"3\"></geom>\n",
    "\t\t<body name=\"floor0\" pos=\"3 3 0\"></body>\n",
    "\t\t<body pos=\"0.15 0.15 0.15\" name=\"agent0_agent0\">\n",
    "\t\t\t<joint axis=\"1 0 0\" damping=\"0.01\" name=\"agent0_slide0\" pos=\"0 0 0\" type=\"slide\" limited=\"auto\" range=\"-100 100\"></joint>\n",
    "\t\t\t<joint axis=\"0 1 0\" damping=\"0.01\" name=\"agent0_slide1\" pos=\"0 0 0\" type=\"slide\" limited=\"auto\" range=\"-100 100\"></joint>\n",
    "\t\t\t<joint axis=\"0 0 1\" damping=\"0.01\" name=\"agent0_hinge0\" pos=\"0 0 0\" type=\"hinge\" limited=\"auto\" range=\"-100 100\"></joint>\n",
    "\t\t\t<geom name=\"agent0_agent\" mass=\"1\" pos=\"0 0 0\" rgba=\"0.258824 0.921569 0.956863 1\" size=\"0.15\" type=\"sphere\" euler=\"1.57 0 0\" friction=\"0.01\"></geom>\n",
    "\t\t</body>\n",
    "\t\t<body pos=\"0.15 0.15 0.15\" name=\"agent1_agent1\">\n",
    "\t\t\t<joint axis=\"1 0 0\" damping=\"0.01\" name=\"agent1_slide0\" pos=\"0 0 0\" type=\"slide\" limited=\"auto\" range=\"-100 100\"></joint>\n",
    "\t\t\t<joint axis=\"0 1 0\" damping=\"0.01\" name=\"agent1_slide1\" pos=\"0 0 0\" type=\"slide\" limited=\"auto\" range=\"-100 100\"></joint>\n",
    "\t\t\t<joint axis=\"0 0 1\" damping=\"0.01\" name=\"agent1_hinge0\" pos=\"0 0 0\" type=\"hinge\" limited=\"auto\" range=\"-100 100\"></joint>\n",
    "\t\t\t<geom name=\"agent1_agent\" mass=\"1\" pos=\"0 0 0\" rgba=\"0.258824 0.921569 0.956863 1\" size=\"0.15\" type=\"sphere\" euler=\"1.57 0 0\" friction=\"0.01\"></geom>\n",
    "\t\t</body>\n",
    "\t\t<body pos=\"0.15 0.15 0.15\" name=\"agent2_agent2\">\n",
    "\t\t\t<joint axis=\"1 0 0\" damping=\"0.01\" name=\"agent2_slide0\" pos=\"0 0 0\" type=\"slide\" limited=\"auto\" range=\"-100 100\"></joint>\n",
    "\t\t\t<joint axis=\"0 1 0\" damping=\"0.01\" name=\"agent2_slide1\" pos=\"0 0 0\" type=\"slide\" limited=\"auto\" range=\"-100 100\"></joint>\n",
    "\t\t\t<joint axis=\"0 0 1\" damping=\"0.01\" name=\"agent2_hinge0\" pos=\"0 0 0\" type=\"hinge\" limited=\"auto\" range=\"-100 100\"></joint>\n",
    "\t\t\t<geom name=\"agent2_agent\" mass=\"1\" pos=\"0 0 0\" rgba=\"0.258824 0.921569 0.956863 1\" size=\"0.15\" type=\"sphere\" euler=\"1.57 0 0\" friction=\"0.01\"></geom>\n",
    "\t\t</body>\n",
    "\t\t<body pos=\"0.15 0.15 0.15\" name=\"agent3_agent3\">\n",
    "\t\t\t<joint axis=\"1 0 0\" damping=\"0.01\" name=\"agent3_slide0\" pos=\"0 0 0\" type=\"slide\" limited=\"auto\" range=\"-100 100\"></joint>\n",
    "\t\t\t<joint axis=\"0 1 0\" damping=\"0.01\" name=\"agent3_slide1\" pos=\"0 0 0\" type=\"slide\" limited=\"auto\" range=\"-100 100\"></joint>\n",
    "\t\t\t<joint axis=\"0 0 1\" damping=\"0.01\" name=\"agent3_hinge0\" pos=\"0 0 0\" type=\"hinge\" limited=\"auto\" range=\"-100 100\"></joint>\n",
    "\t\t\t<geom name=\"agent3_agent\" mass=\"1\" pos=\"0 0 0\" rgba=\"0.258824 0.921569 0.956863 1\" size=\"0.15\" type=\"sphere\" euler=\"1.57 0 0\" friction=\"0.01\"></geom>\n",
    "\t\t</body>\n",
    "\t\t<body name=\"moveable-box0\" pos=\"0.25 0.25 0.25\">\n",
    "\t\t\t<joint name=\"moveable-box0_slide0\" axis=\"1 0 0\" type=\"slide\" damping=\"0.01\" pos=\"0 0 0\" limited=\"auto\"></joint>\n",
    "\t\t\t<joint name=\"moveable-box0_slide1\" axis=\"0 1 0\" type=\"slide\" damping=\"0.01\" pos=\"0 0 0\" limited=\"auto\"></joint>\n",
    "\t\t\t<joint name=\"moveable-box0_slide2\" axis=\"0 0 1\" type=\"slide\" damping=\"0.01\" pos=\"0 0 0\" limited=\"auto\"></joint>\n",
    "\t\t\t<geom size=\"0.25 0.25 0.25\" type=\"box\" condim=\"3\" name=\"moveable-box0\" rgba=\"1 0.5 0.8 1\" mass=\"1\" friction=\"0.2\"></geom>\n",
    "\t\t</body>\n",
    "\t\t<body name=\"moveable-box1\" pos=\"0.25 0.25 0.25\">\n",
    "\t\t\t<joint name=\"moveable-box1_slide0\" axis=\"1 0 0\" type=\"slide\" damping=\"0.01\" pos=\"0 0 0\" limited=\"auto\"></joint>\n",
    "\t\t\t<joint name=\"moveable-box1_slide1\" axis=\"0 1 0\" type=\"slide\" damping=\"0.01\" pos=\"0 0 0\" limited=\"auto\"></joint>\n",
    "\t\t\t<joint name=\"moveable-box1_slide2\" axis=\"0 0 1\" type=\"slide\" damping=\"0.01\" pos=\"0 0 0\" limited=\"auto\"></joint>\n",
    "\t\t\t<geom size=\"0.25 0.25 0.25\" type=\"box\" condim=\"3\" name=\"moveable-box1\" rgba=\"1 0.5 0.8 1\" mass=\"1\" friction=\"0.2\"></geom>\n",
    "\t\t</body>\n",
    "\t\t<body name=\"moveable-box2\" pos=\"0.25 0.25 0.25\">\n",
    "\t\t\t<joint name=\"moveable-box2_slide0\" axis=\"1 0 0\" type=\"slide\" damping=\"0.01\" pos=\"0 0 0\" limited=\"auto\"></joint>\n",
    "\t\t\t<joint name=\"moveable-box2_slide1\" axis=\"0 1 0\" type=\"slide\" damping=\"0.01\" pos=\"0 0 0\" limited=\"auto\"></joint>\n",
    "\t\t\t<joint name=\"moveable-box2_slide2\" axis=\"0 0 1\" type=\"slide\" damping=\"0.01\" pos=\"0 0 0\" limited=\"auto\"></joint>\n",
    "\t\t\t<geom size=\"0.25 0.25 0.25\" type=\"box\" condim=\"3\" name=\"moveable-box2\" rgba=\"1 0.5 0.8 1\" mass=\"1\" friction=\"0.2\"></geom>\n",
    "\t\t</body>\n",
    "\t\t<body name=\"moveable-box3\" pos=\"0.25 0.25 0.25\">\n",
    "\t\t\t<joint name=\"moveable-box3_slide0\" axis=\"1 0 0\" type=\"slide\" damping=\"0.01\" pos=\"0 0 0\" limited=\"auto\"></joint>\n",
    "\t\t\t<joint name=\"moveable-box3_slide1\" axis=\"0 1 0\" type=\"slide\" damping=\"0.01\" pos=\"0 0 0\" limited=\"auto\"></joint>\n",
    "\t\t\t<joint name=\"moveable-box3_slide2\" axis=\"0 0 1\" type=\"slide\" damping=\"0.01\" pos=\"0 0 0\" limited=\"auto\"></joint>\n",
    "\t\t\t<geom size=\"0.25 0.25 0.25\" type=\"box\" condim=\"3\" name=\"moveable-box3\" rgba=\"1 0.5 0.8 1\" mass=\"1\" friction=\"0.2\"></geom>\n",
    "\t\t</body>\n",
    "\t</worldbody>\n",
    "\t<actuator>\n",
    "\t\t<motor gear=\"100\" joint=\"agent0_slide0\"></motor>\n",
    "\t\t<motor gear=\"100\" joint=\"agent0_slide1\"></motor>\n",
    "\t\t<motor gear=\"100\" joint=\"agent0_hinge0\"></motor>\n",
    "\t\t<motor gear=\"100\" joint=\"agent1_slide0\"></motor>\n",
    "\t\t<motor gear=\"100\" joint=\"agent1_slide1\"></motor>\n",
    "\t\t<motor gear=\"100\" joint=\"agent1_hinge0\"></motor>\n",
    "\t\t<motor gear=\"100\" joint=\"agent2_slide0\"></motor>\n",
    "\t\t<motor gear=\"100\" joint=\"agent2_slide1\"></motor>\n",
    "\t\t<motor gear=\"100\" joint=\"agent2_hinge0\"></motor>\n",
    "\t\t<motor gear=\"100\" joint=\"agent3_slide0\"></motor>\n",
    "\t\t<motor gear=\"100\" joint=\"agent3_slide1\"></motor>\n",
    "\t\t<motor gear=\"100\" joint=\"agent3_hinge0\"></motor>\n",
    "\t</actuator>\n",
    "</mujoco>\n",
    "  \"\"\")"
   ]
  },
  {
   "cell_type": "code",
   "execution_count": 4,
   "metadata": {},
   "outputs": [],
   "source": [
    "from brax.generalized import pipeline\n",
    "\n",
    "\n",
    "qd = jp.zeros(shape=sys.qd_size())\n",
    "state = jax.jit(pipeline.init)(sys, sys.init_q, qd)\n",
    "act = jp.zeros(shape=(sys.act_size(),))\n",
    "\n",
    "jit_step_fn = jax.jit(pipeline.step)\n",
    "\n"
   ]
  },
  {
   "cell_type": "code",
   "execution_count": 5,
   "metadata": {},
   "outputs": [],
   "source": [
    "def randomise_action(act, random_key):\n",
    "    random_key, sub_key = random.split(random_key)\n",
    "    return random.uniform(random_key, shape=act.shape, minval=-0.25, maxval=0.25), random_key"
   ]
  },
  {
   "cell_type": "code",
   "execution_count": 6,
   "metadata": {},
   "outputs": [],
   "source": [
    "state = jit_step_fn(sys, state, act)\n",
    "act = jp.zeros(shape=(sys.act_size(),))"
   ]
  },
  {
   "cell_type": "code",
   "execution_count": 7,
   "metadata": {},
   "outputs": [],
   "source": [
    "for i in range(100):\n",
    "    # state = test_env.step(state, act)\n",
    "    state = jit_step_fn(sys, state, act)\n"
   ]
  },
  {
   "cell_type": "code",
   "execution_count": 8,
   "metadata": {},
   "outputs": [
    {
     "ename": "AttributeError",
     "evalue": "'System' object has no attribute 'q'",
     "output_type": "error",
     "traceback": [
      "\u001b[0;31m---------------------------------------------------------------------------\u001b[0m",
      "\u001b[0;31mAttributeError\u001b[0m                            Traceback (most recent call last)",
      "Cell \u001b[0;32mIn[8], line 14\u001b[0m\n\u001b[1;32m     11\u001b[0m     \u001b[39mreturn\u001b[39;00m (state, sys, act, random_key, index), p_states\n\u001b[1;32m     13\u001b[0m st \u001b[39m=\u001b[39m time\u001b[39m.\u001b[39mtime()\n\u001b[0;32m---> 14\u001b[0m (dst_state, sys, dst_act, key, index), rollout \u001b[39m=\u001b[39m jax\u001b[39m.\u001b[39;49mlax\u001b[39m.\u001b[39;49mscan(scan_play_step_fn, (state, sys, act, rng, \u001b[39m0\u001b[39;49m), \u001b[39mNone\u001b[39;49;00m, length\u001b[39m=\u001b[39;49mhorizon)\n\u001b[1;32m     15\u001b[0m \u001b[39mprint\u001b[39m(time\u001b[39m.\u001b[39mtime() \u001b[39m-\u001b[39m st)\n",
      "    \u001b[0;31m[... skipping hidden 9 frame]\u001b[0m\n",
      "Cell \u001b[0;32mIn[8], line 10\u001b[0m, in \u001b[0;36mscan_play_step_fn\u001b[0;34m(carry, unused_arg)\u001b[0m\n\u001b[1;32m      7\u001b[0m \u001b[39mdef\u001b[39;00m \u001b[39mscan_play_step_fn\u001b[39m(\n\u001b[1;32m      8\u001b[0m     carry, unused_arg\n\u001b[1;32m      9\u001b[0m ):\n\u001b[0;32m---> 10\u001b[0m     state, sys, act, random_key, index, p_states \u001b[39m=\u001b[39m play_step_fn(\u001b[39m*\u001b[39;49mcarry)\n\u001b[1;32m     11\u001b[0m     \u001b[39mreturn\u001b[39;00m (state, sys, act, random_key, index), p_states\n",
      "    \u001b[0;31m[... skipping hidden 12 frame]\u001b[0m\n",
      "Cell \u001b[0;32mIn[8], line 4\u001b[0m, in \u001b[0;36mplay_step_fn\u001b[0;34m(state, sys, act, random_key, index)\u001b[0m\n\u001b[1;32m      1\u001b[0m \u001b[39m@jax\u001b[39m\u001b[39m.\u001b[39mjit\n\u001b[1;32m      2\u001b[0m \u001b[39mdef\u001b[39;00m \u001b[39mplay_step_fn\u001b[39m(state, sys, act, random_key, index: \u001b[39mint\u001b[39m):\n\u001b[1;32m      3\u001b[0m     act, random_key \u001b[39m=\u001b[39m jax\u001b[39m.\u001b[39mlax\u001b[39m.\u001b[39mcond(index \u001b[39m%\u001b[39m \u001b[39m50\u001b[39m \u001b[39m==\u001b[39m \u001b[39m0\u001b[39m, randomise_action, \u001b[39mlambda\u001b[39;00m x, y: (x, y), act, random_key)\n\u001b[0;32m----> 4\u001b[0m     state \u001b[39m=\u001b[39m jit_step_fn(state, sys, act)\n\u001b[1;32m      5\u001b[0m     \u001b[39mreturn\u001b[39;00m state, sys, act, random_key, index \u001b[39m+\u001b[39m \u001b[39m1\u001b[39m, state\u001b[39m.\u001b[39mpipeline_state\n",
      "    \u001b[0;31m[... skipping hidden 12 frame]\u001b[0m\n",
      "File \u001b[0;32m~/dev/imperial/FYP/MAax/maax_venv/lib/python3.10/site-packages/brax/generalized/pipeline.py:70\u001b[0m, in \u001b[0;36mstep\u001b[0;34m(sys, state, act, debug)\u001b[0m\n\u001b[1;32m     58\u001b[0m \u001b[39m\u001b[39m\u001b[39m\"\"\"Performs a physics step.\u001b[39;00m\n\u001b[1;32m     59\u001b[0m \n\u001b[1;32m     60\u001b[0m \u001b[39mArgs:\u001b[39;00m\n\u001b[0;32m   (...)\u001b[0m\n\u001b[1;32m     67\u001b[0m \u001b[39m  state: physics state after step\u001b[39;00m\n\u001b[1;32m     68\u001b[0m \u001b[39m\"\"\"\u001b[39;00m\n\u001b[1;32m     69\u001b[0m \u001b[39m# calculate acceleration terms\u001b[39;00m\n\u001b[0;32m---> 70\u001b[0m tau \u001b[39m=\u001b[39m actuator\u001b[39m.\u001b[39mto_tau(sys, act, state\u001b[39m.\u001b[39;49mq)\n\u001b[1;32m     71\u001b[0m state \u001b[39m=\u001b[39m state\u001b[39m.\u001b[39mreplace(qf_smooth\u001b[39m=\u001b[39mdynamics\u001b[39m.\u001b[39mforward(sys, state, tau))\n\u001b[1;32m     72\u001b[0m state \u001b[39m=\u001b[39m state\u001b[39m.\u001b[39mreplace(qf_constraint\u001b[39m=\u001b[39mconstraint\u001b[39m.\u001b[39mforce(sys, state))\n",
      "\u001b[0;31mAttributeError\u001b[0m: 'System' object has no attribute 'q'"
     ]
    }
   ],
   "source": [
    "@jax.jit\n",
    "def play_step_fn(state, sys, act, random_key, index: int):\n",
    "    act, random_key = jax.lax.cond(index % 50 == 0, randomise_action, lambda x, y: (x, y), act, random_key)\n",
    "    state = jit_step_fn(state, sys, act)\n",
    "    return state, sys, act, random_key, index + 1, state.pipeline_state\n",
    "\n",
    "def scan_play_step_fn(\n",
    "    carry, unused_arg\n",
    "):\n",
    "    state, sys, act, random_key, index, p_states = play_step_fn(*carry)\n",
    "    return (state, sys, act, random_key, index), p_states\n",
    "    \n",
    "st = time.time()\n",
    "(dst_state, sys, dst_act, key, index), rollout = jax.lax.scan(scan_play_step_fn, (state, sys, act, rng, 0), None, length=horizon)\n",
    "print(time.time() - st)"
   ]
  }
 ],
 "metadata": {
  "kernelspec": {
   "display_name": "Python 3.10.7 ('maax_venv': venv)",
   "language": "python",
   "name": "python3"
  },
  "language_info": {
   "codemirror_mode": {
    "name": "ipython",
    "version": 3
   },
   "file_extension": ".py",
   "mimetype": "text/x-python",
   "name": "python",
   "nbconvert_exporter": "python",
   "pygments_lexer": "ipython3",
   "version": "3.10.7"
  },
  "orig_nbformat": 4,
  "vscode": {
   "interpreter": {
    "hash": "d286b5a782650f2d9ae8fe3e234d77a318fcb8a23bb1ca21ad01d6849611a0dc"
   }
  }
 },
 "nbformat": 4,
 "nbformat_minor": 2
}
