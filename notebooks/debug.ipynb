{
 "cells": [
  {
   "cell_type": "code",
   "execution_count": 1,
   "metadata": {},
   "outputs": [],
   "source": [
    "import jax\n",
    "from jax import numpy as jp\n",
    "from brax.io import mjcf"
   ]
  },
  {
   "cell_type": "code",
   "execution_count": 2,
   "metadata": {},
   "outputs": [
    {
     "ename": "ValueError",
     "evalue": "Error: material 'matSmiley' not found in geom 1\nObject name = agent, id = 1, line = 8, column = -1",
     "output_type": "error",
     "traceback": [
      "\u001b[0;31m---------------------------------------------------------------------------\u001b[0m",
      "\u001b[0;31mValueError\u001b[0m                                Traceback (most recent call last)",
      "Cell \u001b[0;32mIn[2], line 1\u001b[0m\n\u001b[0;32m----> 1\u001b[0m sys \u001b[39m=\u001b[39m mjcf\u001b[39m.\u001b[39;49mloads(\n\u001b[1;32m      2\u001b[0m \u001b[39m\"\"\"\u001b[39;49;00m\n\u001b[1;32m      3\u001b[0m \u001b[39m<mujoco>\u001b[39;49;00m\n\u001b[1;32m      4\u001b[0m \u001b[39m\t<option timestep=\"0.005\"/>\u001b[39;49;00m\n\u001b[1;32m      5\u001b[0m \u001b[39m\t<worldbody>\u001b[39;49;00m\n\u001b[1;32m      6\u001b[0m \u001b[39m\t\t<body name=\"particle\" pos=\"0.15 0.15 0.15\">\u001b[39;49;00m\n\u001b[1;32m      7\u001b[0m \u001b[39m\t\t\t<joint axis=\"1 0 0\" damping=\"10\" name=\"slide0\" pos=\"0 0 0\" type=\"slide\"></joint>\u001b[39;49;00m\n\u001b[1;32m      8\u001b[0m \u001b[39m\t\t\t<joint axis=\"0 1 0\" damping=\"10\" name=\"slide1\" pos=\"0 0 0\" type=\"slide\"></joint>\u001b[39;49;00m\n\u001b[1;32m      9\u001b[0m \u001b[39m\t\t\t<joint axis=\"0 0 1\" damping=\"10\" name=\"hinge0\" pos=\"0 0 0\" type=\"hinge\"></joint>\u001b[39;49;00m\n\u001b[1;32m     10\u001b[0m \u001b[39m\t\t\t<geom name=\"agent\" material=\"matSmiley\" mass=\"1\" pos=\"0 0 0\" rgba=\"1 0 0 1\" size=\"0.15\" type=\"sphere\" euler=\"1.57 0 0\"></geom>\u001b[39;49;00m\n\u001b[1;32m     11\u001b[0m \u001b[39m\t\t\t<geom name=\"arm1\" mass=\"0\" pos=\"-0.13 -0.075 -0.05\" rgba=\"1 0 0 1\" size=\"0.05\" type=\"sphere\" euler=\"1.57 0 0\"></geom>\u001b[39;49;00m\n\u001b[1;32m     12\u001b[0m \u001b[39m\t\t\t<geom name=\"arm2\" mass=\"0\" pos=\"0.13 -0.075 -0.05\" rgba=\"1 0 0 1\" size=\"0.05\" type=\"sphere\" euler=\"1.57 0 0\"></geom>\u001b[39;49;00m\n\u001b[1;32m     13\u001b[0m \u001b[39m\t\t</body>\u001b[39;49;00m\n\u001b[1;32m     14\u001b[0m \u001b[39m\t\t<body name=\"annotation:outer_bound\" pos=\"0.15 0.15 0.15\">\u001b[39;49;00m\n\u001b[1;32m     15\u001b[0m \u001b[39m\t\t\t<geom conaffinity=\"0\" contype=\"0\" mass=\"0\" pos=\"0 0 0\" rgba=\"0.417 0.7203 0.0001 0.1\" size=\"0.15 0.15 0.15\" type=\"box\"></geom>\u001b[39;49;00m\n\u001b[1;32m     16\u001b[0m \u001b[39m\t\t</body>\u001b[39;49;00m\n\u001b[1;32m     17\u001b[0m \u001b[39m\t</worldbody>\u001b[39;49;00m\n\u001b[1;32m     18\u001b[0m \u001b[39m\t<actuator>\u001b[39;49;00m\n\u001b[1;32m     19\u001b[0m \u001b[39m\t\t<motor name=\"motortx\" gear=\"100\" joint=\"slide0\"></motor>\u001b[39;49;00m\n\u001b[1;32m     20\u001b[0m \u001b[39m\t\t<motor name=\"motorty\" gear=\"100\" joint=\"slide1\"></motor>\u001b[39;49;00m\n\u001b[1;32m     21\u001b[0m \u001b[39m\t\t<motor name=\"motorrz\" gear=\"100\" joint=\"hinge0\"></motor>\u001b[39;49;00m\n\u001b[1;32m     22\u001b[0m \u001b[39m\t</actuator>\u001b[39;49;00m\n\u001b[1;32m     23\u001b[0m \u001b[39m</mujoco>\u001b[39;49;00m\n\u001b[1;32m     24\u001b[0m \u001b[39m\"\"\"\u001b[39;49;00m\n\u001b[1;32m     25\u001b[0m )\n",
      "File \u001b[0;32m~/dev/imperial/FYP/MAax/maax_venv/lib/python3.10/site-packages/brax/io/mjcf.py:499\u001b[0m, in \u001b[0;36mloads\u001b[0;34m(xml, asset_path)\u001b[0m\n\u001b[1;32m    497\u001b[0m assets \u001b[39m=\u001b[39m {} \u001b[39mif\u001b[39;00m asset_path \u001b[39mis\u001b[39;00m \u001b[39mNone\u001b[39;00m \u001b[39melse\u001b[39;00m _find_assets(elem, asset_path)\n\u001b[1;32m    498\u001b[0m xml \u001b[39m=\u001b[39m ElementTree\u001b[39m.\u001b[39mtostring(elem, encoding\u001b[39m=\u001b[39m\u001b[39m'\u001b[39m\u001b[39municode\u001b[39m\u001b[39m'\u001b[39m)\n\u001b[0;32m--> 499\u001b[0m mj \u001b[39m=\u001b[39m mujoco\u001b[39m.\u001b[39;49mMjModel\u001b[39m.\u001b[39;49mfrom_xml_string(xml, assets\u001b[39m=\u001b[39;49massets)\n\u001b[1;32m    501\u001b[0m \u001b[39mreturn\u001b[39;00m load_model(mj)\n",
      "\u001b[0;31mValueError\u001b[0m: Error: material 'matSmiley' not found in geom 1\nObject name = agent, id = 1, line = 8, column = -1"
     ]
    }
   ],
   "source": [
    "sys = mjcf.loads(\n",
    "\"\"\"\n",
    "<mujoco>\n",
    "\t<option timestep=\"0.005\"/>\n",
    "\t<worldbody>\n",
    "\t\t<body name=\"particle\" pos=\"0.15 0.15 0.15\">\n",
    "\t\t\t<joint axis=\"1 0 0\" damping=\"10\" name=\"slide0\" pos=\"0 0 0\" type=\"slide\"></joint>\n",
    "\t\t\t<joint axis=\"0 1 0\" damping=\"10\" name=\"slide1\" pos=\"0 0 0\" type=\"slide\"></joint>\n",
    "\t\t\t<joint axis=\"0 0 1\" damping=\"10\" name=\"hinge0\" pos=\"0 0 0\" type=\"hinge\"></joint>\n",
    "\t\t\t<geom name=\"agent\" mass=\"1\" pos=\"0 0 0\" rgba=\"1 0 0 1\" size=\"0.15\" type=\"sphere\" euler=\"1.57 0 0\"></geom>\n",
    "\t\t\t<geom name=\"arm1\" mass=\"0\" pos=\"-0.13 -0.075 -0.05\" rgba=\"1 0 0 1\" size=\"0.05\" type=\"sphere\" euler=\"1.57 0 0\"></geom>\n",
    "\t\t\t<geom name=\"arm2\" mass=\"0\" pos=\"0.13 -0.075 -0.05\" rgba=\"1 0 0 1\" size=\"0.05\" type=\"sphere\" euler=\"1.57 0 0\"></geom>\n",
    "\t\t</body>\n",
    "\t\t<body name=\"annotation:outer_bound\" pos=\"0.15 0.15 0.15\">\n",
    "\t\t\t<geom conaffinity=\"0\" contype=\"0\" mass=\"0\" pos=\"0 0 0\" rgba=\"0.417 0.7203 0.0001 0.1\" size=\"0.15 0.15 0.15\" type=\"box\"></geom>\n",
    "\t\t</body>\n",
    "\t</worldbody>\n",
    "\t<actuator>\n",
    "\t\t<motor name=\"motortx\" gear=\"100\" joint=\"slide0\"></motor>\n",
    "\t\t<motor name=\"motorty\" gear=\"100\" joint=\"slide1\"></motor>\n",
    "\t\t<motor name=\"motorrz\" gear=\"100\" joint=\"hinge0\"></motor>\n",
    "\t</actuator>\n",
    "</mujoco>\n",
    "\"\"\"\n",
    ")"
   ]
  },
  {
   "cell_type": "code",
   "execution_count": null,
   "metadata": {},
   "outputs": [],
   "source": [
    "print(sys.init_q)"
   ]
  }
 ],
 "metadata": {
  "kernelspec": {
   "display_name": "Python 3.10.7 ('maax_venv': venv)",
   "language": "python",
   "name": "python3"
  },
  "language_info": {
   "codemirror_mode": {
    "name": "ipython",
    "version": 3
   },
   "file_extension": ".py",
   "mimetype": "text/x-python",
   "name": "python",
   "nbconvert_exporter": "python",
   "pygments_lexer": "ipython3",
   "version": "3.10.7"
  },
  "orig_nbformat": 4,
  "vscode": {
   "interpreter": {
    "hash": "d286b5a782650f2d9ae8fe3e234d77a318fcb8a23bb1ca21ad01d6849611a0dc"
   }
  }
 },
 "nbformat": 4,
 "nbformat_minor": 2
}
