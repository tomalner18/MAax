{
 "cells": [
  {
   "cell_type": "code",
   "execution_count": 1,
   "metadata": {},
   "outputs": [],
   "source": [
    "import jax\n",
    "from jax import numpy as jp\n",
    "from brax.io import mjcf"
   ]
  },
  {
   "cell_type": "code",
   "execution_count": 2,
   "metadata": {},
   "outputs": [],
   "source": [
    "sys = mjcf.loads(\n",
    "\"\"\"\n",
    "<mujoco>\n",
    "\t<option timestep=\"0.005\"/>\n",
    "\t<worldbody>\n",
    "\t\t<body name=\"particle\" pos=\"0.15 0.15 0.15\">\n",
    "\t\t\t<joint axis=\"1 0 0\" damping=\"10\" name=\"slide0\" pos=\"0 0 0\" type=\"slide\"></joint>\n",
    "\t\t\t<joint axis=\"0 1 0\" damping=\"10\" name=\"slide1\" pos=\"0 0 0\" type=\"slide\"></joint>\n",
    "\t\t\t<joint axis=\"0 0 1\" damping=\"10\" name=\"hinge0\" pos=\"0 0 0\" type=\"hinge\"></joint>\n",
    "\t\t\t<geom name=\"agent\" mass=\"1\" pos=\"0 0 0\" rgba=\"1 0 0 1\" size=\"0.15\" type=\"sphere\" euler=\"1.57 0 0\"></geom>\n",
    "\t\t\t<geom name=\"arm1\" mass=\"0\" pos=\"-0.13 -0.075 -0.05\" rgba=\"1 0 0 1\" size=\"0.05\" type=\"sphere\" euler=\"1.57 0 0\"></geom>\n",
    "\t\t\t<geom name=\"arm2\" mass=\"0\" pos=\"0.13 -0.075 -0.05\" rgba=\"1 0 0 1\" size=\"0.05\" type=\"sphere\" euler=\"1.57 0 0\"></geom>\n",
    "\t\t</body>\n",
    "\t\t<body name=\"annotation:outer_bound\" pos=\"0.15 0.15 0.15\">\n",
    "\t\t\t<geom conaffinity=\"0\" contype=\"0\" mass=\"0\" pos=\"0 0 0\" rgba=\"0.417 0.7203 0.0001 0.1\" size=\"0.15 0.15 0.15\" type=\"box\"></geom>\n",
    "\t\t</body>\n",
    "\t</worldbody>\n",
    "\t<actuator>\n",
    "\t\t<motor name=\"motortx\" gear=\"100\" joint=\"slide0\"></motor>\n",
    "\t\t<motor name=\"motorty\" gear=\"100\" joint=\"slide1\"></motor>\n",
    "\t\t<motor name=\"motorrz\" gear=\"100\" joint=\"hinge0\"></motor>\n",
    "\t</actuator>\n",
    "</mujoco>\n",
    "\"\"\"\n",
    ")"
   ]
  },
  {
   "cell_type": "code",
   "execution_count": 5,
   "metadata": {},
   "outputs": [
    {
     "name": "stdout",
     "output_type": "stream",
     "text": [
      "[0. 0. 0.]\n",
      "3\n"
     ]
    }
   ],
   "source": [
    "print(sys.init_q)\n",
    "print(sys.qd_size())"
   ]
  }
 ],
 "metadata": {
  "kernelspec": {
   "display_name": "Python 3.10.7 ('maax_venv': venv)",
   "language": "python",
   "name": "python3"
  },
  "language_info": {
   "codemirror_mode": {
    "name": "ipython",
    "version": 3
   },
   "file_extension": ".py",
   "mimetype": "text/x-python",
   "name": "python",
   "nbconvert_exporter": "python",
   "pygments_lexer": "ipython3",
   "version": "3.10.7"
  },
  "orig_nbformat": 4,
  "vscode": {
   "interpreter": {
    "hash": "d286b5a782650f2d9ae8fe3e234d77a318fcb8a23bb1ca21ad01d6849611a0dc"
   }
  }
 },
 "nbformat": 4,
 "nbformat_minor": 2
}
