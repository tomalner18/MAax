{
 "cells": [
  {
   "cell_type": "code",
   "execution_count": 90,
   "metadata": {},
   "outputs": [],
   "source": [
    "import jax\n",
    "from jax import numpy as jp\n",
    "from matplotlib.lines import Line2D\n",
    "from matplotlib.patches import Circle\n",
    "import matplotlib.pyplot as plt\n",
    "\n",
    "import brax"
   ]
  },
  {
   "cell_type": "code",
   "execution_count": 91,
   "metadata": {},
   "outputs": [
    {
     "name": "stdout",
     "output_type": "stream",
     "text": [
      "0.9.0\n",
      "8.13.2\n"
     ]
    }
   ],
   "source": [
    "print(brax.__version__)\n",
    "import IPython\n",
    "from IPython.display import HTML, clear_output\n",
    "print(IPython.__version__)\n",
    "from brax.io import model\n",
    "from brax.io import json\n",
    "from brax.io import html"
   ]
  },
  {
   "cell_type": "code",
   "execution_count": 92,
   "metadata": {},
   "outputs": [],
   "source": [
    "from brax.io import mjcf\n",
    "\n",
    "agent = mjcf.loads(\n",
    "\"\"\"\n",
    "<mujoco>\n",
    "\t<option timestep=\"0.005\"/>\n",
    "\t<worldbody>\n",
    "\t    <geom size=\"40 40 40\" type=\"plane\"/>\n",
    "\t\t<body name=\"particle\" pos=\"0.15 0.15 0.15\">\n",
    "\t\t\t<joint axis=\"1 0 0\" damping=\"0.1\" name=\"agentx\" pos=\"0 0 0\" type=\"slide\"></joint>\n",
    "\t\t\t<joint axis=\"0 1 0\" damping=\"0.1\" name=\"agenty\" pos=\"0 0 0\" type=\"slide\"></joint>\n",
    "\t\t\t<joint axis=\"0 0 1\" damping=\"0.1\" name=\"agentz\" pos=\"0 0 0\" type=\"slide\"></joint>\n",
    "\t\t\t<geom name=\"agent\" mass=\"1\" pos=\"0 0 0\" rgba=\"1 0 0 1\" size=\"0.15\" type=\"sphere\" euler=\"1.57 0 0\"></geom>\n",
    "\t\t</body>\n",
    "\t\t<body name=\"annotation:outer_bound\" pos=\"0.15 0.15 0.15\">\n",
    "\t\t\t<geom conaffinity=\"0\" contype=\"0\" mass=\"0\" pos=\"0 0 0\" rgba=\"0.417 0.7203 0.0001 0.0\" size=\"0.0001 0.0001 0.0001\" type=\"box\"></geom>\n",
    "\t\t</body>\n",
    "\t</worldbody>\n",
    "\t<actuator>\n",
    "\t\t<motor gear=\"100\" joint=\"agentx\"></motor>\n",
    "\t\t<motor gear=\"100\" joint=\"agenty\"></motor>\n",
    "\t</actuator>\n",
    "</mujoco>\n",
    "\"\"\")"
   ]
  },
  {
   "cell_type": "code",
   "execution_count": 93,
   "metadata": {},
   "outputs": [],
   "source": [
    "agent = mjcf.loads(\n",
    "\"\"\"\n",
    "<mujoco>\n",
    "\t<option timestep=\"0.005\"/>\n",
    "\t<worldbody>\n",
    "\t    <geom size=\"40 40 40\" type=\"plane\"/>\n",
    "\t\t<body name=\"particle\" pos=\"0.15 0.15 0.15\">\n",
    "\t\t\t<joint axis=\"1 0 0\" damping=\"0.1\" name=\"agent0:agentx\" pos=\"0 0 0\" type=\"slide\"></joint>\n",
    "\t\t\t<joint axis=\"0 1 0\" damping=\"0.1\" name=\"agent0:agenty\" pos=\"0 0 0\" type=\"slide\"></joint>\n",
    "\t\t\t<joint axis=\"0 0 1\" damping=\"1\" name=\"agent0:agentz\" pos=\"0 0 0\" type=\"slide\"></joint>\n",
    "\t\t\t<geom name=\"agent0:agent\" mass=\"1\" pos=\"0 0 0\" rgba=\"0.258824 0.921569 0.956863 1\" size=\"0.15\" type=\"sphere\" euler=\"1.57 0 0\" friction=\"0.01\"></geom>\n",
    "\t\t</body>\n",
    "\t</worldbody>\n",
    "\t<actuator>\n",
    "\t\t<motor gear=\"100\" joint=\"agent0:agentx\"></motor>\n",
    "\t\t<motor gear=\"100\" joint=\"agent0:agenty\"></motor>\n",
    "\t</actuator>\n",
    "</mujoco>\n",
    "\"\"\")\n"
   ]
  },
  {
   "cell_type": "code",
   "execution_count": 94,
   "metadata": {},
   "outputs": [
    {
     "name": "stdout",
     "output_type": "stream",
     "text": [
      "[0. 0. 0.]\n"
     ]
    }
   ],
   "source": [
    "print(agent.init_q)"
   ]
  },
  {
   "cell_type": "code",
   "execution_count": 95,
   "metadata": {},
   "outputs": [],
   "source": [
    "#@title { run: \"auto\"}\n",
    "from brax.generalized import pipeline\n",
    "\n",
    "elasticity = 0.85 #@param { type:\"slider\", min: 0.5, max: 1.0, step:0.05 }\n",
    "ball_velocity = 1 #@param { type:\"slider\", min:-5, max:5, step: 0.5 }\n",
    "\n",
    "# provide an initial velocity to the ball\n",
    "qd = jp.zeros(agent.qd_size())\n",
    "state = jax.jit(pipeline.init)(agent, agent.init_q, qd)\n",
    "\n",
    "rollout = []\n",
    "\n",
    "\n",
    "for i in range(100):\n",
    "    rollout.append(state)\n",
    "    act = jp.asarray([0.1, 0.1])\n",
    "    state = jax.jit(pipeline.step)(agent, state, act)\n",
    "\n",
    "html.save('agent.html', agent, rollout)"
   ]
  }
 ],
 "metadata": {
  "kernelspec": {
   "display_name": "Python 3.10.7 ('maax_venv': venv)",
   "language": "python",
   "name": "python3"
  },
  "language_info": {
   "codemirror_mode": {
    "name": "ipython",
    "version": 3
   },
   "file_extension": ".py",
   "mimetype": "text/x-python",
   "name": "python",
   "nbconvert_exporter": "python",
   "pygments_lexer": "ipython3",
   "version": "3.10.7"
  },
  "orig_nbformat": 4,
  "vscode": {
   "interpreter": {
    "hash": "d286b5a782650f2d9ae8fe3e234d77a318fcb8a23bb1ca21ad01d6849611a0dc"
   }
  }
 },
 "nbformat": 4,
 "nbformat_minor": 2
}
