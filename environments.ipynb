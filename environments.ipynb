{
 "cells": [
  {
   "cell_type": "code",
   "execution_count": 195,
   "metadata": {},
   "outputs": [],
   "source": [
    "import functools\n",
    "import time\n",
    "\n",
    "from IPython.display import HTML, Image\n",
    "import gym\n",
    "\n",
    "import brax\n",
    "\n",
    "from brax import envs\n",
    "from brax import jumpy as jp\n",
    "from brax.envs import to_torch\n",
    "from brax.io import html\n",
    "from brax.io import image\n",
    "import jax\n",
    "from jax import numpy as jnp\n",
    "from jax import random\n",
    "import torch\n",
    "v = torch.ones(1, device='cuda')  # init torch cuda before jax"
   ]
  },
  {
   "cell_type": "code",
   "execution_count": 196,
   "metadata": {},
   "outputs": [],
   "source": [
    "seed = 42\n",
    "key = random.PRNGKey(42)"
   ]
  },
  {
   "cell_type": "code",
   "execution_count": 197,
   "metadata": {},
   "outputs": [],
   "source": [
    "def add_agent(config, agent_mass=1.0, radius=0.5):\n",
    "    # Add the agent body\n",
    "    agent = config.bodies.add(name='agent')\n",
    "    sph = agent.colliders.add().sphere\n",
    "    sph.radius = radius\n",
    "    agent.mass = agent_mass\n",
    "    # agent.damping = 1e-2\n",
    "    # agent.friction = 0.6\n",
    "\n",
    "\n",
    "# Adds joint for rolling the agent\n",
    "def add_joint(config):\n",
    "    joint = config.joints.add(name='rolling')\n",
    "    joint.parent = 'ground'\n",
    "    joint.child = 'agent'\n",
    "    joint.angle = -1.57\n",
    "    joint.twist = 1.0\n",
    "    joint.limit.velocity = 100.0\n",
    "    joint.limit.torque = 100.0\n",
    "    joint.spring.stiffness = 1e5\n",
    "\n",
    "\n",
    "def add_objects(config, key, object_count, cube_mass=1.0, cube_halfsize=0.5):\n",
    "    key, *subkeys = random.split(key, object_count + 1)\n",
    "    for i in range(object_count):\n",
    "        cube = config.bodies.add(name=f'cube_{i}')\n",
    "        box = cube.colliders.add().box\n",
    "        box.halfsize.x = 0.5\n",
    "        box.halfsize.y = 0.5\n",
    "        box.halfsize.z = 0.5\n",
    "        cube.mass = cube_mass\n",
    "\n",
    "\n",
    "def distribute_objects(config, key, object_count):\n",
    "    default = config.defaults.add()\n",
    "    key, *subkeys = random.split(key, object_count + 1)\n",
    "    for i in range(object_count):\n",
    "        qp = default.qps.add(name=f'cube_{i}')\n",
    "        qp.pos.x = random.uniform(key=subkeys[i], minval=-2, maxval=2)\n",
    "        qp.pos.y = random.uniform(key=subkeys[i], minval=-2, maxval=2)\n",
    "        qp.pos.z = random.uniform(key=subkeys[i], minval=0, maxval=4)"
   ]
  },
  {
   "cell_type": "code",
   "execution_count": 201,
   "metadata": {},
   "outputs": [],
   "source": [
    "def create_config(object_count):\n",
    "    # Define the environment config.\n",
    "    sphere_maze = brax.Config(dt=0.01, substeps=20, dynamics_mode='pbd')\n",
    "    \n",
    "\n",
    "\n",
    "    sphere_maze.gravity.x = 0.0\n",
    "    sphere_maze.gravity.y = 0.0\n",
    "    sphere_maze.gravity.z = -9.8\n",
    "\n",
    "    # Add the ground, a frozen (immovable) infinite plane\n",
    "    ground = sphere_maze.bodies.add(name='ground')\n",
    "    ground.frozen.all = True\n",
    "    plane = ground.colliders.add().plane\n",
    "    plane.SetInParent()  # for setting an empty oneof\n",
    "\n",
    "    # Add the agent body\n",
    "    add_agent(sphere_maze)\n",
    "\n",
    "    # Add the cubes.\n",
    "    add_objects(sphere_maze, key, object_count=object_count)\n",
    "    distribute_objects(sphere_maze, key, object_count=object_count)\n",
    "\n",
    "    return sphere_maze"
   ]
  },
  {
   "cell_type": "code",
   "execution_count": 199,
   "metadata": {},
   "outputs": [],
   "source": [
    "# Set the actions\n",
    "def set_action(env, action):\n",
    "    torque = jnp.array([0., 0., action[0]])\n",
    "    env.physics.forces['agent', 'rolling'].max_torque = jnp.abs(torque)\n",
    "    env.physics.forces['agent', 'rolling'].torque = torque\n",
    "\n",
    "def gen_vis(config):\n",
    "    # Create a visualization\n",
    "    vis_config = html.Config.from_config(config)\n",
    "    vis_config.side_length = 15\n",
    "    vis = html.Visualization(vis_config)\n",
    "    return vis"
   ]
  },
  {
   "cell_type": "code",
   "execution_count": 200,
   "metadata": {},
   "outputs": [
    {
     "name": "stdout",
     "output_type": "stream",
     "text": [
      "0\n",
      "1\n",
      "2\n",
      "3\n",
      "4\n",
      "5\n",
      "6\n"
     ]
    },
    {
     "ename": "KeyboardInterrupt",
     "evalue": "",
     "output_type": "error",
     "traceback": [
      "\u001b[0;31m---------------------------------------------------------------------------\u001b[0m",
      "\u001b[0;31mKeyboardInterrupt\u001b[0m                         Traceback (most recent call last)",
      "\u001b[1;32m/home/talner/dev/imperial/FYP/MAax/environments.ipynb Cell 6\u001b[0m in \u001b[0;36m<module>\u001b[0;34m\u001b[0m\n\u001b[1;32m     <a href='vscode-notebook-cell:/home/talner/dev/imperial/FYP/MAax/environments.ipynb#W5sZmlsZQ%3D%3D?line=13'>14</a>\u001b[0m     \u001b[39mprint\u001b[39m(i)\n\u001b[1;32m     <a href='vscode-notebook-cell:/home/talner/dev/imperial/FYP/MAax/environments.ipynb#W5sZmlsZQ%3D%3D?line=14'>15</a>\u001b[0m     action \u001b[39m=\u001b[39m jnp\u001b[39m.\u001b[39marray([jnp\u001b[39m.\u001b[39msin(i \u001b[39m/\u001b[39m \u001b[39m10\u001b[39m)])\n\u001b[0;32m---> <a href='vscode-notebook-cell:/home/talner/dev/imperial/FYP/MAax/environments.ipynb#W5sZmlsZQ%3D%3D?line=15'>16</a>\u001b[0m     qp, _ \u001b[39m=\u001b[39m sys\u001b[39m.\u001b[39;49mstep(qps[\u001b[39m-\u001b[39;49m\u001b[39m1\u001b[39;49m], action)\n\u001b[1;32m     <a href='vscode-notebook-cell:/home/talner/dev/imperial/FYP/MAax/environments.ipynb#W5sZmlsZQ%3D%3D?line=16'>17</a>\u001b[0m     qps\u001b[39m.\u001b[39mappend(qp)\n\u001b[1;32m     <a href='vscode-notebook-cell:/home/talner/dev/imperial/FYP/MAax/environments.ipynb#W5sZmlsZQ%3D%3D?line=18'>19</a>\u001b[0m HTML(html\u001b[39m.\u001b[39mrender(sys, qps))\n",
      "File \u001b[0;32m~/.local/lib/python3.8/site-packages/brax/physics/system.py:247\u001b[0m, in \u001b[0;36mSystem.step\u001b[0;34m(self, qp, act)\u001b[0m\n\u001b[1;32m    245\u001b[0m \u001b[39m\u001b[39m\u001b[39m\"\"\"Generic step function.  Overridden with appropriate step at init.\"\"\"\u001b[39;00m\n\u001b[1;32m    246\u001b[0m step_funs \u001b[39m=\u001b[39m {\u001b[39m'\u001b[39m\u001b[39mpbd\u001b[39m\u001b[39m'\u001b[39m: \u001b[39mself\u001b[39m\u001b[39m.\u001b[39m_pbd_step, \u001b[39m'\u001b[39m\u001b[39mlegacy_spring\u001b[39m\u001b[39m'\u001b[39m: \u001b[39mself\u001b[39m\u001b[39m.\u001b[39m_spring_step}\n\u001b[0;32m--> 247\u001b[0m \u001b[39mreturn\u001b[39;00m step_funs[\u001b[39mself\u001b[39;49m\u001b[39m.\u001b[39;49mconfig\u001b[39m.\u001b[39;49mdynamics_mode](qp, act)\n",
      "File \u001b[0;32m~/.local/lib/python3.8/site-packages/brax/physics/system.py:324\u001b[0m, in \u001b[0;36mSystem._pbd_step\u001b[0;34m(self, qp, act)\u001b[0m\n\u001b[1;32m    321\u001b[0m   c\u001b[39m.\u001b[39mcull\u001b[39m.\u001b[39mupdate(qp)\n\u001b[1;32m    323\u001b[0m info \u001b[39m=\u001b[39m \u001b[39mself\u001b[39m\u001b[39m.\u001b[39mzero_info\n\u001b[0;32m--> 324\u001b[0m (qp, info), _ \u001b[39m=\u001b[39m jp\u001b[39m.\u001b[39;49mscan(substep, (qp, info), (), \u001b[39mself\u001b[39;49m\u001b[39m.\u001b[39;49mconfig\u001b[39m.\u001b[39;49msubsteps \u001b[39m/\u001b[39;49m\u001b[39m/\u001b[39;49m \u001b[39m2\u001b[39;49m)\n\u001b[1;32m    325\u001b[0m \u001b[39mreturn\u001b[39;00m qp, info\n",
      "File \u001b[0;32m~/.local/lib/python3.8/site-packages/brax/jumpy.py:115\u001b[0m, in \u001b[0;36mscan\u001b[0;34m(f, init, xs, length, reverse, unroll)\u001b[0m\n\u001b[1;32m    113\u001b[0m \u001b[39mfor\u001b[39;00m i \u001b[39min\u001b[39;00m maybe_reversed(\u001b[39mrange\u001b[39m(length)):\n\u001b[1;32m    114\u001b[0m   xs_slice \u001b[39m=\u001b[39m [x[i] \u001b[39mfor\u001b[39;00m x \u001b[39min\u001b[39;00m xs_flat]\n\u001b[0;32m--> 115\u001b[0m   carry, y \u001b[39m=\u001b[39m f(carry, jax\u001b[39m.\u001b[39;49mtree_util\u001b[39m.\u001b[39;49mtree_unflatten(xs_tree, xs_slice))\n\u001b[1;32m    116\u001b[0m   ys\u001b[39m.\u001b[39mappend(y)\n\u001b[1;32m    117\u001b[0m stacked_y \u001b[39m=\u001b[39m jax\u001b[39m.\u001b[39mtree_util\u001b[39m.\u001b[39mtree_map(\u001b[39mlambda\u001b[39;00m \u001b[39m*\u001b[39my: onp\u001b[39m.\u001b[39mstack(y),\n\u001b[1;32m    118\u001b[0m                                    \u001b[39m*\u001b[39mmaybe_reversed(ys))\n",
      "File \u001b[0;32m~/.local/lib/python3.8/site-packages/brax/physics/system.py:299\u001b[0m, in \u001b[0;36mSystem._pbd_step.<locals>.substep\u001b[0;34m(carry, _)\u001b[0m\n\u001b[1;32m    296\u001b[0m dq_j \u001b[39m=\u001b[39m \u001b[39msum\u001b[39m([j\u001b[39m.\u001b[39mapply(qp) \u001b[39mfor\u001b[39;00m j \u001b[39min\u001b[39;00m \u001b[39mself\u001b[39m\u001b[39m.\u001b[39mjoints], zero_q)\n\u001b[1;32m    297\u001b[0m qp \u001b[39m=\u001b[39m \u001b[39mself\u001b[39m\u001b[39m.\u001b[39mintegrator\u001b[39m.\u001b[39mupdate(qp, pos_q\u001b[39m=\u001b[39mdq_j)\n\u001b[0;32m--> 299\u001b[0m collide_data \u001b[39m=\u001b[39m [c\u001b[39m.\u001b[39mposition_apply(qp, qprev) \u001b[39mfor\u001b[39;00m c \u001b[39min\u001b[39;00m \u001b[39mself\u001b[39m\u001b[39m.\u001b[39mcolliders]\n\u001b[1;32m    300\u001b[0m dq_c \u001b[39m=\u001b[39m \u001b[39msum\u001b[39m([c[\u001b[39m0\u001b[39m] \u001b[39mfor\u001b[39;00m c \u001b[39min\u001b[39;00m collide_data], zero_q)\n\u001b[1;32m    301\u001b[0m dlambda \u001b[39m=\u001b[39m [c[\u001b[39m1\u001b[39m] \u001b[39mfor\u001b[39;00m c \u001b[39min\u001b[39;00m collide_data]\n",
      "File \u001b[0;32m~/.local/lib/python3.8/site-packages/brax/physics/system.py:299\u001b[0m, in \u001b[0;36m<listcomp>\u001b[0;34m(.0)\u001b[0m\n\u001b[1;32m    296\u001b[0m dq_j \u001b[39m=\u001b[39m \u001b[39msum\u001b[39m([j\u001b[39m.\u001b[39mapply(qp) \u001b[39mfor\u001b[39;00m j \u001b[39min\u001b[39;00m \u001b[39mself\u001b[39m\u001b[39m.\u001b[39mjoints], zero_q)\n\u001b[1;32m    297\u001b[0m qp \u001b[39m=\u001b[39m \u001b[39mself\u001b[39m\u001b[39m.\u001b[39mintegrator\u001b[39m.\u001b[39mupdate(qp, pos_q\u001b[39m=\u001b[39mdq_j)\n\u001b[0;32m--> 299\u001b[0m collide_data \u001b[39m=\u001b[39m [c\u001b[39m.\u001b[39;49mposition_apply(qp, qprev) \u001b[39mfor\u001b[39;00m c \u001b[39min\u001b[39;00m \u001b[39mself\u001b[39m\u001b[39m.\u001b[39mcolliders]\n\u001b[1;32m    300\u001b[0m dq_c \u001b[39m=\u001b[39m \u001b[39msum\u001b[39m([c[\u001b[39m0\u001b[39m] \u001b[39mfor\u001b[39;00m c \u001b[39min\u001b[39;00m collide_data], zero_q)\n\u001b[1;32m    301\u001b[0m dlambda \u001b[39m=\u001b[39m [c[\u001b[39m1\u001b[39m] \u001b[39mfor\u001b[39;00m c \u001b[39min\u001b[39;00m collide_data]\n",
      "File \u001b[0;32m~/.local/lib/python3.8/site-packages/brax/physics/colliders.py:213\u001b[0m, in \u001b[0;36mCollider.position_apply\u001b[0;34m(self, qp, qp_prev)\u001b[0m\n\u001b[1;32m    210\u001b[0m qp_a, qp_a_prev \u001b[39m=\u001b[39m jp\u001b[39m.\u001b[39mtake((qp, qp_prev), col_a\u001b[39m.\u001b[39mbody\u001b[39m.\u001b[39midx)\n\u001b[1;32m    211\u001b[0m qp_b, qp_b_prev \u001b[39m=\u001b[39m jp\u001b[39m.\u001b[39mtake((qp, qp_prev), col_b\u001b[39m.\u001b[39mbody\u001b[39m.\u001b[39midx)\n\u001b[0;32m--> 213\u001b[0m contact \u001b[39m=\u001b[39m jp\u001b[39m.\u001b[39;49mvmap(\u001b[39mself\u001b[39;49m\u001b[39m.\u001b[39;49mcontact_fn)(col_a, col_b, qp_a, qp_b)\n\u001b[1;32m    214\u001b[0m pre_contact \u001b[39m=\u001b[39m contact\n\u001b[1;32m    215\u001b[0m dq_a, dq_b, dlambda \u001b[39m=\u001b[39m jp\u001b[39m.\u001b[39mvmap(\u001b[39mself\u001b[39m\u001b[39m.\u001b[39m_position_contact)(col_a, col_b, qp_a,\n\u001b[1;32m    216\u001b[0m                                                       qp_b, qp_a_prev,\n\u001b[1;32m    217\u001b[0m                                                       qp_b_prev, contact)\n",
      "File \u001b[0;32m~/.local/lib/python3.8/site-packages/brax/jumpy.py:87\u001b[0m, in \u001b[0;36mvmap.<locals>._batched\u001b[0;34m(include, *args)\u001b[0m\n\u001b[1;32m     85\u001b[0m     \u001b[39melse\u001b[39;00m:\n\u001b[1;32m     86\u001b[0m       b_args\u001b[39m.\u001b[39mappend(a)\n\u001b[0;32m---> 87\u001b[0m   rets\u001b[39m.\u001b[39mappend(fun(\u001b[39m*\u001b[39;49mb_args))\n\u001b[1;32m     89\u001b[0m \u001b[39mreturn\u001b[39;00m jax\u001b[39m.\u001b[39mtree_util\u001b[39m.\u001b[39mtree_map(\u001b[39mlambda\u001b[39;00m \u001b[39m*\u001b[39mx: onp\u001b[39m.\u001b[39mstack(x), \u001b[39m*\u001b[39mrets)\n",
      "File \u001b[0;32m~/.local/lib/python3.8/site-packages/brax/physics/colliders.py:877\u001b[0m, in \u001b[0;36mhull_hull\u001b[0;34m(mesh_a, mesh_b, qp_a, qp_b)\u001b[0m\n\u001b[1;32m    874\u001b[0m vertices_a, vertices_b \u001b[39m=\u001b[39m get_verts(mesh_a\u001b[39m.\u001b[39mvertices, mesh_b\u001b[39m.\u001b[39mvertices)\n\u001b[1;32m    876\u001b[0m \u001b[39m# Create a potential face and edge contact using SAT.\u001b[39;00m\n\u001b[0;32m--> 877\u001b[0m edge_contact, face_contact \u001b[39m=\u001b[39m geometry\u001b[39m.\u001b[39;49msat_hull_hull(faces_a, faces_b,\n\u001b[1;32m    878\u001b[0m                                                     vertices_a, vertices_b,\n\u001b[1;32m    879\u001b[0m                                                     normals_a, normals_b)\n\u001b[1;32m    881\u001b[0m \u001b[39m# Pick a face or edge as the final contact.\u001b[39;00m\n\u001b[1;32m    882\u001b[0m contact \u001b[39m=\u001b[39m jp\u001b[39m.\u001b[39mcond(edge_contact\u001b[39m.\u001b[39mpenetration[\u001b[39m0\u001b[39m] \u001b[39m>\u001b[39m \u001b[39m0\u001b[39m, \u001b[39mlambda\u001b[39;00m \u001b[39m*\u001b[39mx: edge_contact,\n\u001b[1;32m    883\u001b[0m                   \u001b[39mlambda\u001b[39;00m \u001b[39m*\u001b[39mx: face_contact)\n",
      "File \u001b[0;32m~/.local/lib/python3.8/site-packages/brax/physics/geometry.py:894\u001b[0m, in \u001b[0;36msat_hull_hull\u001b[0;34m(faces_a, faces_b, vertices_a, vertices_b, normals_a, normals_b)\u001b[0m\n\u001b[1;32m    892\u001b[0m edges_a_mid \u001b[39m=\u001b[39m edge_a1 \u001b[39m+\u001b[39m (edge_a2 \u001b[39m-\u001b[39m edge_a1) \u001b[39m*\u001b[39m \u001b[39m0.5\u001b[39m\n\u001b[1;32m    893\u001b[0m edges_b_mid \u001b[39m=\u001b[39m edge_b1 \u001b[39m+\u001b[39m (edge_b2 \u001b[39m-\u001b[39m edge_b1) \u001b[39m*\u001b[39m \u001b[39m0.5\u001b[39m\n\u001b[0;32m--> 894\u001b[0m midpoint_dists \u001b[39m=\u001b[39m \u001b[39m-\u001b[39mjp\u001b[39m.\u001b[39;49mvmap(jp\u001b[39m.\u001b[39;49mdot)(edges_a_mid \u001b[39m-\u001b[39;49m edges_b_mid,\n\u001b[1;32m    895\u001b[0m                                   edges_a_mid \u001b[39m-\u001b[39;49m edges_b_mid)\n\u001b[1;32m    897\u001b[0m \u001b[39m# Find the edge-pair with min separation.\u001b[39;00m\n\u001b[1;32m    898\u001b[0m edge_dist, edge_idx \u001b[39m=\u001b[39m get_edge_support(vertices_b, edge_normals, edge_a1,\n\u001b[1;32m    899\u001b[0m                                        edge_b1, edge_b2, midpoint_dists,\n\u001b[1;32m    900\u001b[0m                                        bad_edge_axes)\n",
      "File \u001b[0;32m~/.local/lib/python3.8/site-packages/brax/jumpy.py:84\u001b[0m, in \u001b[0;36mvmap.<locals>._batched\u001b[0;34m(include, *args)\u001b[0m\n\u001b[1;32m     82\u001b[0m \u001b[39mfor\u001b[39;00m a, inc \u001b[39min\u001b[39;00m \u001b[39mzip\u001b[39m(args, include):\n\u001b[1;32m     83\u001b[0m   \u001b[39mif\u001b[39;00m inc:\n\u001b[0;32m---> 84\u001b[0m     b_args\u001b[39m.\u001b[39mappend(take(a, b_idx))\n\u001b[1;32m     85\u001b[0m   \u001b[39melse\u001b[39;00m:\n\u001b[1;32m     86\u001b[0m     b_args\u001b[39m.\u001b[39mappend(a)\n",
      "File \u001b[0;32m~/.local/lib/python3.8/site-packages/brax/jumpy.py:148\u001b[0m, in \u001b[0;36mtake\u001b[0;34m(tree, i, axis)\u001b[0m\n\u001b[1;32m    146\u001b[0m \u001b[39mdef\u001b[39;00m \u001b[39mtake\u001b[39m(tree: Any, i: Union[ndarray, Sequence[\u001b[39mint\u001b[39m]], axis: \u001b[39mint\u001b[39m \u001b[39m=\u001b[39m \u001b[39m0\u001b[39m) \u001b[39m-\u001b[39m\u001b[39m>\u001b[39m Any:\n\u001b[1;32m    147\u001b[0m \u001b[39m  \u001b[39m\u001b[39m\"\"\"Returns tree sliced by i.\"\"\"\u001b[39;00m\n\u001b[0;32m--> 148\u001b[0m   np \u001b[39m=\u001b[39m _which_np(i)\n\u001b[1;32m    149\u001b[0m   \u001b[39mif\u001b[39;00m \u001b[39misinstance\u001b[39m(i, \u001b[39mlist\u001b[39m) \u001b[39mor\u001b[39;00m \u001b[39misinstance\u001b[39m(i, \u001b[39mtuple\u001b[39m):\n\u001b[1;32m    150\u001b[0m     i \u001b[39m=\u001b[39m np\u001b[39m.\u001b[39marray(i, dtype\u001b[39m=\u001b[39m\u001b[39mint\u001b[39m)\n",
      "File \u001b[0;32m~/.local/lib/python3.8/site-packages/brax/jumpy.py:46\u001b[0m, in \u001b[0;36m_which_np\u001b[0;34m(*args)\u001b[0m\n\u001b[1;32m     42\u001b[0m \u001b[39mdef\u001b[39;00m \u001b[39m_which_np\u001b[39m(\u001b[39m*\u001b[39margs):\n\u001b[1;32m     43\u001b[0m   checker \u001b[39m=\u001b[39m \u001b[39mlambda\u001b[39;00m a: (\n\u001b[1;32m     44\u001b[0m       \u001b[39misinstance\u001b[39m(a, (jnp\u001b[39m.\u001b[39mndarray, jax\u001b[39m.\u001b[39minterpreters\u001b[39m.\u001b[39mbatching\u001b[39m.\u001b[39mBatchTracer)) \u001b[39mand\u001b[39;00m\n\u001b[1;32m     45\u001b[0m       \u001b[39mnot\u001b[39;00m \u001b[39misinstance\u001b[39m(a, onp\u001b[39m.\u001b[39mndarray))\n\u001b[0;32m---> 46\u001b[0m   \u001b[39mif\u001b[39;00m builtins\u001b[39m.\u001b[39many(jax\u001b[39m.\u001b[39mtree_util\u001b[39m.\u001b[39mtree_leaves(tree_map(checker, args))):\n\u001b[1;32m     47\u001b[0m     \u001b[39mreturn\u001b[39;00m jnp\n\u001b[1;32m     48\u001b[0m   \u001b[39mreturn\u001b[39;00m onp\n",
      "File \u001b[0;32m~/.local/lib/python3.8/site-packages/jax/_src/tree_util.py:205\u001b[0m, in \u001b[0;36mtree_map\u001b[0;34m(f, tree, is_leaf, *rest)\u001b[0m\n\u001b[1;32m    171\u001b[0m \u001b[39mdef\u001b[39;00m \u001b[39mtree_map\u001b[39m(f: Callable[\u001b[39m.\u001b[39m\u001b[39m.\u001b[39m\u001b[39m.\u001b[39m, Any], tree: Any, \u001b[39m*\u001b[39mrest: Any,\n\u001b[1;32m    172\u001b[0m              is_leaf: Optional[Callable[[Any], \u001b[39mbool\u001b[39m]] \u001b[39m=\u001b[39m \u001b[39mNone\u001b[39;00m) \u001b[39m-\u001b[39m\u001b[39m>\u001b[39m Any:\n\u001b[1;32m    173\u001b[0m \u001b[39m  \u001b[39m\u001b[39m\"\"\"Maps a multi-input function over pytree args to produce a new pytree.\u001b[39;00m\n\u001b[1;32m    174\u001b[0m \n\u001b[1;32m    175\u001b[0m \u001b[39m  Args:\u001b[39;00m\n\u001b[0;32m   (...)\u001b[0m\n\u001b[1;32m    203\u001b[0m \u001b[39m    [[5, 7, 9], [6, 1, 2]]\u001b[39;00m\n\u001b[1;32m    204\u001b[0m \u001b[39m  \"\"\"\u001b[39;00m\n\u001b[0;32m--> 205\u001b[0m   leaves, treedef \u001b[39m=\u001b[39m tree_flatten(tree, is_leaf)\n\u001b[1;32m    206\u001b[0m   all_leaves \u001b[39m=\u001b[39m [leaves] \u001b[39m+\u001b[39m [treedef\u001b[39m.\u001b[39mflatten_up_to(r) \u001b[39mfor\u001b[39;00m r \u001b[39min\u001b[39;00m rest]\n\u001b[1;32m    207\u001b[0m   \u001b[39mreturn\u001b[39;00m treedef\u001b[39m.\u001b[39munflatten(f(\u001b[39m*\u001b[39mxs) \u001b[39mfor\u001b[39;00m xs \u001b[39min\u001b[39;00m \u001b[39mzip\u001b[39m(\u001b[39m*\u001b[39mall_leaves))\n",
      "File \u001b[0;32m~/.local/lib/python3.8/site-packages/jax/_src/tree_util.py:58\u001b[0m, in \u001b[0;36mtree_flatten\u001b[0;34m(tree, is_leaf)\u001b[0m\n\u001b[1;32m     39\u001b[0m \u001b[39mdef\u001b[39;00m \u001b[39mtree_flatten\u001b[39m(tree: Any,\n\u001b[1;32m     40\u001b[0m                  is_leaf: Optional[Callable[[Any], \u001b[39mbool\u001b[39m]] \u001b[39m=\u001b[39m \u001b[39mNone\u001b[39;00m\n\u001b[1;32m     41\u001b[0m                  ) \u001b[39m-\u001b[39m\u001b[39m>\u001b[39m Tuple[List[Leaf], PyTreeDef]:\n\u001b[1;32m     42\u001b[0m \u001b[39m  \u001b[39m\u001b[39m\"\"\"Flattens a pytree.\u001b[39;00m\n\u001b[1;32m     43\u001b[0m \n\u001b[1;32m     44\u001b[0m \u001b[39m  The flattening order (i.e. the order of elements in the output list)\u001b[39;00m\n\u001b[0;32m   (...)\u001b[0m\n\u001b[1;32m     56\u001b[0m \u001b[39m    element is a treedef representing the structure of the flattened tree.\u001b[39;00m\n\u001b[1;32m     57\u001b[0m \u001b[39m  \"\"\"\u001b[39;00m\n\u001b[0;32m---> 58\u001b[0m   \u001b[39mreturn\u001b[39;00m pytree\u001b[39m.\u001b[39;49mflatten(tree, is_leaf)\n",
      "\u001b[0;31mKeyboardInterrupt\u001b[0m: "
     ]
    }
   ],
   "source": [
    "object_count = 5\n",
    "\n",
    "config = create_config(object_count)\n",
    "\n",
    "# vis = gen_vis(config=config)\n",
    "\n",
    "\n",
    "\n",
    "sys = brax.System(config)\n",
    "qps = [sys.default_qp()]\n",
    "act = jnp.array([0.0])\n",
    "\n",
    "agent_velocity = 0.5\n",
    "qps[-1].vel[1, 0] = agent_velocity\n",
    "\n",
    "\n",
    "# Run the environment loop\n",
    "for i in range(10):\n",
    "    print(i)\n",
    "    action = jnp.array([jnp.sin(i / 10)])\n",
    "    qp, _ = sys.step(qps[-1], action)\n",
    "    qps.append(qp)\n",
    "\n",
    "HTML(html.render(sys, qps))"
   ]
  }
 ],
 "metadata": {
  "kernelspec": {
   "display_name": "Python 3",
   "language": "python",
   "name": "python3"
  },
  "language_info": {
   "codemirror_mode": {
    "name": "ipython",
    "version": 3
   },
   "file_extension": ".py",
   "mimetype": "text/x-python",
   "name": "python",
   "nbconvert_exporter": "python",
   "pygments_lexer": "ipython3",
   "version": "3.8.10"
  },
  "orig_nbformat": 4,
  "vscode": {
   "interpreter": {
    "hash": "31f2aee4e71d21fbe5cf8b01ff0e069b9275f58929596ceb00d14d90e3e16cd6"
   }
  }
 },
 "nbformat": 4,
 "nbformat_minor": 2
}
