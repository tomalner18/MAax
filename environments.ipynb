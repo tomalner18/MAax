{
 "cells": [
  {
   "cell_type": "code",
   "execution_count": 1,
   "metadata": {},
   "outputs": [],
   "source": [
    "import functools\n",
    "import time\n",
    "\n",
    "from IPython.display import HTML, Image\n",
    "import gym\n",
    "\n",
    "import brax\n",
    "\n",
    "from brax import envs\n",
    "from brax import jumpy as jp\n",
    "from brax.envs import to_torch\n",
    "from brax.io import html\n",
    "from brax.io import image\n",
    "import jax\n",
    "from jax import numpy as jnp\n",
    "from jax import random\n",
    "import torch\n",
    "# v = torch.ones(1, device='cuda')  # init torch cuda before jax\n",
    "v = torch.ones(1, device='cpu')  # init torch cuda before jax\n",
    "\n",
    "from builder import *\n",
    "from builder import distribute\n",
    "from builder.spawn import Spawner"
   ]
  },
  {
   "cell_type": "code",
   "execution_count": 2,
   "metadata": {},
   "outputs": [],
   "source": [
    "seed = 42\n",
    "key = random.PRNGKey(42)"
   ]
  },
  {
   "cell_type": "code",
   "execution_count": 3,
   "metadata": {},
   "outputs": [],
   "source": [
    "def add_agent(config, agent_mass=1.0, radius=0.5):\n",
    "    # Add the agent body\n",
    "    agent = config.bodies.add(name='agent')\n",
    "    sph = agent.colliders.add().sphere\n",
    "    sph.radius = radius\n",
    "    agent.mass = agent_mass\n",
    "    # agent.damping = 1e-2\n",
    "    # agent.friction = 0.6\n",
    "\n",
    "\n",
    "# Adds joint for rolling the agent\n",
    "def add_joint(config):\n",
    "    joint = config.joints.add(name='rolling')\n",
    "    joint.parent = 'ground'\n",
    "    joint.child = 'agent'\n",
    "    joint.angle = -1.57\n",
    "    joint.twist = 1.0\n",
    "    joint.limit.velocity = 100.0\n",
    "    joint.limit.torque = 100.0\n",
    "    joint.spring.stiffness = 1e5\n",
    "\n",
    "\n",
    "def add_objects(config, key, object_count, cube_mass=1.0, cube_halfsize=0.5):\n",
    "    key, *subkeys = random.split(key, object_count + 1)\n",
    "    for i in range(object_count):\n",
    "        cube = config.bodies.add(name=f'cube_{i}')\n",
    "        box = cube.colliders.add().box\n",
    "        box.halfsize.x = 0.5\n",
    "        box.halfsize.y = 0.5\n",
    "        box.halfsize.z = 0.5\n",
    "        cube.mass = cube_mass\n",
    "\n",
    "\n",
    "def distribute_objects(config, key, object_count):\n",
    "    default = config.defaults.add()\n",
    "    key, *subkeys = random.split(key, object_count + 1)\n",
    "    for i in range(object_count):\n",
    "        qp = default.qps.add(name=f'cube_{i}')\n",
    "        qp.pos.x = random.uniform(key=subkeys[i], minval=-10, maxval=10)\n",
    "        qp.pos.y = random.uniform(key=subkeys[i], minval=-10, maxval=10)\n",
    "        qp.pos.z = random.uniform(key=subkeys[i], minval=0, maxval=4)"
   ]
  },
  {
   "cell_type": "code",
   "execution_count": 4,
   "metadata": {},
   "outputs": [],
   "source": [
    "def create_config(object_count):\n",
    "    # Define the environment config.\n",
    "    sphere_maze = brax.Config(dt=0.01, substeps=20, dynamics_mode='pbd')\n",
    "    \n",
    "\n",
    "\n",
    "    sphere_maze.gravity.x = 0.0\n",
    "    sphere_maze.gravity.y = 0.0\n",
    "    sphere_maze.gravity.z = -9.8\n",
    "\n",
    "    # Add the ground, a frozen (immovable) infinite plane\n",
    "    ground = sphere_maze.bodies.add(name='ground')\n",
    "    ground.frozen.all = True\n",
    "    plane = ground.colliders.add().plane\n",
    "    plane.SetInParent()  # for setting an empty oneof\n",
    "\n",
    "    # Add the agent body\n",
    "    add_agent(sphere_maze)\n",
    "\n",
    "    # # Add the cubes.\n",
    "    # add_objects(sphere_maze, key, object_count=object_count)\n",
    "    # distribute_objects(sphere_maze, key, object_count=object_count)\n",
    "\n",
    "    return sphere_maze"
   ]
  },
  {
   "cell_type": "code",
   "execution_count": 5,
   "metadata": {},
   "outputs": [],
   "source": [
    "# Set the actions\n",
    "def set_action(env, action):\n",
    "    torque = jnp.array([0., 0., action[0]])\n",
    "    env.physics.forces['agent', 'rolling'].max_torque = jnp.abs(torque)\n",
    "    env.physics.forces['agent', 'rolling'].torque = torque\n",
    "\n",
    "def gen_vis(config):\n",
    "    # Create a visualization\n",
    "    vis_config = html.Config.from_config(config)\n",
    "    vis_config.side_length = 15\n",
    "    vis = html.Visualization(vis_config)\n",
    "    return vis"
   ]
  },
  {
   "cell_type": "code",
   "execution_count": 9,
   "metadata": {},
   "outputs": [
    {
     "name": "stdout",
     "output_type": "stream",
     "text": [
      "0\n",
      "1\n",
      "2\n",
      "3\n",
      "4\n"
     ]
    },
    {
     "data": {
      "text/html": [
       "\n",
       "<html>\n",
       "  <head>\n",
       "    <title>brax visualizer</title>\n",
       "    <style>\n",
       "      body {\n",
       "        margin: 0;\n",
       "        padding: 0;\n",
       "      }\n",
       "      #brax-viewer {\n",
       "        margin: 0;\n",
       "        padding: 0;\n",
       "        height: 480px;\n",
       "      }\n",
       "    </style>\n",
       "  </head>\n",
       "  <body>\n",
       "    <script type=\"application/javascript\">\n",
       "    var system = {\"config\": {\"bodies\": [{\"name\": \"ground\", \"colliders\": [{\"plane\": {}, \"material\": {\"elasticity\": 0.0, \"friction\": 0.0}, \"color\": \"\", \"hidden\": false, \"noContact\": false}], \"inertia\": {\"x\": 1.0, \"y\": 1.0, \"z\": 1.0}, \"frozen\": {\"position\": {\"x\": 1.0, \"y\": 1.0, \"z\": 1.0}, \"rotation\": {\"x\": 1.0, \"y\": 1.0, \"z\": 1.0}, \"all\": true}, \"mass\": 0.0}, {\"name\": \"agent\", \"colliders\": [{\"sphere\": {\"radius\": 0.5}, \"material\": {\"elasticity\": 0.0, \"friction\": 0.0}, \"color\": \"\", \"hidden\": false, \"noContact\": false}], \"inertia\": {\"x\": 1.0, \"y\": 1.0, \"z\": 1.0}, \"mass\": 1.0, \"frozen\": {\"position\": {\"x\": 0.0, \"y\": 0.0, \"z\": 0.0}, \"rotation\": {\"x\": 0.0, \"y\": 0.0, \"z\": 0.0}, \"all\": false}}, {\"name\": \"cube_0\", \"colliders\": [{\"box\": {\"halfsize\": {\"x\": 0.5, \"y\": 0.5, \"z\": 0.5}}, \"material\": {\"elasticity\": 0.0, \"friction\": 0.0}, \"color\": \"\", \"hidden\": false, \"noContact\": false}], \"inertia\": {\"x\": 1.0, \"y\": 1.0, \"z\": 1.0}, \"mass\": 1.0, \"frozen\": {\"position\": {\"x\": 0.0, \"y\": 0.0, \"z\": 0.0}, \"rotation\": {\"x\": 0.0, \"y\": 0.0, \"z\": 0.0}, \"all\": false}}, {\"name\": \"cube_1\", \"colliders\": [{\"box\": {\"halfsize\": {\"x\": 0.5, \"y\": 0.5, \"z\": 0.5}}, \"material\": {\"elasticity\": 0.0, \"friction\": 0.0}, \"color\": \"\", \"hidden\": false, \"noContact\": false}], \"inertia\": {\"x\": 1.0, \"y\": 1.0, \"z\": 1.0}, \"mass\": 1.0, \"frozen\": {\"position\": {\"x\": 0.0, \"y\": 0.0, \"z\": 0.0}, \"rotation\": {\"x\": 0.0, \"y\": 0.0, \"z\": 0.0}, \"all\": false}}, {\"name\": \"cube_2\", \"colliders\": [{\"box\": {\"halfsize\": {\"x\": 0.5, \"y\": 0.5, \"z\": 0.5}}, \"material\": {\"elasticity\": 0.0, \"friction\": 0.0}, \"color\": \"\", \"hidden\": false, \"noContact\": false}], \"inertia\": {\"x\": 1.0, \"y\": 1.0, \"z\": 1.0}, \"mass\": 1.0, \"frozen\": {\"position\": {\"x\": 0.0, \"y\": 0.0, \"z\": 0.0}, \"rotation\": {\"x\": 0.0, \"y\": 0.0, \"z\": 0.0}, \"all\": false}}, {\"name\": \"cube_3\", \"colliders\": [{\"box\": {\"halfsize\": {\"x\": 0.5, \"y\": 0.5, \"z\": 0.5}}, \"material\": {\"elasticity\": 0.0, \"friction\": 0.0}, \"color\": \"\", \"hidden\": false, \"noContact\": false}], \"inertia\": {\"x\": 1.0, \"y\": 1.0, \"z\": 1.0}, \"mass\": 1.0, \"frozen\": {\"position\": {\"x\": 0.0, \"y\": 0.0, \"z\": 0.0}, \"rotation\": {\"x\": 0.0, \"y\": 0.0, \"z\": 0.0}, \"all\": false}}, {\"name\": \"cube_4\", \"colliders\": [{\"box\": {\"halfsize\": {\"x\": 0.5, \"y\": 0.5, \"z\": 0.5}}, \"material\": {\"elasticity\": 0.0, \"friction\": 0.0}, \"color\": \"\", \"hidden\": false, \"noContact\": false}], \"inertia\": {\"x\": 1.0, \"y\": 1.0, \"z\": 1.0}, \"mass\": 1.0, \"frozen\": {\"position\": {\"x\": 0.0, \"y\": 0.0, \"z\": 0.0}, \"rotation\": {\"x\": 0.0, \"y\": 0.0, \"z\": 0.0}, \"all\": false}}, {\"name\": \"cube_5\", \"colliders\": [{\"box\": {\"halfsize\": {\"x\": 0.5, \"y\": 0.5, \"z\": 0.5}}, \"material\": {\"elasticity\": 0.0, \"friction\": 0.0}, \"color\": \"\", \"hidden\": false, \"noContact\": false}], \"inertia\": {\"x\": 1.0, \"y\": 1.0, \"z\": 1.0}, \"mass\": 1.0, \"frozen\": {\"position\": {\"x\": 0.0, \"y\": 0.0, \"z\": 0.0}, \"rotation\": {\"x\": 0.0, \"y\": 0.0, \"z\": 0.0}, \"all\": false}}, {\"name\": \"cube_6\", \"colliders\": [{\"box\": {\"halfsize\": {\"x\": 0.5, \"y\": 0.5, \"z\": 0.5}}, \"material\": {\"elasticity\": 0.0, \"friction\": 0.0}, \"color\": \"\", \"hidden\": false, \"noContact\": false}], \"inertia\": {\"x\": 1.0, \"y\": 1.0, \"z\": 1.0}, \"mass\": 1.0, \"frozen\": {\"position\": {\"x\": 0.0, \"y\": 0.0, \"z\": 0.0}, \"rotation\": {\"x\": 0.0, \"y\": 0.0, \"z\": 0.0}, \"all\": false}}], \"gravity\": {\"z\": -9.8, \"x\": 0.0, \"y\": 0.0}, \"dt\": 0.01, \"substeps\": 20, \"frozen\": {\"all\": false}, \"defaults\": [{\"qps\": [{\"name\": \"cube_0\", \"pos\": {\"x\": 3.8336432, \"y\": 2.72963, \"z\": 1.0}}, {\"name\": \"cube_1\", \"pos\": {\"x\": 1.5111707, \"y\": 7.371261, \"z\": 1.0}}, {\"name\": \"cube_2\", \"pos\": {\"x\": 6.137139, \"y\": 9.176587, \"z\": 1.0}}, {\"name\": \"cube_3\", \"pos\": {\"x\": 9.080604, \"y\": 8.252559, \"z\": 1.0}}, {\"name\": \"cube_4\", \"pos\": {\"x\": 9.086147, \"y\": 3.5988061, \"z\": 1.0}}, {\"name\": \"cube_5\", \"pos\": {\"x\": 6.340451, \"y\": 1.065831, \"z\": 1.0}}, {\"name\": \"cube_6\", \"pos\": {\"x\": 5.917902, \"y\": 6.0545917, \"z\": 1.0}}], \"angles\": []}], \"dynamicsMode\": \"pbd\", \"joints\": [], \"actuators\": [], \"forces\": [], \"elasticity\": 0.0, \"friction\": 0.0, \"velocityDamping\": 0.0, \"angularDamping\": 0.0, \"baumgarteErp\": 0.0, \"collideInclude\": [], \"colliderCutoff\": 0, \"meshGeometries\": []}, \"pos\": [[[0.0, 0.0, 0.0], [0.0, 0.0, 0.5], [3.8336431980133057, 2.7296299934387207, 1.0], [1.511170744895935, 7.371261119842529, 1.0], [6.137138843536377, 9.176587104797363, 1.0], [9.08060359954834, 8.252558708190918, 1.0], [9.08614730834961, 3.598806142807007, 1.0], [6.340450763702393, 1.065830945968628, 1.0], [5.917901992797852, 6.054591655731201, 1.0]], [[0.0, 0.0, 0.0], [0.004999999888241298, 0.0, 0.4999999999950996], [3.8336431980133057, 2.7296299934387207, 0.999485500012989], [1.511170744895935, 7.371261119842529, 0.999485500012989], [6.137138843536377, 9.176587104797363, 0.999485500012989], [9.08060359954834, 8.252558708190918, 0.999485500012989], [9.08614730834961, 3.598806142807007, 0.999485500012989], [6.340450763702393, 1.065830945968628, 0.999485500012989], [5.917901992797852, 6.054591655731201, 0.999485500012989]], [[0.0, 0.0, 0.0], [0.00999999977648261, 0.0, 0.4999999999950992], [3.8336431980133057, 2.7296299934387207, 0.9979910000507188], [1.511170744895935, 7.371261119842529, 0.9979910000507188], [6.137138843536377, 9.176587104797363, 0.9979910000507188], [9.08060359954834, 8.252558708190918, 0.9979910000507188], [9.08614730834961, 3.598806142807007, 0.9979910000507188], [6.340450763702393, 1.065830945968628, 0.9979910000507188], [5.917901992797852, 6.054591655731201, 0.9979910000507188]], [[0.0, 0.0, 0.0], [0.014999999664723922, 0.0, 0.4999999999950988], [3.8336431980133057, 2.7296299934387207, 0.9955165001131896], [1.511170744895935, 7.371261119842529, 0.9955165001131896], [6.137138843536377, 9.176587104797363, 0.9955165001131896], [9.08060359954834, 8.252558708190918, 0.9955165001131896], [9.08614730834961, 3.598806142807007, 0.9955165001131896], [6.340450763702393, 1.065830945968628, 0.9955165001131896], [5.917901992797852, 6.054591655731201, 0.9955165001131896]], [[0.0, 0.0, 0.0], [0.019999999552965202, 0.0, 0.4999999999950984], [3.8336431980133057, 2.7296299934387207, 0.9920620002004013], [1.511170744895935, 7.371261119842529, 0.9920620002004013], [6.137138843536377, 9.176587104797363, 0.9920620002004013], [9.08060359954834, 8.252558708190918, 0.9920620002004013], [9.08614730834961, 3.598806142807007, 0.9920620002004013], [6.340450763702393, 1.065830945968628, 0.9920620002004013], [5.917901992797852, 6.054591655731201, 0.9920620002004013]], [[0.0, 0.0, 0.0], [0.02499999944120648, 0.0, 0.49999999999509803], [3.8336431980133057, 2.7296299934387207, 0.9876275003123538], [1.511170744895935, 7.371261119842529, 0.9876275003123538], [6.137138843536377, 9.176587104797363, 0.9876275003123538], [9.08060359954834, 8.252558708190918, 0.9876275003123538], [9.08614730834961, 3.598806142807007, 0.9876275003123538], [6.340450763702393, 1.065830945968628, 0.9876275003123538], [5.917901992797852, 6.054591655731201, 0.9876275003123538]]], \"rot\": [[[1.0, 0.0, 0.0, 0.0], [1.0, 0.0, 0.0, 0.0], [1.0, 0.0, 0.0, 0.0], [1.0, 0.0, 0.0, 0.0], [1.0, 0.0, 0.0, 0.0], [1.0, 0.0, 0.0, 0.0], [1.0, 0.0, 0.0, 0.0], [1.0, 0.0, 0.0, 0.0], [1.0, 0.0, 0.0, 0.0]], [[1.0, 0.0, 0.0, 0.0], [1.0, 0.0, 0.0, 0.0], [1.0, 0.0, 0.0, 0.0], [1.0, 0.0, 0.0, 0.0], [1.0, 0.0, 0.0, 0.0], [1.0, 0.0, 0.0, 0.0], [1.0, 0.0, 0.0, 0.0], [1.0, 0.0, 0.0, 0.0], [1.0, 0.0, 0.0, 0.0]], [[1.0, 0.0, 0.0, 0.0], [1.0, 0.0, 0.0, 0.0], [1.0, 0.0, 0.0, 0.0], [1.0, 0.0, 0.0, 0.0], [1.0, 0.0, 0.0, 0.0], [1.0, 0.0, 0.0, 0.0], [1.0, 0.0, 0.0, 0.0], [1.0, 0.0, 0.0, 0.0], [1.0, 0.0, 0.0, 0.0]], [[1.0, 0.0, 0.0, 0.0], [1.0, 0.0, 0.0, 0.0], [1.0, 0.0, 0.0, 0.0], [1.0, 0.0, 0.0, 0.0], [1.0, 0.0, 0.0, 0.0], [1.0, 0.0, 0.0, 0.0], [1.0, 0.0, 0.0, 0.0], [1.0, 0.0, 0.0, 0.0], [1.0, 0.0, 0.0, 0.0]], [[1.0, 0.0, 0.0, 0.0], [1.0, 0.0, 0.0, 0.0], [1.0, 0.0, 0.0, 0.0], [1.0, 0.0, 0.0, 0.0], [1.0, 0.0, 0.0, 0.0], [1.0, 0.0, 0.0, 0.0], [1.0, 0.0, 0.0, 0.0], [1.0, 0.0, 0.0, 0.0], [1.0, 0.0, 0.0, 0.0]], [[1.0, 0.0, 0.0, 0.0], [1.0, 0.0, 0.0, 0.0], [1.0, 0.0, 0.0, 0.0], [1.0, 0.0, 0.0, 0.0], [1.0, 0.0, 0.0, 0.0], [1.0, 0.0, 0.0, 0.0], [1.0, 0.0, 0.0, 0.0], [1.0, 0.0, 0.0, 0.0], [1.0, 0.0, 0.0, 0.0]]], \"debug\": false};\n",
       "    </script>\n",
       "    <div id=\"brax-viewer\"></div>\n",
       "    <script type=\"module\">\n",
       "      import {Viewer} from 'https://cdn.jsdelivr.net/gh/google/brax@v0.0.15/js/viewer.js';\n",
       "      const domElement = document.getElementById('brax-viewer');\n",
       "      var viewer = new Viewer(domElement, system);\n",
       "    </script>\n",
       "  </body>\n",
       "</html>\n"
      ],
      "text/plain": [
       "<IPython.core.display.HTML object>"
      ]
     },
     "execution_count": 9,
     "metadata": {},
     "output_type": "execute_result"
    }
   ],
   "source": [
    "object_count = 5\n",
    "\n",
    "config = create_config(object_count)\n",
    "\n",
    "# vis = gen_vis(config=config)\n",
    "spawner = Spawner()\n",
    "spawner.spawn_objects(config, key, space_dim=(10,10), separation=3, obj_type=\"box\", method=\"poisson\")\n",
    "\n",
    "\n",
    "sys = brax.System(config)\n",
    "qps = [sys.default_qp()]\n",
    "act = jnp.array([0.0])\n",
    "\n",
    "agent_velocity = 0.5\n",
    "qps[-1].vel[1, 0] = agent_velocity\n",
    "\n",
    "\n",
    "# Run the environment loop\n",
    "for i in range(5):\n",
    "    print(i)\n",
    "    action = jnp.array([jnp.sin(i / 10)])\n",
    "    qp, _ = sys.step(qps[-1], action)\n",
    "    qps.append(qp)\n",
    "\n",
    "HTML(html.render(sys, qps))"
   ]
  }
 ],
 "metadata": {
  "kernelspec": {
   "display_name": "Python 3.10.7 64-bit ('3.10.7')",
   "language": "python",
   "name": "python3"
  },
  "language_info": {
   "codemirror_mode": {
    "name": "ipython",
    "version": 3
   },
   "file_extension": ".py",
   "mimetype": "text/x-python",
   "name": "python",
   "nbconvert_exporter": "python",
   "pygments_lexer": "ipython3",
   "version": "3.10.7"
  },
  "orig_nbformat": 4,
  "vscode": {
   "interpreter": {
    "hash": "5514435b58ad5f7fd69622cca8bf6af34dc44a74474c998033444f4333d5029a"
   }
  }
 },
 "nbformat": 4,
 "nbformat_minor": 2
}
